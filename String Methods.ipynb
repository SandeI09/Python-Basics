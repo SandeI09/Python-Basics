{
 "cells": [
  {
   "cell_type": "code",
   "execution_count": null,
   "id": "a1265138",
   "metadata": {},
   "outputs": [],
   "source": [
    "name = \"S@ndesh\""
   ]
  },
  {
   "cell_type": "code",
   "execution_count": null,
   "id": "b7cffb33",
   "metadata": {},
   "outputs": [],
   "source": [
    "name[1]"
   ]
  },
  {
   "cell_type": "code",
   "execution_count": null,
   "id": "1072e543",
   "metadata": {},
   "outputs": [],
   "source": [
    "name[1] = \"s\"   #String is immutable data type"
   ]
  },
  {
   "cell_type": "markdown",
   "id": "b9c4adb1",
   "metadata": {},
   "source": [
    "# Immutable ma same memory location ma gayera value update garna mildaina"
   ]
  },
  {
   "cell_type": "code",
   "execution_count": null,
   "id": "42bc83f8",
   "metadata": {},
   "outputs": [],
   "source": [
    "name = \"S@ndesh\"\n",
    "name.replace('@','a')"
   ]
  },
  {
   "cell_type": "code",
   "execution_count": null,
   "id": "b526ac76",
   "metadata": {},
   "outputs": [],
   "source": [
    "name"
   ]
  },
  {
   "cell_type": "code",
   "execution_count": null,
   "id": "39ce8f35",
   "metadata": {},
   "outputs": [],
   "source": [
    "name = \"S@ndesh\"\n",
    "id(name)\n"
   ]
  },
  {
   "cell_type": "code",
   "execution_count": null,
   "id": "5f00946c",
   "metadata": {},
   "outputs": [],
   "source": [
    "name = name.replace('@','a')\n",
    "id(name)"
   ]
  },
  {
   "cell_type": "code",
   "execution_count": null,
   "id": "2e260f38",
   "metadata": {},
   "outputs": [],
   "source": [
    "greet = \"Hello\"\n",
    "greet[1].upper()\n",
    "greet"
   ]
  },
  {
   "cell_type": "code",
   "execution_count": null,
   "id": "666353be",
   "metadata": {},
   "outputs": [],
   "source": [
    "dialogue = \"nepali le cHance pye garxa\"\n",
    "dialogue.title()"
   ]
  },
  {
   "cell_type": "markdown",
   "id": "a19e69ae",
   "metadata": {},
   "source": [
    "# strip(), .lstrip(), .rstrip()"
   ]
  },
  {
   "cell_type": "code",
   "execution_count": null,
   "id": "5d57623c",
   "metadata": {},
   "outputs": [],
   "source": [
    "samachar = \"     Prachanda le Murra Vaisi layee     \"\n",
    "samachar.strip()       # Both sides, i.e. Leading and trailing spaces janxa"
   ]
  },
  {
   "cell_type": "code",
   "execution_count": null,
   "id": "cd4ba77b",
   "metadata": {},
   "outputs": [],
   "source": [
    "samachar = \"     Prachanda le Murra Vaisi layee     \"\n",
    "samachar.lstrip()"
   ]
  },
  {
   "cell_type": "code",
   "execution_count": null,
   "id": "20707b73",
   "metadata": {},
   "outputs": [],
   "source": [
    "samachar = \"     Prachanda le Murra Vaisi layee     \"\n",
    "samachar.rstrip()"
   ]
  },
  {
   "cell_type": "markdown",
   "id": "6d639b20",
   "metadata": {},
   "source": [
    "# .split()"
   ]
  },
  {
   "cell_type": "code",
   "execution_count": null,
   "id": "95e2a653",
   "metadata": {},
   "outputs": [],
   "source": [
    "khabar = \"Aja ko taja khabar jun you wont even get to eat.\""
   ]
  },
  {
   "cell_type": "code",
   "execution_count": null,
   "id": "01192d7d",
   "metadata": {},
   "outputs": [],
   "source": [
    "khabar = khabar.split(\" \")\n",
    "print(khabar)"
   ]
  },
  {
   "cell_type": "code",
   "execution_count": null,
   "id": "89d1c55c",
   "metadata": {},
   "outputs": [],
   "source": [
    "type(khabar)"
   ]
  },
  {
   "cell_type": "markdown",
   "id": "bc0217fb",
   "metadata": {},
   "source": [
    "# .join()"
   ]
  },
  {
   "cell_type": "code",
   "execution_count": null,
   "id": "94d82a38",
   "metadata": {},
   "outputs": [],
   "source": [
    "color = \"Green Blue Red\"\n",
    "color_list = color.split(\" \")\n",
    "print(color_list)\n",
    "color_list = \" \".join(color_list)\n",
    "print(color_list)"
   ]
  },
  {
   "cell_type": "markdown",
   "id": "9dacc0c7",
   "metadata": {},
   "source": [
    "# Assignments"
   ]
  },
  {
   "cell_type": "markdown",
   "id": "4a7ed3d9",
   "metadata": {},
   "source": [
    "## 1. WAP to print the entered string in reverse order"
   ]
  },
  {
   "cell_type": "code",
   "execution_count": null,
   "id": "cf4c40b2",
   "metadata": {},
   "outputs": [],
   "source": [
    "string = input(\"Enter the string: \")\n",
    "\n",
    "for index in range(len(string)-1,-1,-1):\n",
    "\n",
    "    final_string = \"\".join(string[index])\n",
    "    print(final_string)\n",
    "    \n"
   ]
  },
  {
   "cell_type": "markdown",
   "id": "18897d2d",
   "metadata": {},
   "source": [
    "## 3. WAP to capatilize input words"
   ]
  },
  {
   "cell_type": "code",
   "execution_count": null,
   "id": "abdf8838",
   "metadata": {},
   "outputs": [],
   "source": [
    "string = input(\"Enter the word: \")\n",
    "print(string.upper())"
   ]
  },
  {
   "cell_type": "markdown",
   "id": "0eb2a9d6",
   "metadata": {},
   "source": [
    "## 4. WAP to input a string and replace vowels with 0"
   ]
  },
  {
   "cell_type": "code",
   "execution_count": 5,
   "id": "c5f07bef",
   "metadata": {},
   "outputs": [
    {
     "name": "stdout",
     "output_type": "stream",
     "text": [
      "Enter the word: and o akndjsn\n",
      "ond o okndjsn\n"
     ]
    }
   ],
   "source": [
    "final_string = \"\"\n",
    "word = input(\"Enter the word: \")\n",
    "for index, letter in enumerate(word):\n",
    "    if letter.lower() == 'a' or letter == 'e' or letter == 'i' or letter == 'o' or letter == 'u':\n",
    "        final_string = final_string + \"o\"\n",
    "        \n",
    "    elif letter == \" \":\n",
    "        final_string = final_string + \" \"\n",
    "        continue  #Skips the loop if this is avaiable\n",
    "        \n",
    "    else:\n",
    "        final_string = final_string + letter\n",
    "        \n",
    "print(final_string)\n",
    "   "
   ]
  },
  {
   "cell_type": "markdown",
   "id": "5267647e",
   "metadata": {},
   "source": [
    "## 5. WAP to enter two string and concatenate them"
   ]
  },
  {
   "cell_type": "code",
   "execution_count": null,
   "id": "b1c6ebf4",
   "metadata": {},
   "outputs": [],
   "source": [
    "string1 = input(\"Enter first string: \")\n",
    "string2 = input(\"Enter second string: \")\n",
    "\n",
    "final_string = string1 + \" \" + string2\n",
    "print(final_string)"
   ]
  },
  {
   "cell_type": "markdown",
   "id": "f1239d93",
   "metadata": {},
   "source": [
    "## 6. WAP to enter a string and remove first and last characters"
   ]
  },
  {
   "cell_type": "code",
   "execution_count": 7,
   "id": "bff218f1",
   "metadata": {},
   "outputs": [
    {
     "name": "stdout",
     "output_type": "stream",
     "text": [
      "Enter the string: sandes\n",
      "ande\n"
     ]
    }
   ],
   "source": [
    "string = input(\"Enter the string: \")\n",
    "no_of_characters = len(string)-1\n",
    "string = string[1:no_of_characters]\n",
    "print(string)"
   ]
  },
  {
   "cell_type": "markdown",
   "id": "d43ba88f",
   "metadata": {},
   "source": [
    "## 7. WAP to write a string and remove all spaces between them"
   ]
  },
  {
   "cell_type": "code",
   "execution_count": 8,
   "id": "99119be8",
   "metadata": {},
   "outputs": [
    {
     "name": "stdout",
     "output_type": "stream",
     "text": [
      "Enter the string: sandesh subdie sjdnjs \n",
      "sandeshsubdiesjdnjs\n"
     ]
    }
   ],
   "source": [
    "final_string = \"\"\n",
    "word = input(\"Enter the string: \")\n",
    "for index, letter in enumerate(word):\n",
    "    if letter == \" \":\n",
    "        continue  #Skips the loop if this is avaiable \n",
    "        \n",
    "    else:\n",
    "        final_string = final_string + letter\n",
    "        \n",
    "print(final_string)\n"
   ]
  },
  {
   "cell_type": "markdown",
   "id": "88fdbb59",
   "metadata": {},
   "source": [
    "## 8.WAP to enter a string and print the words in reverse order"
   ]
  },
  {
   "cell_type": "code",
   "execution_count": 17,
   "id": "e23cd64c",
   "metadata": {},
   "outputs": [
    {
     "name": "stdout",
     "output_type": "stream",
     "text": [
      "Enter the string: and we are together\n",
      "together\n",
      "are\n",
      "we\n",
      "and\n",
      "\n",
      "together are we and\n"
     ]
    }
   ],
   "source": [
    "final_string = \"\"\n",
    "word = input(\"Enter the string: \").strip().split(\" \")\n",
    "for index in range(len(word)-1,-1,-1):\n",
    "    print(word[index])\n",
    "    final_string = final_string + \" \" + word[index]\n",
    "    \n",
    "print()\n",
    "print(final_string.strip())"
   ]
  },
  {
   "cell_type": "markdown",
   "id": "2f7dc92e",
   "metadata": {},
   "source": [
    "## WAP to extract fruit name from a sentence"
   ]
  },
  {
   "cell_type": "code",
   "execution_count": 2,
   "id": "ab74d415",
   "metadata": {},
   "outputs": [
    {
     "name": "stdout",
     "output_type": "stream",
     "text": [
      "Enter the sentence: I like apples but hate orange but not kiwi\n",
      "['orange', 'kiwi']\n"
     ]
    }
   ],
   "source": [
    "final_string = \"\"\n",
    "sentence = input(\"Enter the sentence: \").strip().split(\" \")\n",
    "for index, letter in enumerate(sentence):\n",
    "    if letter.lower() == 'apple' or letter == 'banana' or letter == 'pineapple' or letter == 'kiwi' or letter == 'orange':\n",
    "        final_string = final_string + \" \" + letter\n",
    "        \n",
    "    else:\n",
    "        continue\n",
    "\n",
    "\n",
    "print(final_string.split())\n",
    "   "
   ]
  },
  {
   "cell_type": "markdown",
   "id": "979df7f7",
   "metadata": {},
   "source": [
    "# Concat"
   ]
  },
  {
   "cell_type": "code",
   "execution_count": 3,
   "id": "5ebee6d6",
   "metadata": {},
   "outputs": [
    {
     "data": {
      "text/plain": [
       "'SiyaRan'"
      ]
     },
     "execution_count": 3,
     "metadata": {},
     "output_type": "execute_result"
    }
   ],
   "source": [
    "'Siya' + 'Ran'"
   ]
  },
  {
   "cell_type": "code",
   "execution_count": 4,
   "id": "aec677c6",
   "metadata": {},
   "outputs": [
    {
     "data": {
      "text/plain": [
       "'RamRam'"
      ]
     },
     "execution_count": 4,
     "metadata": {},
     "output_type": "execute_result"
    }
   ],
   "source": [
    "'Ram' + 'Ram'"
   ]
  },
  {
   "cell_type": "code",
   "execution_count": 7,
   "id": "8c839816",
   "metadata": {},
   "outputs": [
    {
     "data": {
      "text/plain": [
       "'RamRamRamRam'"
      ]
     },
     "execution_count": 7,
     "metadata": {},
     "output_type": "execute_result"
    }
   ],
   "source": [
    "'RamRam' * 2"
   ]
  }
 ],
 "metadata": {
  "kernelspec": {
   "display_name": "Python 3 (ipykernel)",
   "language": "python",
   "name": "python3"
  },
  "language_info": {
   "codemirror_mode": {
    "name": "ipython",
    "version": 3
   },
   "file_extension": ".py",
   "mimetype": "text/x-python",
   "name": "python",
   "nbconvert_exporter": "python",
   "pygments_lexer": "ipython3",
   "version": "3.10.11"
  }
 },
 "nbformat": 4,
 "nbformat_minor": 5
}
