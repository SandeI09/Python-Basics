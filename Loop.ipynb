{
 "cells": [
  {
   "cell_type": "code",
   "execution_count": null,
   "id": "6821ef2a",
   "metadata": {},
   "outputs": [],
   "source": [
    "s = 'Hello World!'\n",
    "\n",
    "for index in range(0,len(s),1):\n",
    "    letter = s[index]\n",
    "    print(f\"Index is {index} and its corresponding letter is {letter}\")\n",
    "    index+=1"
   ]
  },
  {
   "cell_type": "markdown",
   "id": "ef71c522",
   "metadata": {},
   "source": [
    "# Reversing the above loop"
   ]
  },
  {
   "cell_type": "code",
   "execution_count": null,
   "id": "0e971fee",
   "metadata": {},
   "outputs": [],
   "source": [
    "s = 'Hello World!'\n",
    "\n",
    "for index in range(len(s)-1,-1,-1):\n",
    "    letter = s[index]\n",
    "    print(f\"Index is {index} and its corresponding letter is {letter}\")\n",
    "    index+=1"
   ]
  },
  {
   "cell_type": "markdown",
   "id": "d33e39ba",
   "metadata": {},
   "source": [
    "# Next way for `For` Loop"
   ]
  },
  {
   "cell_type": "code",
   "execution_count": null,
   "id": "70307283",
   "metadata": {},
   "outputs": [],
   "source": [
    "s = 'Hello World!'\n",
    "\n",
    "for letter in s:\n",
    "    print(letter)"
   ]
  },
  {
   "cell_type": "markdown",
   "id": "639f52e0",
   "metadata": {},
   "source": [
    "# Most non risky way for `For` Loop"
   ]
  },
  {
   "cell_type": "code",
   "execution_count": null,
   "id": "923dbd41",
   "metadata": {},
   "outputs": [],
   "source": [
    "s = 'Hello World!'\n",
    "\n",
    "for index,letter in enumerate(s):\n",
    "    print(index, letter)"
   ]
  },
  {
   "cell_type": "markdown",
   "id": "a32ee477",
   "metadata": {},
   "source": [
    "# Identifying if the sting has vowel or consonant letters"
   ]
  },
  {
   "cell_type": "code",
   "execution_count": null,
   "id": "c88c3440",
   "metadata": {},
   "outputs": [],
   "source": [
    "vowel = 0\n",
    "consonant = 0\n",
    "\n",
    "\n",
    "word = input(\"Enter the word: \")\n",
    "for index, letter in enumerate(word):\n",
    "    if letter.lower() == 'a' or letter == 'e' or letter == 'i' or letter == 'o' or letter == 'u':\n",
    "        print(f\"{letter} is vowel.\")\n",
    "        vowel = int(vowel) + 1\n",
    "        \n",
    "    elif letter == \" \":\n",
    "        print(\"  \")\n",
    "        continue  #Skips the loop if this is avaiable\n",
    "        \n",
    "    else:\n",
    "        print(f\"{letter} is consonant.\")\n",
    "        consonant = int(consonant) + 1\n",
    "   \n",
    "print()\n",
    "print(f\"No of vowel = {vowel} and No of consonant = {consonant}\")"
   ]
  },
  {
   "cell_type": "markdown",
   "id": "4312067e",
   "metadata": {},
   "source": [
    "# Skip the number divisible by 3 in range(1,10)"
   ]
  },
  {
   "cell_type": "code",
   "execution_count": null,
   "id": "fc02d188",
   "metadata": {},
   "outputs": [],
   "source": [
    "for index in range(1,10):\n",
    "    if index % 3 == 0:     #3 le divide garne number lai skip garxa\n",
    "        continue\n",
    "        \n",
    "    else:\n",
    "        print(index)\n",
    "    "
   ]
  },
  {
   "cell_type": "code",
   "execution_count": 1,
   "id": "e6bcac5f",
   "metadata": {},
   "outputs": [
    {
     "name": "stdout",
     "output_type": "stream",
     "text": [
      "1\n",
      "2\n",
      "Loop break vayara Code loop bahaira aayo\n"
     ]
    }
   ],
   "source": [
    "for index in range(1,10):\n",
    "    if index % 3 == 0:     \n",
    "        break                   #3 le divide garne number aaye loop break hunxa \n",
    "               \n",
    "    else:\n",
    "        print(index)\n",
    "        \n",
    "print(\"Loop break vayara Code loop bahaira aayo\")\n",
    "    "
   ]
  },
  {
   "cell_type": "code",
   "execution_count": 3,
   "id": "28b26e45",
   "metadata": {},
   "outputs": [
    {
     "name": "stdout",
     "output_type": "stream",
     "text": [
      "H\n",
      "e\n",
      "l\n",
      "l\n",
      "o\n"
     ]
    }
   ],
   "source": [
    "s = \"Hello, World\"\n",
    "\n",
    "for letter in s:\n",
    "    if letter == \",\":\n",
    "        break\n",
    "    else:\n",
    "        print(letter)\n",
    "\n"
   ]
  },
  {
   "cell_type": "code",
   "execution_count": null,
   "id": "484d27a7",
   "metadata": {},
   "outputs": [],
   "source": []
  }
 ],
 "metadata": {
  "kernelspec": {
   "display_name": "Python 3 (ipykernel)",
   "language": "python",
   "name": "python3"
  },
  "language_info": {
   "codemirror_mode": {
    "name": "ipython",
    "version": 3
   },
   "file_extension": ".py",
   "mimetype": "text/x-python",
   "name": "python",
   "nbconvert_exporter": "python",
   "pygments_lexer": "ipython3",
   "version": "3.10.11"
  }
 },
 "nbformat": 4,
 "nbformat_minor": 5
}
