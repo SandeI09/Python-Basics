{
 "cells": [
  {
   "cell_type": "markdown",
   "id": "89fb56bd",
   "metadata": {},
   "source": [
    "# Set\n",
    "* Collection of items under one variable name\n",
    "* Doesnt allow duplicate\n",
    "* Unindexed, Unordered\n",
    "* Mutable\n",
    "* Written in curly bracket"
   ]
  },
  {
   "cell_type": "code",
   "execution_count": 3,
   "id": "ef8a107d",
   "metadata": {},
   "outputs": [],
   "source": [
    "thakali_set = {\"Bhat\", \"Dal\", \"Masu\", \"Ghee\", \"Alu\", \"Gundruk\", \"Achar\", \"Dahi\"}"
   ]
  },
  {
   "cell_type": "code",
   "execution_count": 6,
   "id": "facdf911",
   "metadata": {},
   "outputs": [
    {
     "name": "stdout",
     "output_type": "stream",
     "text": [
      "{'Alu', 'Bhat', 'Gundruk', 'Achar', 'Dal', 'Dahi', 'Masu', 'Ghee'}\n"
     ]
    },
    {
     "data": {
      "text/plain": [
       "set"
      ]
     },
     "execution_count": 6,
     "metadata": {},
     "output_type": "execute_result"
    }
   ],
   "source": [
    "print(thakali_set) # Unordered\n",
    "type(thakali_set)"
   ]
  },
  {
   "cell_type": "code",
   "execution_count": 7,
   "id": "d79c5463",
   "metadata": {},
   "outputs": [
    {
     "ename": "TypeError",
     "evalue": "'set' object is not subscriptable",
     "output_type": "error",
     "traceback": [
      "\u001b[1;31m---------------------------------------------------------------------------\u001b[0m",
      "\u001b[1;31mTypeError\u001b[0m                                 Traceback (most recent call last)",
      "Cell \u001b[1;32mIn[7], line 1\u001b[0m\n\u001b[1;32m----> 1\u001b[0m \u001b[43mthakali_set\u001b[49m\u001b[43m[\u001b[49m\u001b[38;5;241;43m0\u001b[39;49m\u001b[43m]\u001b[49m   \u001b[38;5;66;03m# Unindexed\u001b[39;00m\n",
      "\u001b[1;31mTypeError\u001b[0m: 'set' object is not subscriptable"
     ]
    }
   ],
   "source": [
    "thakali_set[0]   # Unindexed"
   ]
  },
  {
   "cell_type": "markdown",
   "id": "0fc8b2a5",
   "metadata": {},
   "source": [
    "# You can add and/or remove items in set"
   ]
  },
  {
   "cell_type": "code",
   "execution_count": 8,
   "id": "963938ef",
   "metadata": {},
   "outputs": [],
   "source": [
    "thakali_set.add(\"sagh\")"
   ]
  },
  {
   "cell_type": "code",
   "execution_count": 9,
   "id": "6b85f00d",
   "metadata": {},
   "outputs": [
    {
     "data": {
      "text/plain": [
       "{'Achar', 'Alu', 'Bhat', 'Dahi', 'Dal', 'Ghee', 'Gundruk', 'Masu', 'sagh'}"
      ]
     },
     "execution_count": 9,
     "metadata": {},
     "output_type": "execute_result"
    }
   ],
   "source": [
    "thakali_set"
   ]
  },
  {
   "cell_type": "code",
   "execution_count": 10,
   "id": "00ecc4eb",
   "metadata": {},
   "outputs": [],
   "source": [
    "thakali_set.remove(\"Dal\")"
   ]
  },
  {
   "cell_type": "code",
   "execution_count": 11,
   "id": "02ea13ce",
   "metadata": {},
   "outputs": [
    {
     "data": {
      "text/plain": [
       "{'Achar', 'Alu', 'Bhat', 'Dahi', 'Ghee', 'Gundruk', 'Masu', 'sagh'}"
      ]
     },
     "execution_count": 11,
     "metadata": {},
     "output_type": "execute_result"
    }
   ],
   "source": [
    "thakali_set"
   ]
  },
  {
   "cell_type": "code",
   "execution_count": 12,
   "id": "7a4efb11",
   "metadata": {},
   "outputs": [
    {
     "ename": "KeyError",
     "evalue": "'Salad'",
     "output_type": "error",
     "traceback": [
      "\u001b[1;31m---------------------------------------------------------------------------\u001b[0m",
      "\u001b[1;31mKeyError\u001b[0m                                  Traceback (most recent call last)",
      "Cell \u001b[1;32mIn[12], line 1\u001b[0m\n\u001b[1;32m----> 1\u001b[0m \u001b[43mthakali_set\u001b[49m\u001b[38;5;241;43m.\u001b[39;49m\u001b[43mremove\u001b[49m\u001b[43m(\u001b[49m\u001b[38;5;124;43m\"\u001b[39;49m\u001b[38;5;124;43mSalad\u001b[39;49m\u001b[38;5;124;43m\"\u001b[39;49m\u001b[43m)\u001b[49m\n",
      "\u001b[1;31mKeyError\u001b[0m: 'Salad'"
     ]
    }
   ],
   "source": [
    "thakali_set.remove(\"Salad\")"
   ]
  },
  {
   "cell_type": "code",
   "execution_count": 14,
   "id": "95650ce1",
   "metadata": {},
   "outputs": [],
   "source": [
    "thakali_set.discard(\"Salad\")   # Discard le cha vane falxa, Xaina vane chupa layera basxa"
   ]
  },
  {
   "cell_type": "markdown",
   "id": "a9062174",
   "metadata": {},
   "source": [
    "# Set operations"
   ]
  },
  {
   "cell_type": "code",
   "execution_count": 15,
   "id": "334850d7",
   "metadata": {},
   "outputs": [],
   "source": [
    "A = {\"apple\", \"banana\", \"Cherry\"}\n",
    "B = {\"google\", \"microsoft\", \"apple\"}"
   ]
  },
  {
   "cell_type": "code",
   "execution_count": 16,
   "id": "dc8b3b1c",
   "metadata": {},
   "outputs": [
    {
     "data": {
      "text/plain": [
       "{'apple'}"
      ]
     },
     "execution_count": 16,
     "metadata": {},
     "output_type": "execute_result"
    }
   ],
   "source": [
    "A.intersection(B)"
   ]
  },
  {
   "cell_type": "code",
   "execution_count": 17,
   "id": "66b16f9d",
   "metadata": {},
   "outputs": [
    {
     "data": {
      "text/plain": [
       "{'apple'}"
      ]
     },
     "execution_count": 17,
     "metadata": {},
     "output_type": "execute_result"
    }
   ],
   "source": [
    "B.intersection(A)"
   ]
  },
  {
   "cell_type": "code",
   "execution_count": 18,
   "id": "ca2dccc6",
   "metadata": {},
   "outputs": [
    {
     "data": {
      "text/plain": [
       "{'Cherry', 'apple', 'banana', 'google', 'microsoft'}"
      ]
     },
     "execution_count": 18,
     "metadata": {},
     "output_type": "execute_result"
    }
   ],
   "source": [
    "A.union(B)"
   ]
  },
  {
   "cell_type": "code",
   "execution_count": 19,
   "id": "68179fdf",
   "metadata": {},
   "outputs": [
    {
     "data": {
      "text/plain": [
       "{'Cherry', 'apple', 'banana', 'google', 'microsoft'}"
      ]
     },
     "execution_count": 19,
     "metadata": {},
     "output_type": "execute_result"
    }
   ],
   "source": [
    "B.union(A)"
   ]
  },
  {
   "cell_type": "code",
   "execution_count": 25,
   "id": "26a4820c",
   "metadata": {},
   "outputs": [
    {
     "data": {
      "text/plain": [
       "{'Cherry', 'banana'}"
      ]
     },
     "execution_count": 25,
     "metadata": {},
     "output_type": "execute_result"
    }
   ],
   "source": [
    "A.difference(B)"
   ]
  },
  {
   "cell_type": "code",
   "execution_count": 26,
   "id": "24025a7f",
   "metadata": {},
   "outputs": [
    {
     "data": {
      "text/plain": [
       "{'google', 'microsoft'}"
      ]
     },
     "execution_count": 26,
     "metadata": {},
     "output_type": "execute_result"
    }
   ],
   "source": [
    "B.difference(A)"
   ]
  },
  {
   "cell_type": "code",
   "execution_count": 27,
   "id": "caf2b0e5",
   "metadata": {},
   "outputs": [
    {
     "data": {
      "text/plain": [
       "{'Cherry', 'banana'}"
      ]
     },
     "execution_count": 27,
     "metadata": {},
     "output_type": "execute_result"
    }
   ],
   "source": [
    "A - B"
   ]
  },
  {
   "cell_type": "code",
   "execution_count": 28,
   "id": "6dd356c9",
   "metadata": {},
   "outputs": [
    {
     "data": {
      "text/plain": [
       "{'google', 'microsoft'}"
      ]
     },
     "execution_count": 28,
     "metadata": {},
     "output_type": "execute_result"
    }
   ],
   "source": [
    "B - A"
   ]
  },
  {
   "cell_type": "code",
   "execution_count": 31,
   "id": "228caa61",
   "metadata": {},
   "outputs": [
    {
     "data": {
      "text/plain": [
       "'apple'"
      ]
     },
     "execution_count": 31,
     "metadata": {},
     "output_type": "execute_result"
    }
   ],
   "source": [
    "A.pop()"
   ]
  },
  {
   "cell_type": "code",
   "execution_count": 32,
   "id": "428cefa6",
   "metadata": {},
   "outputs": [
    {
     "data": {
      "text/plain": [
       "{'Cherry', 'banana'}"
      ]
     },
     "execution_count": 32,
     "metadata": {},
     "output_type": "execute_result"
    }
   ],
   "source": [
    "A"
   ]
  },
  {
   "cell_type": "code",
   "execution_count": 33,
   "id": "f4afbe3c",
   "metadata": {},
   "outputs": [],
   "source": [
    "A.add(\"apple\")"
   ]
  },
  {
   "cell_type": "code",
   "execution_count": 34,
   "id": "e66f8225",
   "metadata": {},
   "outputs": [
    {
     "data": {
      "text/plain": [
       "{'Achar', 'Alu', 'Bhat', 'Dahi', 'Ghee', 'Gundruk', 'Masu', 'sagh'}"
      ]
     },
     "execution_count": 34,
     "metadata": {},
     "output_type": "execute_result"
    }
   ],
   "source": [
    "thakali_set"
   ]
  },
  {
   "cell_type": "code",
   "execution_count": 35,
   "id": "bf14640e",
   "metadata": {},
   "outputs": [
    {
     "data": {
      "text/plain": [
       "'Alu'"
      ]
     },
     "execution_count": 35,
     "metadata": {},
     "output_type": "execute_result"
    }
   ],
   "source": [
    "thakali_set.pop()"
   ]
  },
  {
   "cell_type": "code",
   "execution_count": 36,
   "id": "f3e32641",
   "metadata": {},
   "outputs": [
    {
     "data": {
      "text/plain": [
       "{'Achar', 'Bhat', 'Dahi', 'Ghee', 'Gundruk', 'Masu', 'sagh'}"
      ]
     },
     "execution_count": 36,
     "metadata": {},
     "output_type": "execute_result"
    }
   ],
   "source": [
    "thakali_set"
   ]
  },
  {
   "cell_type": "markdown",
   "id": "914c06fb",
   "metadata": {},
   "source": [
    "# Frozenset\n",
    "* Immutable version of python set is frozenset"
   ]
  },
  {
   "cell_type": "code",
   "execution_count": 37,
   "id": "67b3fd23",
   "metadata": {},
   "outputs": [],
   "source": [
    "s1 = {\"Achhar\", \"alu\", \"Bhat\"}"
   ]
  },
  {
   "cell_type": "code",
   "execution_count": 38,
   "id": "ffaffbed",
   "metadata": {},
   "outputs": [],
   "source": [
    "s1 = frozenset(s1)"
   ]
  },
  {
   "cell_type": "code",
   "execution_count": 39,
   "id": "8df235cf",
   "metadata": {},
   "outputs": [
    {
     "ename": "AttributeError",
     "evalue": "'frozenset' object has no attribute 'add'",
     "output_type": "error",
     "traceback": [
      "\u001b[1;31m---------------------------------------------------------------------------\u001b[0m",
      "\u001b[1;31mAttributeError\u001b[0m                            Traceback (most recent call last)",
      "Cell \u001b[1;32mIn[39], line 1\u001b[0m\n\u001b[1;32m----> 1\u001b[0m \u001b[43ms1\u001b[49m\u001b[38;5;241;43m.\u001b[39;49m\u001b[43madd\u001b[49m[\u001b[38;5;124m\"\u001b[39m\u001b[38;5;124mMasu\u001b[39m\u001b[38;5;124m\"\u001b[39m]\n",
      "\u001b[1;31mAttributeError\u001b[0m: 'frozenset' object has no attribute 'add'"
     ]
    }
   ],
   "source": [
    "s1.add[\"Masu\"]"
   ]
  },
  {
   "cell_type": "code",
   "execution_count": 41,
   "id": "3c9bb9f6",
   "metadata": {},
   "outputs": [
    {
     "name": "stdout",
     "output_type": "stream",
     "text": [
      "Bhat\n",
      "Gundruk\n",
      "Achar\n",
      "sagh\n",
      "Dahi\n",
      "Masu\n",
      "Ghee\n"
     ]
    }
   ],
   "source": [
    "for items in thakali_set:\n",
    "    print(items)"
   ]
  },
  {
   "cell_type": "code",
   "execution_count": null,
   "id": "82636d12",
   "metadata": {},
   "outputs": [],
   "source": []
  }
 ],
 "metadata": {
  "kernelspec": {
   "display_name": "Python 3 (ipykernel)",
   "language": "python",
   "name": "python3"
  },
  "language_info": {
   "codemirror_mode": {
    "name": "ipython",
    "version": 3
   },
   "file_extension": ".py",
   "mimetype": "text/x-python",
   "name": "python",
   "nbconvert_exporter": "python",
   "pygments_lexer": "ipython3",
   "version": "3.10.11"
  }
 },
 "nbformat": 4,
 "nbformat_minor": 5
}
