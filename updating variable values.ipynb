{
 "cells": [
  {
   "cell_type": "markdown",
   "id": "8a3490d0",
   "metadata": {},
   "source": [
    "## Updating Variable Names"
   ]
  },
  {
   "cell_type": "code",
   "execution_count": 1,
   "id": "efcd7920",
   "metadata": {},
   "outputs": [
    {
     "name": "stdout",
     "output_type": "stream",
     "text": [
      "Before a = 5\n",
      "After a = 66\n"
     ]
    }
   ],
   "source": [
    "a = 5\n",
    "print(f\"Before a = {a}\")\n",
    "a = 66\n",
    "print(f\"After a = {a}\")"
   ]
  },
  {
   "cell_type": "code",
   "execution_count": 3,
   "id": "f290bedc",
   "metadata": {},
   "outputs": [
    {
     "name": "stdout",
     "output_type": "stream",
     "text": [
      "Before breakfast weight = 60.5\n",
      "After breakfast weight = 61.0\n"
     ]
    }
   ],
   "source": [
    "weight = 60.5\n",
    "\n",
    "print(f\"Before breakfast weight = {weight}\")\n",
    "\n",
    "weight = weight + 0.5;\n",
    "\n",
    "print(f\"After breakfast weight = {weight}\")"
   ]
  },
  {
   "cell_type": "markdown",
   "id": "e4275f69",
   "metadata": {},
   "source": [
    "## Assigning multiple values to multiple variables"
   ]
  },
  {
   "cell_type": "code",
   "execution_count": 8,
   "id": "5be29439",
   "metadata": {},
   "outputs": [],
   "source": [
    "a = 2\n",
    "b = 0.3\n",
    "c = 0.5 + 0.1j"
   ]
  },
  {
   "cell_type": "code",
   "execution_count": 9,
   "id": "b357ce03",
   "metadata": {},
   "outputs": [
    {
     "data": {
      "text/plain": [
       "2"
      ]
     },
     "execution_count": 9,
     "metadata": {},
     "output_type": "execute_result"
    }
   ],
   "source": [
    "a"
   ]
  },
  {
   "cell_type": "code",
   "execution_count": 6,
   "id": "ef29509a",
   "metadata": {},
   "outputs": [
    {
     "data": {
      "text/plain": [
       "0.3"
      ]
     },
     "execution_count": 6,
     "metadata": {},
     "output_type": "execute_result"
    }
   ],
   "source": [
    "b"
   ]
  },
  {
   "cell_type": "code",
   "execution_count": 7,
   "id": "97b6163f",
   "metadata": {},
   "outputs": [
    {
     "data": {
      "text/plain": [
       "(0.5+0.1j)"
      ]
     },
     "execution_count": 7,
     "metadata": {},
     "output_type": "execute_result"
    }
   ],
   "source": [
    "c"
   ]
  },
  {
   "cell_type": "code",
   "execution_count": 14,
   "id": "338fbe6c",
   "metadata": {},
   "outputs": [],
   "source": [
    "a , b , c = 2 , 0.3 , 0.5 + 0.1j # Assigning multiple values to multiple variables"
   ]
  },
  {
   "cell_type": "code",
   "execution_count": 15,
   "id": "0247196c",
   "metadata": {},
   "outputs": [
    {
     "data": {
      "text/plain": [
       "2"
      ]
     },
     "execution_count": 15,
     "metadata": {},
     "output_type": "execute_result"
    }
   ],
   "source": [
    "a"
   ]
  },
  {
   "cell_type": "code",
   "execution_count": 16,
   "id": "4f233c72",
   "metadata": {},
   "outputs": [
    {
     "data": {
      "text/plain": [
       "0.3"
      ]
     },
     "execution_count": 16,
     "metadata": {},
     "output_type": "execute_result"
    }
   ],
   "source": [
    "b"
   ]
  },
  {
   "cell_type": "code",
   "execution_count": 17,
   "id": "e5e1402c",
   "metadata": {},
   "outputs": [
    {
     "data": {
      "text/plain": [
       "(0.5+0.1j)"
      ]
     },
     "execution_count": 17,
     "metadata": {},
     "output_type": "execute_result"
    }
   ],
   "source": [
    "c"
   ]
  },
  {
   "cell_type": "code",
   "execution_count": null,
   "id": "f36c1583",
   "metadata": {},
   "outputs": [],
   "source": []
  },
  {
   "cell_type": "code",
   "execution_count": null,
   "id": "8db7b3cd",
   "metadata": {},
   "outputs": [],
   "source": []
  }
 ],
 "metadata": {
  "kernelspec": {
   "display_name": "Python 3 (ipykernel)",
   "language": "python",
   "name": "python3"
  },
  "language_info": {
   "codemirror_mode": {
    "name": "ipython",
    "version": 3
   },
   "file_extension": ".py",
   "mimetype": "text/x-python",
   "name": "python",
   "nbconvert_exporter": "python",
   "pygments_lexer": "ipython3",
   "version": "3.10.11"
  }
 },
 "nbformat": 4,
 "nbformat_minor": 5
}
