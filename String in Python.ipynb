{
 "cells": [
  {
   "cell_type": "code",
   "execution_count": null,
   "id": "4b346ff2",
   "metadata": {},
   "outputs": [],
   "source": [
    "msg1 = \"Hello\"\n",
    "msg2 = \"Hello\""
   ]
  },
  {
   "cell_type": "code",
   "execution_count": null,
   "id": "d89554a5",
   "metadata": {},
   "outputs": [],
   "source": [
    "msg1 == msg2"
   ]
  },
  {
   "cell_type": "code",
   "execution_count": null,
   "id": "913fd61c",
   "metadata": {},
   "outputs": [],
   "source": [
    "\"Hello\" == \"hello\""
   ]
  },
  {
   "cell_type": "code",
   "execution_count": null,
   "id": "b4fc6be8",
   "metadata": {},
   "outputs": [],
   "source": [
    "assert msg1 == msg2"
   ]
  },
  {
   "cell_type": "code",
   "execution_count": null,
   "id": "28986227",
   "metadata": {},
   "outputs": [],
   "source": [
    "assert msg1 != msg2"
   ]
  },
  {
   "cell_type": "markdown",
   "id": "8cbe3b8e",
   "metadata": {},
   "source": [
    "# Single-line and Multi-line string"
   ]
  },
  {
   "cell_type": "code",
   "execution_count": 1,
   "id": "423a6749",
   "metadata": {},
   "outputs": [],
   "source": [
    "about = \"Yo mero laptop acer brand ko ho.\""
   ]
  },
  {
   "cell_type": "code",
   "execution_count": 2,
   "id": "f15934c7",
   "metadata": {},
   "outputs": [
    {
     "data": {
      "text/plain": [
       "'Yo mero laptop acer brand ko ho.'"
      ]
     },
     "execution_count": 2,
     "metadata": {},
     "output_type": "execute_result"
    }
   ],
   "source": [
    "about"
   ]
  },
  {
   "cell_type": "code",
   "execution_count": 3,
   "id": "a8a2cfa9",
   "metadata": {},
   "outputs": [
    {
     "ename": "SyntaxError",
     "evalue": "unterminated string literal (detected at line 3) (1701296490.py, line 3)",
     "output_type": "error",
     "traceback": [
      "\u001b[1;36m  Cell \u001b[1;32mIn[3], line 3\u001b[1;36m\u001b[0m\n\u001b[1;33m    about = \"Yo mero laptop ho! Mero laptop acer nitro 5 AN515-44 model ko ho.\u001b[0m\n\u001b[1;37m            ^\u001b[0m\n\u001b[1;31mSyntaxError\u001b[0m\u001b[1;31m:\u001b[0m unterminated string literal (detected at line 3)\n"
     ]
    }
   ],
   "source": [
    "# Multi line string yesari euta quote vitra lekhna mildaina\n",
    "\n",
    "about = \"Yo mero laptop ho! Mero laptop acer nitro 5 AN515-44 model ko ho. \n",
    "Yes ma Ryzen 5 5600h processor xa ra GTX 1650 Graphics card xa. \n",
    "Yesma 16 gb ram xa.\""
   ]
  },
  {
   "cell_type": "code",
   "execution_count": 4,
   "id": "7a5b3aee",
   "metadata": {},
   "outputs": [
    {
     "data": {
      "text/plain": [
       "'Yo mero laptop acer brand ko ho.'"
      ]
     },
     "execution_count": 4,
     "metadata": {},
     "output_type": "execute_result"
    }
   ],
   "source": [
    "about"
   ]
  },
  {
   "cell_type": "code",
   "execution_count": 5,
   "id": "569413b6",
   "metadata": {},
   "outputs": [],
   "source": [
    "# So use triple quotes\n",
    "\n",
    "about = \"\"\"Yo mero laptop ho! Mero laptop acer nitro 5 AN515-44 model ko ho. \n",
    "Yes ma Ryzen 5 5600h processor xa ra GTX 1650 Graphics card xa. \n",
    "Yesma 16 gb ram xa.\n",
    "\"\"\""
   ]
  },
  {
   "cell_type": "code",
   "execution_count": 6,
   "id": "8eb7866e",
   "metadata": {},
   "outputs": [
    {
     "name": "stdout",
     "output_type": "stream",
     "text": [
      "Yo mero laptop ho! Mero laptop acer nitro 5 AN515-44 model ko ho. \n",
      "Yes ma Ryzen 5 5600h processor xa ra GTX 1650 Graphics card xa. \n",
      "Yesma 16 gb ram xa.\n",
      "\n"
     ]
    }
   ],
   "source": [
    "print(about)"
   ]
  },
  {
   "cell_type": "code",
   "execution_count": 7,
   "id": "d2c1f3c7",
   "metadata": {},
   "outputs": [
    {
     "data": {
      "text/plain": [
       "'Yo mero laptop ho! Mero laptop acer nitro 5 AN515-44 model ko ho. \\nYes ma Ryzen 5 5600h processor xa ra GTX 1650 Graphics card xa. \\nYesma 16 gb ram xa.\\n'"
      ]
     },
     "execution_count": 7,
     "metadata": {},
     "output_type": "execute_result"
    }
   ],
   "source": [
    "about"
   ]
  },
  {
   "cell_type": "code",
   "execution_count": 10,
   "id": "29e75587",
   "metadata": {},
   "outputs": [],
   "source": [
    "msg = '''chitti timilai lekhu vanxu\n",
    "man ko kura man mai rahyo\n",
    "'''"
   ]
  },
  {
   "cell_type": "code",
   "execution_count": 11,
   "id": "0c909ea4",
   "metadata": {},
   "outputs": [
    {
     "name": "stdout",
     "output_type": "stream",
     "text": [
      "chitti timilai lekhu vanxu\n",
      "man ko kura man mai rahyo\n",
      "\n"
     ]
    }
   ],
   "source": [
    "print(msg)"
   ]
  },
  {
   "cell_type": "markdown",
   "id": "6699b7f8",
   "metadata": {},
   "source": [
    "# Indexing and slicing in string"
   ]
  },
  {
   "cell_type": "code",
   "execution_count": 13,
   "id": "b03e173e",
   "metadata": {},
   "outputs": [],
   "source": [
    "s = \"Hello world\""
   ]
  },
  {
   "cell_type": "code",
   "execution_count": 14,
   "id": "8f75fe2e",
   "metadata": {},
   "outputs": [
    {
     "data": {
      "text/plain": [
       "'H'"
      ]
     },
     "execution_count": 14,
     "metadata": {},
     "output_type": "execute_result"
    }
   ],
   "source": [
    "s[0]  # Indexing always starts from 0"
   ]
  },
  {
   "cell_type": "code",
   "execution_count": 17,
   "id": "1f668ea3",
   "metadata": {},
   "outputs": [
    {
     "data": {
      "text/plain": [
       "'d'"
      ]
     },
     "execution_count": 17,
     "metadata": {},
     "output_type": "execute_result"
    }
   ],
   "source": [
    "s[10]"
   ]
  },
  {
   "cell_type": "code",
   "execution_count": 19,
   "id": "35bf0467",
   "metadata": {},
   "outputs": [
    {
     "data": {
      "text/plain": [
       "' '"
      ]
     },
     "execution_count": 19,
     "metadata": {},
     "output_type": "execute_result"
    }
   ],
   "source": [
    "s[5]"
   ]
  },
  {
   "cell_type": "code",
   "execution_count": 20,
   "id": "41262b4d",
   "metadata": {},
   "outputs": [
    {
     "ename": "IndexError",
     "evalue": "string index out of range",
     "output_type": "error",
     "traceback": [
      "\u001b[1;31m---------------------------------------------------------------------------\u001b[0m",
      "\u001b[1;31mIndexError\u001b[0m                                Traceback (most recent call last)",
      "Cell \u001b[1;32mIn[20], line 1\u001b[0m\n\u001b[1;32m----> 1\u001b[0m \u001b[43ms\u001b[49m\u001b[43m[\u001b[49m\u001b[38;5;241;43m11\u001b[39;49m\u001b[43m]\u001b[49m\n",
      "\u001b[1;31mIndexError\u001b[0m: string index out of range"
     ]
    }
   ],
   "source": [
    "s[11]"
   ]
  },
  {
   "cell_type": "code",
   "execution_count": 22,
   "id": "6670387e",
   "metadata": {},
   "outputs": [
    {
     "data": {
      "text/plain": [
       "'Hell'"
      ]
     },
     "execution_count": 22,
     "metadata": {},
     "output_type": "execute_result"
    }
   ],
   "source": [
    "s[0:4]"
   ]
  },
  {
   "cell_type": "code",
   "execution_count": 23,
   "id": "9319a606",
   "metadata": {},
   "outputs": [
    {
     "data": {
      "text/plain": [
       "11"
      ]
     },
     "execution_count": 23,
     "metadata": {},
     "output_type": "execute_result"
    }
   ],
   "source": [
    "len(s)"
   ]
  },
  {
   "cell_type": "code",
   "execution_count": 24,
   "id": "a09bc742",
   "metadata": {},
   "outputs": [
    {
     "data": {
      "text/plain": [
       "'Hello'"
      ]
     },
     "execution_count": 24,
     "metadata": {},
     "output_type": "execute_result"
    }
   ],
   "source": [
    "s[0:5]"
   ]
  },
  {
   "cell_type": "code",
   "execution_count": 29,
   "id": "f941bd12",
   "metadata": {},
   "outputs": [
    {
     "data": {
      "text/plain": [
       "'Hello'"
      ]
     },
     "execution_count": 29,
     "metadata": {},
     "output_type": "execute_result"
    }
   ],
   "source": [
    "s[:5]   # Yo 5 index aghi ko sabai ho"
   ]
  },
  {
   "cell_type": "code",
   "execution_count": 30,
   "id": "e78516b9",
   "metadata": {},
   "outputs": [
    {
     "data": {
      "text/plain": [
       "'rld'"
      ]
     },
     "execution_count": 30,
     "metadata": {},
     "output_type": "execute_result"
    }
   ],
   "source": [
    "s[8:11]"
   ]
  },
  {
   "cell_type": "code",
   "execution_count": 31,
   "id": "91e045a6",
   "metadata": {},
   "outputs": [
    {
     "data": {
      "text/plain": [
       "'rld'"
      ]
     },
     "execution_count": 31,
     "metadata": {},
     "output_type": "execute_result"
    }
   ],
   "source": [
    "s[8:]   # Yo 8 index paxi ko sabai ho"
   ]
  },
  {
   "cell_type": "code",
   "execution_count": 32,
   "id": "2798a4fd",
   "metadata": {},
   "outputs": [
    {
     "data": {
      "text/plain": [
       "'wo'"
      ]
     },
     "execution_count": 32,
     "metadata": {},
     "output_type": "execute_result"
    }
   ],
   "source": [
    "s[6:8]"
   ]
  },
  {
   "cell_type": "code",
   "execution_count": 33,
   "id": "e84b2a4f",
   "metadata": {},
   "outputs": [
    {
     "data": {
      "text/plain": [
       "'Hlowrd'"
      ]
     },
     "execution_count": 33,
     "metadata": {},
     "output_type": "execute_result"
    }
   ],
   "source": [
    "s[0:11:2]"
   ]
  },
  {
   "cell_type": "code",
   "execution_count": 35,
   "id": "2db34d4c",
   "metadata": {},
   "outputs": [
    {
     "data": {
      "text/plain": [
       "'Hlowrd'"
      ]
     },
     "execution_count": 35,
     "metadata": {},
     "output_type": "execute_result"
    }
   ],
   "source": [
    "s[::2]"
   ]
  },
  {
   "cell_type": "code",
   "execution_count": 37,
   "id": "0f90b9ab",
   "metadata": {},
   "outputs": [
    {
     "data": {
      "text/plain": [
       "'Hlwl'"
      ]
     },
     "execution_count": 37,
     "metadata": {},
     "output_type": "execute_result"
    }
   ],
   "source": [
    "s[::3]"
   ]
  },
  {
   "cell_type": "code",
   "execution_count": 38,
   "id": "230d6502",
   "metadata": {},
   "outputs": [
    {
     "data": {
      "text/plain": [
       "'lw'"
      ]
     },
     "execution_count": 38,
     "metadata": {},
     "output_type": "execute_result"
    }
   ],
   "source": [
    "s[3:9:3]"
   ]
  },
  {
   "cell_type": "code",
   "execution_count": 48,
   "id": "db404cbe",
   "metadata": {},
   "outputs": [
    {
     "name": "stdout",
     "output_type": "stream",
     "text": [
      "Index = 0 H\n",
      "Index = 1 e\n",
      "Index = 2 l\n",
      "Index = 3 l\n",
      "Index = 4 o\n",
      "Index = 5  \n",
      "Index = 6 w\n",
      "Index = 7 o\n",
      "Index = 8 r\n",
      "Index = 9 l\n",
      "Index = 10 d\n"
     ]
    }
   ],
   "source": [
    "for index in range(0,len(s),1):\n",
    "    print(f\"Index = {index}\",s[index])"
   ]
  },
  {
   "cell_type": "code",
   "execution_count": null,
   "id": "414e4adb",
   "metadata": {},
   "outputs": [],
   "source": []
  }
 ],
 "metadata": {
  "kernelspec": {
   "display_name": "Python 3 (ipykernel)",
   "language": "python",
   "name": "python3"
  },
  "language_info": {
   "codemirror_mode": {
    "name": "ipython",
    "version": 3
   },
   "file_extension": ".py",
   "mimetype": "text/x-python",
   "name": "python",
   "nbconvert_exporter": "python",
   "pygments_lexer": "ipython3",
   "version": "3.10.11"
  }
 },
 "nbformat": 4,
 "nbformat_minor": 5
}
