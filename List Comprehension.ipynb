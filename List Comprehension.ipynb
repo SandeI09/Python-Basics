{
 "cells": [
  {
   "cell_type": "markdown",
   "id": "5e014e28",
   "metadata": {},
   "source": [
    "# List Comprehension: Elegant way to create list offers a shorter syntax to create a new list based on the values of an existing list."
   ]
  },
  {
   "cell_type": "code",
   "execution_count": 2,
   "id": "3c07ee03",
   "metadata": {},
   "outputs": [
    {
     "name": "stdout",
     "output_type": "stream",
     "text": [
      "2\n"
     ]
    }
   ],
   "source": [
    "import random\n",
    "print(random.randint(1,10))"
   ]
  },
  {
   "cell_type": "code",
   "execution_count": 3,
   "id": "18ebe637",
   "metadata": {},
   "outputs": [
    {
     "name": "stdout",
     "output_type": "stream",
     "text": [
      "10\n"
     ]
    }
   ],
   "source": [
    "print(random.randint(1,10))"
   ]
  },
  {
   "cell_type": "code",
   "execution_count": 4,
   "id": "ff5a99b3",
   "metadata": {},
   "outputs": [
    {
     "name": "stdout",
     "output_type": "stream",
     "text": [
      "10\n"
     ]
    }
   ],
   "source": [
    "print(random.randint(1,10))"
   ]
  },
  {
   "cell_type": "code",
   "execution_count": 5,
   "id": "fd34514f",
   "metadata": {},
   "outputs": [
    {
     "name": "stdout",
     "output_type": "stream",
     "text": [
      "9\n"
     ]
    }
   ],
   "source": [
    "print(random.randint(1,10))"
   ]
  },
  {
   "cell_type": "code",
   "execution_count": 6,
   "id": "c093b954",
   "metadata": {},
   "outputs": [
    {
     "name": "stdout",
     "output_type": "stream",
     "text": [
      "1\n"
     ]
    }
   ],
   "source": [
    "print(random.randint(1,10))"
   ]
  },
  {
   "cell_type": "code",
   "execution_count": 11,
   "id": "2129572c",
   "metadata": {},
   "outputs": [
    {
     "data": {
      "text/plain": [
       "10"
      ]
     },
     "execution_count": 11,
     "metadata": {},
     "output_type": "execute_result"
    }
   ],
   "source": [
    "random.seed(6)\n",
    "random.randint(1,10)"
   ]
  },
  {
   "cell_type": "code",
   "execution_count": 12,
   "id": "81c5a024",
   "metadata": {},
   "outputs": [],
   "source": [
    "sq = []\n",
    "for item in range(1,10):\n",
    "    sq.append(item ** 2)"
   ]
  },
  {
   "cell_type": "code",
   "execution_count": 13,
   "id": "12bc0bd9",
   "metadata": {},
   "outputs": [
    {
     "data": {
      "text/plain": [
       "[1, 4, 9, 16, 25, 36, 49, 64, 81]"
      ]
     },
     "execution_count": 13,
     "metadata": {},
     "output_type": "execute_result"
    }
   ],
   "source": [
    "sq"
   ]
  },
  {
   "cell_type": "code",
   "execution_count": 15,
   "id": "fbdcb79c",
   "metadata": {},
   "outputs": [
    {
     "data": {
      "text/plain": [
       "[1, 4, 9, 16, 25, 36, 49, 64, 81]"
      ]
     },
     "execution_count": 15,
     "metadata": {},
     "output_type": "execute_result"
    }
   ],
   "source": [
    "[item ** 2 for item in range(1,10)]"
   ]
  },
  {
   "cell_type": "markdown",
   "id": "cc36d0f6",
   "metadata": {},
   "source": [
    "# Syntax\n",
    "```python\n",
    "[expression for items in iterables]\n",
    "```"
   ]
  },
  {
   "cell_type": "code",
   "execution_count": 18,
   "id": "4eab5815",
   "metadata": {},
   "outputs": [
    {
     "data": {
      "text/plain": [
       "[125, 216, 343, 512, 729, 1000, 1331, 1728, 2197, 2744]"
      ]
     },
     "execution_count": 18,
     "metadata": {},
     "output_type": "execute_result"
    }
   ],
   "source": [
    "# Cube of numbers from 5 to 15\n",
    "[item ** 3 for item in range(5,15)]"
   ]
  },
  {
   "cell_type": "markdown",
   "id": "33313e8b",
   "metadata": {},
   "source": [
    "# WAP to find even number from the given list"
   ]
  },
  {
   "cell_type": "code",
   "execution_count": 20,
   "id": "02f787b1",
   "metadata": {},
   "outputs": [
    {
     "data": {
      "text/plain": [
       "[98, 95, 48, 41, 99, 3, 35, 63, 26, 94]"
      ]
     },
     "execution_count": 20,
     "metadata": {},
     "output_type": "execute_result"
    }
   ],
   "source": [
    "import random\n",
    "data = [random.randint(1,100) for index in range(10)]\n",
    "data"
   ]
  },
  {
   "cell_type": "code",
   "execution_count": 25,
   "id": "5fc1b68d",
   "metadata": {},
   "outputs": [
    {
     "data": {
      "text/plain": [
       "[98, 48, 26, 94]"
      ]
     },
     "execution_count": 25,
     "metadata": {},
     "output_type": "execute_result"
    }
   ],
   "source": [
    "[item for item in data if item % 2 == 0]   # If true vaye matra item expression update hunxa"
   ]
  },
  {
   "cell_type": "markdown",
   "id": "87ef8333",
   "metadata": {},
   "source": [
    "# Syntax\n",
    "```python\n",
    "[expression for item in iterable if True]\n",
    "```"
   ]
  },
  {
   "cell_type": "code",
   "execution_count": 26,
   "id": "82ab41f9",
   "metadata": {},
   "outputs": [
    {
     "data": {
      "text/plain": [
       "[95, 41, 99, 3, 35, 63]"
      ]
     },
     "execution_count": 26,
     "metadata": {},
     "output_type": "execute_result"
    }
   ],
   "source": [
    "[item for item in data if item % 2 != 0]   # If true vaye matra item expression update hunxa"
   ]
  },
  {
   "cell_type": "markdown",
   "id": "9bdfc59d",
   "metadata": {},
   "source": [
    "# List comprehension are faster then loops"
   ]
  },
  {
   "cell_type": "code",
   "execution_count": 28,
   "id": "55996198",
   "metadata": {},
   "outputs": [],
   "source": [
    "import random\n",
    "\n",
    "# Generate 50000 random numbers between 1 to 10\n",
    "\n",
    "data = [random.randint(1,10) for i in range(50000)]"
   ]
  },
  {
   "cell_type": "code",
   "execution_count": 29,
   "id": "a447c6eb",
   "metadata": {},
   "outputs": [
    {
     "name": "stdout",
     "output_type": "stream",
     "text": [
      "CPU times: total: 0 ns\n",
      "Wall time: 31.8 ms\n"
     ]
    }
   ],
   "source": [
    "%%time\n",
    "sq = []\n",
    "for items in data:\n",
    "    sq.append(items ** 2)"
   ]
  },
  {
   "cell_type": "code",
   "execution_count": 30,
   "id": "cca8155b",
   "metadata": {},
   "outputs": [
    {
     "name": "stdout",
     "output_type": "stream",
     "text": [
      "CPU times: total: 0 ns\n",
      "Wall time: 15.4 ms\n"
     ]
    }
   ],
   "source": [
    "%%time\n",
    "sq = [items ** 2 for items in data]"
   ]
  },
  {
   "cell_type": "markdown",
   "id": "55ac01a3",
   "metadata": {},
   "source": [
    "# List comprehension with if else\n",
    "```python\n",
    "[expression if true else expression for items in iterable]\n",
    "```"
   ]
  },
  {
   "cell_type": "markdown",
   "id": "f844904e",
   "metadata": {},
   "source": [
    "<img src=\"https://www.nomidl.com/wp-content/uploads/2022/04/image-10.png\">"
   ]
  },
  {
   "cell_type": "code",
   "execution_count": 34,
   "id": "b26db623",
   "metadata": {},
   "outputs": [
    {
     "data": {
      "text/plain": [
       "[0, 0, 0, 0, 0, 0, 0, 0, 0, 0, 0, 1, 2, 3, 4, 5, 6, 7, 8, 9]"
      ]
     },
     "execution_count": 34,
     "metadata": {},
     "output_type": "execute_result"
    }
   ],
   "source": [
    "[0 if item <= 0 else item for item in range(-10,10)]"
   ]
  },
  {
   "cell_type": "markdown",
   "id": "02980b0b",
   "metadata": {},
   "source": [
    "# Given a list write a program that replaces everything with oranges if item is not banana. If it is banana keep as it is"
   ]
  },
  {
   "cell_type": "code",
   "execution_count": 35,
   "id": "9b33463b",
   "metadata": {},
   "outputs": [
    {
     "name": "stdout",
     "output_type": "stream",
     "text": [
      "['orange', 'banana', 'orange', 'orange', 'orange']\n"
     ]
    }
   ],
   "source": [
    "fruits = [\"apple\", \"banana\", \"cherry\", \"kiwi\", \"mango\"]\n",
    "newlist = [x if x == \"banana\" else \"orange\" for x in fruits]\n",
    "print(newlist)"
   ]
  },
  {
   "cell_type": "markdown",
   "id": "009163d4",
   "metadata": {},
   "source": [
    "# CW: Wap to lowercase items in given list using list comprehension"
   ]
  },
  {
   "cell_type": "code",
   "execution_count": 10,
   "id": "fa3352b8",
   "metadata": {},
   "outputs": [
    {
     "data": {
      "text/plain": [
       "['apple', 'banana', 'cherry', 'kiwi', 'mango']"
      ]
     },
     "execution_count": 10,
     "metadata": {},
     "output_type": "execute_result"
    }
   ],
   "source": [
    "Fruits = [\"Apple\", \"Banana\", \"Cherry\", \"Kiwi\", \"Mango\"]\n",
    "[items.lower() for items in Fruits]"
   ]
  }
 ],
 "metadata": {
  "kernelspec": {
   "display_name": "Python 3 (ipykernel)",
   "language": "python",
   "name": "python3"
  },
  "language_info": {
   "codemirror_mode": {
    "name": "ipython",
    "version": 3
   },
   "file_extension": ".py",
   "mimetype": "text/x-python",
   "name": "python",
   "nbconvert_exporter": "python",
   "pygments_lexer": "ipython3",
   "version": "3.10.11"
  }
 },
 "nbformat": 4,
 "nbformat_minor": 5
}
