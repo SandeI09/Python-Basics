{
 "cells": [
  {
   "cell_type": "markdown",
   "id": "cb125966",
   "metadata": {},
   "source": [
    "# Tuples\n",
    "* Collection of items under one variable name.\n",
    "* Allows duplicate \n",
    "* Supports multiple data type\n",
    "* Ordered and indexed\n",
    "* Immutable\n",
    "* Written in () brackets seperated by comma."
   ]
  },
  {
   "cell_type": "code",
   "execution_count": 2,
   "id": "0d363d92",
   "metadata": {},
   "outputs": [],
   "source": [
    "cars = (\"Mercedes\", \"Ferrari\", \"Tesla\", \"Tata\", \"Honda\", \"Lambo\")"
   ]
  },
  {
   "cell_type": "code",
   "execution_count": 3,
   "id": "97fcc19f",
   "metadata": {},
   "outputs": [
    {
     "data": {
      "text/plain": [
       "tuple"
      ]
     },
     "execution_count": 3,
     "metadata": {},
     "output_type": "execute_result"
    }
   ],
   "source": [
    "type(cars)"
   ]
  },
  {
   "cell_type": "code",
   "execution_count": 4,
   "id": "6ed40758",
   "metadata": {},
   "outputs": [
    {
     "data": {
      "text/plain": [
       "'Mercedes'"
      ]
     },
     "execution_count": 4,
     "metadata": {},
     "output_type": "execute_result"
    }
   ],
   "source": [
    "cars[0]"
   ]
  },
  {
   "cell_type": "code",
   "execution_count": 5,
   "id": "1647b58b",
   "metadata": {},
   "outputs": [
    {
     "data": {
      "text/plain": [
       "'Ferrari'"
      ]
     },
     "execution_count": 5,
     "metadata": {},
     "output_type": "execute_result"
    }
   ],
   "source": [
    "cars[1]"
   ]
  },
  {
   "cell_type": "code",
   "execution_count": 6,
   "id": "fd6b7d64",
   "metadata": {},
   "outputs": [
    {
     "data": {
      "text/plain": [
       "'Tesla'"
      ]
     },
     "execution_count": 6,
     "metadata": {},
     "output_type": "execute_result"
    }
   ],
   "source": [
    "cars[2]"
   ]
  },
  {
   "cell_type": "code",
   "execution_count": 7,
   "id": "3d725f8e",
   "metadata": {},
   "outputs": [
    {
     "data": {
      "text/plain": [
       "'Honda'"
      ]
     },
     "execution_count": 7,
     "metadata": {},
     "output_type": "execute_result"
    }
   ],
   "source": [
    "cars[-2]"
   ]
  },
  {
   "cell_type": "code",
   "execution_count": 9,
   "id": "8fda7a2e",
   "metadata": {},
   "outputs": [
    {
     "data": {
      "text/plain": [
       "('Ferrari', 'Tesla')"
      ]
     },
     "execution_count": 9,
     "metadata": {},
     "output_type": "execute_result"
    }
   ],
   "source": [
    "cars[1:3]"
   ]
  },
  {
   "cell_type": "markdown",
   "id": "e08127ba",
   "metadata": {},
   "source": [
    "# Python Tuples are immutable"
   ]
  },
  {
   "cell_type": "code",
   "execution_count": 10,
   "id": "b96c4754",
   "metadata": {},
   "outputs": [
    {
     "data": {
      "text/plain": [
       "('Mercedes', 'Ferrari', 'Tesla', 'Tata', 'Honda', 'Lambo')"
      ]
     },
     "execution_count": 10,
     "metadata": {},
     "output_type": "execute_result"
    }
   ],
   "source": [
    "cars"
   ]
  },
  {
   "cell_type": "code",
   "execution_count": 12,
   "id": "d896ac53",
   "metadata": {},
   "outputs": [
    {
     "ename": "TypeError",
     "evalue": "'tuple' object does not support item assignment",
     "output_type": "error",
     "traceback": [
      "\u001b[1;31m---------------------------------------------------------------------------\u001b[0m",
      "\u001b[1;31mTypeError\u001b[0m                                 Traceback (most recent call last)",
      "Cell \u001b[1;32mIn[12], line 1\u001b[0m\n\u001b[1;32m----> 1\u001b[0m \u001b[43mcars\u001b[49m\u001b[43m[\u001b[49m\u001b[38;5;241;43m2\u001b[39;49m\u001b[43m]\u001b[49m \u001b[38;5;241m=\u001b[39m \u001b[38;5;124m\"\u001b[39m\u001b[38;5;124mBently\u001b[39m\u001b[38;5;124m\"\u001b[39m\n",
      "\u001b[1;31mTypeError\u001b[0m: 'tuple' object does not support item assignment"
     ]
    }
   ],
   "source": [
    "cars[2] = \"Bently\""
   ]
  },
  {
   "cell_type": "markdown",
   "id": "d68e4b5f",
   "metadata": {},
   "source": [
    "# We cannot change, add or remove items after the tuple has been created but type conversion to list can make it happen"
   ]
  },
  {
   "cell_type": "code",
   "execution_count": 28,
   "id": "ac3e9525",
   "metadata": {},
   "outputs": [],
   "source": [
    "car = (\"Mercedes\", \"Ferrari\", \"Tesla\", \"Tata\", \"Honda\", \"Lambo\")"
   ]
  },
  {
   "cell_type": "code",
   "execution_count": 29,
   "id": "79a2c99b",
   "metadata": {
    "scrolled": true
   },
   "outputs": [
    {
     "data": {
      "text/plain": [
       "['Mercedes', 'Ferrari', 'Tesla', 'Tata', 'Honda', 'Lambo']"
      ]
     },
     "execution_count": 29,
     "metadata": {},
     "output_type": "execute_result"
    }
   ],
   "source": [
    "car= list(cars)\n",
    "car"
   ]
  },
  {
   "cell_type": "code",
   "execution_count": 30,
   "id": "2790d5b4",
   "metadata": {},
   "outputs": [
    {
     "data": {
      "text/plain": [
       "list"
      ]
     },
     "execution_count": 30,
     "metadata": {},
     "output_type": "execute_result"
    }
   ],
   "source": [
    "type(car)"
   ]
  },
  {
   "cell_type": "code",
   "execution_count": 31,
   "id": "ef8455b3",
   "metadata": {},
   "outputs": [],
   "source": [
    "car.append('Rolls Royace')"
   ]
  },
  {
   "cell_type": "code",
   "execution_count": 32,
   "id": "e272d311",
   "metadata": {},
   "outputs": [],
   "source": [
    "car = tuple(car)"
   ]
  },
  {
   "cell_type": "code",
   "execution_count": 33,
   "id": "ff9d976e",
   "metadata": {},
   "outputs": [
    {
     "data": {
      "text/plain": [
       "('Mercedes', 'Ferrari', 'Tesla', 'Tata', 'Honda', 'Lambo', 'Rolls Royace')"
      ]
     },
     "execution_count": 33,
     "metadata": {},
     "output_type": "execute_result"
    }
   ],
   "source": [
    "car"
   ]
  },
  {
   "cell_type": "code",
   "execution_count": 34,
   "id": "f4fef9ee",
   "metadata": {},
   "outputs": [
    {
     "data": {
      "text/plain": [
       "tuple"
      ]
     },
     "execution_count": 34,
     "metadata": {},
     "output_type": "execute_result"
    }
   ],
   "source": [
    "type(car)"
   ]
  },
  {
   "cell_type": "markdown",
   "id": "59488c62",
   "metadata": {},
   "source": [
    "# Calsulate the mean"
   ]
  },
  {
   "cell_type": "code",
   "execution_count": 35,
   "id": "188073eb",
   "metadata": {},
   "outputs": [],
   "source": [
    "nums = (3,2,1,7,6,9,0)"
   ]
  },
  {
   "cell_type": "code",
   "execution_count": 36,
   "id": "73cfef3d",
   "metadata": {},
   "outputs": [],
   "source": [
    "nums = list(nums)"
   ]
  },
  {
   "cell_type": "code",
   "execution_count": 41,
   "id": "6d878c0c",
   "metadata": {},
   "outputs": [
    {
     "data": {
      "text/plain": [
       "4.0"
      ]
     },
     "execution_count": 41,
     "metadata": {},
     "output_type": "execute_result"
    }
   ],
   "source": [
    "total = 0\n",
    "index = 0\n",
    "for num in nums:\n",
    "    total = total + num\n",
    "    index = index + 1\n",
    "\n",
    "mean = total / index\n",
    "mean"
   ]
  },
  {
   "cell_type": "code",
   "execution_count": 42,
   "id": "cbc786f5",
   "metadata": {},
   "outputs": [],
   "source": [
    "t1 = (\"Ram\", True, 5, 6.3, [99,8])"
   ]
  },
  {
   "cell_type": "code",
   "execution_count": 43,
   "id": "651598b0",
   "metadata": {},
   "outputs": [
    {
     "data": {
      "text/plain": [
       "[99, 8]"
      ]
     },
     "execution_count": 43,
     "metadata": {},
     "output_type": "execute_result"
    }
   ],
   "source": [
    "t1[4]"
   ]
  },
  {
   "cell_type": "code",
   "execution_count": 44,
   "id": "8b371ee9",
   "metadata": {},
   "outputs": [
    {
     "data": {
      "text/plain": [
       "99"
      ]
     },
     "execution_count": 44,
     "metadata": {},
     "output_type": "execute_result"
    }
   ],
   "source": [
    "t1[4][0]"
   ]
  }
 ],
 "metadata": {
  "kernelspec": {
   "display_name": "Python 3 (ipykernel)",
   "language": "python",
   "name": "python3"
  },
  "language_info": {
   "codemirror_mode": {
    "name": "ipython",
    "version": 3
   },
   "file_extension": ".py",
   "mimetype": "text/x-python",
   "name": "python",
   "nbconvert_exporter": "python",
   "pygments_lexer": "ipython3",
   "version": "3.10.11"
  }
 },
 "nbformat": 4,
 "nbformat_minor": 5
}
