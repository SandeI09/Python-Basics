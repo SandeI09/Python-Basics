{
 "cells": [
  {
   "cell_type": "markdown",
   "id": "ec6f65dc",
   "metadata": {},
   "source": [
    "# Inheritance\n",
    "* Single\n",
    "* Multiple\n",
    "* Multilevel\n",
    "* Hierarchical\n",
    "\n",
    "NOTE:\n",
    "\n",
    "* Parent class / Base class / Super class\n",
    "* Child class / Sub class / Derived class"
   ]
  },
  {
   "cell_type": "markdown",
   "id": "87091470",
   "metadata": {},
   "source": [
    "# Subclass Inherits property/attributes and methods from superclass using super()"
   ]
  },
  {
   "cell_type": "code",
   "execution_count": 1,
   "id": "9e16672f",
   "metadata": {},
   "outputs": [],
   "source": [
    "# Single"
   ]
  },
  {
   "cell_type": "code",
   "execution_count": 6,
   "id": "2b309718",
   "metadata": {},
   "outputs": [],
   "source": [
    "class Computer:\n",
    "    def __init__(self):\n",
    "        self.model_name = model_name\n",
    "        \n",
    "    def display_model(self):\n",
    "        print(f\"Your Model is {model_name}\")\n",
    "        \n",
    "class Mobile:\n",
    "    def __init__(self, has_flash):\n",
    "        self.has_flash = has_flash"
   ]
  },
  {
   "cell_type": "code",
   "execution_count": 7,
   "id": "a7dda831",
   "metadata": {},
   "outputs": [],
   "source": [
    "m1 = Mobile(has_flash = True)"
   ]
  },
  {
   "cell_type": "code",
   "execution_count": 8,
   "id": "964bfced",
   "metadata": {},
   "outputs": [
    {
     "data": {
      "text/plain": [
       "True"
      ]
     },
     "execution_count": 8,
     "metadata": {},
     "output_type": "execute_result"
    }
   ],
   "source": [
    "m1.has_flash"
   ]
  },
  {
   "cell_type": "code",
   "execution_count": 5,
   "id": "b08d4278",
   "metadata": {},
   "outputs": [
    {
     "ename": "AttributeError",
     "evalue": "'Mobile' object has no attribute 'model_name'",
     "output_type": "error",
     "traceback": [
      "\u001b[1;31m---------------------------------------------------------------------------\u001b[0m",
      "\u001b[1;31mAttributeError\u001b[0m                            Traceback (most recent call last)",
      "Cell \u001b[1;32mIn[5], line 1\u001b[0m\n\u001b[1;32m----> 1\u001b[0m \u001b[43mm1\u001b[49m\u001b[38;5;241;43m.\u001b[39;49m\u001b[43mmodel_name\u001b[49m\n",
      "\u001b[1;31mAttributeError\u001b[0m: 'Mobile' object has no attribute 'model_name'"
     ]
    }
   ],
   "source": [
    "m1.model_name"
   ]
  },
  {
   "cell_type": "code",
   "execution_count": 19,
   "id": "b73903ce",
   "metadata": {},
   "outputs": [],
   "source": [
    "# Inherit"
   ]
  },
  {
   "cell_type": "code",
   "execution_count": 24,
   "id": "e2c23a52",
   "metadata": {},
   "outputs": [],
   "source": [
    "class Computer:\n",
    "    def __init__(self, model_name):\n",
    "        self.model_name = model_name\n",
    "        \n",
    "    def display_model(self):\n",
    "        print(f\"Your Model is {self.model_name}\")\n",
    "        \n",
    "class Mobile(Computer):                        # Step 1\n",
    "    def __init__(self, has_flash, model_name):\n",
    "        self.has_flash = has_flash\n",
    "        super().__init__(model_name)           # Step 2"
   ]
  },
  {
   "cell_type": "code",
   "execution_count": 25,
   "id": "dc9d17ad",
   "metadata": {},
   "outputs": [
    {
     "name": "stdout",
     "output_type": "stream",
     "text": [
      "Your Model is Redmi\n"
     ]
    }
   ],
   "source": [
    "m1 = Mobile(has_flash = True, model_name = 'Redmi')\n",
    "m1.display_model()"
   ]
  },
  {
   "cell_type": "code",
   "execution_count": 26,
   "id": "2c4b5330",
   "metadata": {},
   "outputs": [],
   "source": [
    "class Computer:\n",
    "    def __init__(self, model_name):\n",
    "        self.model_name = model_name\n",
    "        \n",
    "    def display_model(self):\n",
    "        print(f\"Your Model is {self.model_name}\")\n",
    "        \n",
    "class Mobile(Computer):                        # Step 1\n",
    "    def __init__(self, has_flash, model_name):\n",
    "        self.has_flash = has_flash\n",
    "        super().__init__(model_name)           # Step 2\n",
    "        \n",
    "    # Function overriding : Polymorphism\n",
    "    def display_model(self):\n",
    "        print(f\"Your mobile model is {self.model_name}\")"
   ]
  },
  {
   "cell_type": "code",
   "execution_count": 27,
   "id": "d2975cc7",
   "metadata": {},
   "outputs": [
    {
     "name": "stdout",
     "output_type": "stream",
     "text": [
      "Your mobile model is samsung\n"
     ]
    }
   ],
   "source": [
    "m1 = Mobile(has_flash = True, model_name = 'samsung')\n",
    "m1.display_model()"
   ]
  },
  {
   "cell_type": "markdown",
   "id": "ac8fb344",
   "metadata": {},
   "source": [
    "# Multiple Inheritance"
   ]
  },
  {
   "cell_type": "code",
   "execution_count": 31,
   "id": "9f4a23f4",
   "metadata": {},
   "outputs": [],
   "source": [
    "class Father:\n",
    "    def __init__(self, fname):\n",
    "        self.fname = fname\n",
    "        \n",
    "class Mother:\n",
    "    def __init__(self, mname):\n",
    "        self.mname = mname\n",
    "        \n",
    "class Child(Father, Mother):     # Step 1\n",
    "    def __init__(self, cname, fname, mname):\n",
    "        self.cname = cname\n",
    "        Father.__init__(self, fname)   # Step 2\n",
    "        Mother.__init__(self, mname)   # Step 2\n",
    "        "
   ]
  },
  {
   "cell_type": "code",
   "execution_count": 32,
   "id": "8620b2c1",
   "metadata": {},
   "outputs": [],
   "source": [
    "c1 = Child(cname = \"Lov-Kush\", fname = \"Ram\", mname = \"Sita\")"
   ]
  },
  {
   "cell_type": "code",
   "execution_count": 33,
   "id": "a9f4bb2f",
   "metadata": {},
   "outputs": [
    {
     "data": {
      "text/plain": [
       "'Ram'"
      ]
     },
     "execution_count": 33,
     "metadata": {},
     "output_type": "execute_result"
    }
   ],
   "source": [
    "c1.fname"
   ]
  },
  {
   "cell_type": "code",
   "execution_count": 34,
   "id": "072212b8",
   "metadata": {},
   "outputs": [
    {
     "data": {
      "text/plain": [
       "'Sita'"
      ]
     },
     "execution_count": 34,
     "metadata": {},
     "output_type": "execute_result"
    }
   ],
   "source": [
    "c1.mname"
   ]
  },
  {
   "cell_type": "markdown",
   "id": "94f2cb64",
   "metadata": {},
   "source": [
    "# Multi-level Inheritance"
   ]
  },
  {
   "cell_type": "code",
   "execution_count": 46,
   "id": "50ef0e3c",
   "metadata": {},
   "outputs": [],
   "source": [
    "class GrandFather:\n",
    "    def __init__(self, gname):\n",
    "        self.gname = gname\n",
    "    \n",
    "class Father(GrandFather):\n",
    "    def __init__(self, fname, gname):\n",
    "        self.fname = fname\n",
    "        GrandFather.__init__(self, gname)\n",
    "        \n",
    "class Child(Father):\n",
    "    def __init__(self, fname, cname, gname):\n",
    "        self.cname = cname\n",
    "        Father.__init__(self, fname, gname)\n",
    "                        \n",
    "    def display(self):\n",
    "        print(f\"You are {self.cname}\")\n",
    "        print(f\"Your father is {self.fname}\")\n",
    "        print(f\"Your grandfather is {self.gname}\")"
   ]
  },
  {
   "cell_type": "code",
   "execution_count": 47,
   "id": "e62af773",
   "metadata": {},
   "outputs": [],
   "source": [
    "c1 = Child(cname = \"Lov-Kush\", fname = \"Ram\", gname = \"Dasarath\")"
   ]
  },
  {
   "cell_type": "code",
   "execution_count": 48,
   "id": "ef0b8a17",
   "metadata": {},
   "outputs": [
    {
     "name": "stdout",
     "output_type": "stream",
     "text": [
      "You are Lov-Kush\n",
      "Your father is Ram\n",
      "Your grandfather is Dasarath\n"
     ]
    }
   ],
   "source": [
    "c1.display()"
   ]
  }
 ],
 "metadata": {
  "kernelspec": {
   "display_name": "Python 3 (ipykernel)",
   "language": "python",
   "name": "python3"
  },
  "language_info": {
   "codemirror_mode": {
    "name": "ipython",
    "version": 3
   },
   "file_extension": ".py",
   "mimetype": "text/x-python",
   "name": "python",
   "nbconvert_exporter": "python",
   "pygments_lexer": "ipython3",
   "version": "3.10.11"
  }
 },
 "nbformat": 4,
 "nbformat_minor": 5
}
