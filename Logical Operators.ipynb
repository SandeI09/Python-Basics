{
 "cells": [
  {
   "cell_type": "markdown",
   "id": "c598b3fd",
   "metadata": {},
   "source": [
    "# Logical Operators \n",
    "-- Applied in Booleans\n",
    "\n",
    "* and \n",
    "* or \n",
    "* not"
   ]
  },
  {
   "cell_type": "code",
   "execution_count": 1,
   "id": "8563ca85",
   "metadata": {},
   "outputs": [
    {
     "data": {
      "text/plain": [
       "True"
      ]
     },
     "execution_count": 1,
     "metadata": {},
     "output_type": "execute_result"
    }
   ],
   "source": [
    "True and True"
   ]
  },
  {
   "cell_type": "code",
   "execution_count": 2,
   "id": "e9f3e921",
   "metadata": {},
   "outputs": [
    {
     "data": {
      "text/plain": [
       "False"
      ]
     },
     "execution_count": 2,
     "metadata": {},
     "output_type": "execute_result"
    }
   ],
   "source": [
    "True and False"
   ]
  },
  {
   "cell_type": "code",
   "execution_count": 3,
   "id": "46e7419f",
   "metadata": {},
   "outputs": [
    {
     "data": {
      "text/plain": [
       "False"
      ]
     },
     "execution_count": 3,
     "metadata": {},
     "output_type": "execute_result"
    }
   ],
   "source": [
    "False and True"
   ]
  },
  {
   "cell_type": "code",
   "execution_count": 4,
   "id": "e710632e",
   "metadata": {},
   "outputs": [
    {
     "data": {
      "text/plain": [
       "False"
      ]
     },
     "execution_count": 4,
     "metadata": {},
     "output_type": "execute_result"
    }
   ],
   "source": [
    "False and False"
   ]
  },
  {
   "cell_type": "markdown",
   "id": "e2a8d0b6",
   "metadata": {},
   "source": [
    "# `AND` ma both True hunu paryo"
   ]
  },
  {
   "cell_type": "code",
   "execution_count": 5,
   "id": "a23ce755",
   "metadata": {},
   "outputs": [
    {
     "data": {
      "text/plain": [
       "True"
      ]
     },
     "execution_count": 5,
     "metadata": {},
     "output_type": "execute_result"
    }
   ],
   "source": [
    "True or True"
   ]
  },
  {
   "cell_type": "code",
   "execution_count": 6,
   "id": "a9fa4b19",
   "metadata": {},
   "outputs": [
    {
     "data": {
      "text/plain": [
       "True"
      ]
     },
     "execution_count": 6,
     "metadata": {},
     "output_type": "execute_result"
    }
   ],
   "source": [
    "True or False"
   ]
  },
  {
   "cell_type": "code",
   "execution_count": 7,
   "id": "20150a20",
   "metadata": {},
   "outputs": [
    {
     "data": {
      "text/plain": [
       "True"
      ]
     },
     "execution_count": 7,
     "metadata": {},
     "output_type": "execute_result"
    }
   ],
   "source": [
    "False or True"
   ]
  },
  {
   "cell_type": "code",
   "execution_count": 8,
   "id": "0b91668c",
   "metadata": {},
   "outputs": [
    {
     "data": {
      "text/plain": [
       "False"
      ]
     },
     "execution_count": 8,
     "metadata": {},
     "output_type": "execute_result"
    }
   ],
   "source": [
    "False or False"
   ]
  },
  {
   "cell_type": "markdown",
   "id": "eb917cf2",
   "metadata": {},
   "source": [
    "# `OR` ma euta true vayo vane true hunxa"
   ]
  },
  {
   "cell_type": "code",
   "execution_count": 9,
   "id": "f5b95b1d",
   "metadata": {},
   "outputs": [
    {
     "data": {
      "text/plain": [
       "False"
      ]
     },
     "execution_count": 9,
     "metadata": {},
     "output_type": "execute_result"
    }
   ],
   "source": [
    "not True"
   ]
  },
  {
   "cell_type": "code",
   "execution_count": 10,
   "id": "c164ba23",
   "metadata": {},
   "outputs": [
    {
     "data": {
      "text/plain": [
       "True"
      ]
     },
     "execution_count": 10,
     "metadata": {},
     "output_type": "execute_result"
    }
   ],
   "source": [
    "not False"
   ]
  },
  {
   "cell_type": "markdown",
   "id": "1e00e2a6",
   "metadata": {},
   "source": [
    "# `NOT` ma true vaye false ra false vaye true"
   ]
  },
  {
   "cell_type": "code",
   "execution_count": 11,
   "id": "9314b012",
   "metadata": {},
   "outputs": [
    {
     "name": "stdout",
     "output_type": "stream",
     "text": [
      "a may be 3, 4 or 5\n"
     ]
    }
   ],
   "source": [
    "a = 5\n",
    "\n",
    "if a > 3 and a <= 5:\n",
    "    print(\"a may be 3, 4 or 5\")"
   ]
  },
  {
   "cell_type": "code",
   "execution_count": 12,
   "id": "538b58b4",
   "metadata": {},
   "outputs": [
    {
     "data": {
      "text/plain": [
       "True"
      ]
     },
     "execution_count": 12,
     "metadata": {},
     "output_type": "execute_result"
    }
   ],
   "source": [
    "a > 2"
   ]
  },
  {
   "cell_type": "code",
   "execution_count": 13,
   "id": "aa85d4a8",
   "metadata": {},
   "outputs": [
    {
     "data": {
      "text/plain": [
       "True"
      ]
     },
     "execution_count": 13,
     "metadata": {},
     "output_type": "execute_result"
    }
   ],
   "source": [
    "a <= 5"
   ]
  },
  {
   "cell_type": "code",
   "execution_count": 14,
   "id": "288ee5b6",
   "metadata": {},
   "outputs": [
    {
     "name": "stdout",
     "output_type": "stream",
     "text": [
      "a > 2 or a == 1\n"
     ]
    }
   ],
   "source": [
    "a = 3\n",
    "if a > 2 or a == 1:\n",
    "    print(\"a > 2 or a == 1\")"
   ]
  },
  {
   "cell_type": "markdown",
   "id": "aa16ffac",
   "metadata": {},
   "source": [
    "# BMI"
   ]
  },
  {
   "attachments": {},
   "cell_type": "markdown",
   "id": "3b572ad2",
   "metadata": {},
   "source": [
    "<img src = \"https://www.stylecraze.com/wp-content/themes/buddyboss-child/images/man-body-mass-index-vector.jpg\">"
   ]
  },
  {
   "cell_type": "code",
   "execution_count": 16,
   "id": "c893f298",
   "metadata": {},
   "outputs": [
    {
     "name": "stdout",
     "output_type": "stream",
     "text": [
      "Enter your weight in Kg: 55\n",
      "Enter your height in cm: 170.68\n",
      "You are a good normal person.\n"
     ]
    }
   ],
   "source": [
    "weight = float(input(\"Enter your weight in Kg: \"))\n",
    "height = float(input(\"Enter your height in cm: \"))\n",
    "\n",
    "height_in_meter = height/100\n",
    "bmi = weight/height_in_meter**2\n",
    "\n",
    "if bmi < 18.5:\n",
    "    print(\"You are Underweight! You need to consume more.\")\n",
    "    \n",
    "elif bmi >=18.5 and bmi < 24.9:\n",
    "    print(\"You are a good normal person.\")\n",
    "    \n",
    "elif bmi >= 25.0 and bmi < 29.9:\n",
    "    print(\"You are slightly overweight, You need to exercise more!\")\n",
    "    \n",
    "elif bmi >= 30 and bmi <= 34.9:\n",
    "    print(\"You are obese. You really need to consider diet and exercise more in regular basis!\")\n",
    "    \n",
    "else:\n",
    "    print(\"You are exteremely overweight, You need the consultation of the doctor!\")"
   ]
  },
  {
   "cell_type": "markdown",
   "id": "25a19777",
   "metadata": {},
   "source": [
    "# Classwork : Print greatest among three input numbers"
   ]
  },
  {
   "cell_type": "code",
   "execution_count": 18,
   "id": "1dfd579e",
   "metadata": {},
   "outputs": [
    {
     "name": "stdout",
     "output_type": "stream",
     "text": [
      "Enter first number: 2\n",
      "Enter second number: 7\n",
      "Enter third number: 3\n",
      "7.0 is greatest number!\n"
     ]
    }
   ],
   "source": [
    "num1 = float(input(\"Enter first number: \"))\n",
    "num2 = float(input(\"Enter second number: \"))\n",
    "num3 = float(input(\"Enter third number: \"))\n",
    "\n",
    "if num1 > num2 and num1 > num3:\n",
    "    print(f\"{num1} is greatest number!\")\n",
    "elif num2 > num3:\n",
    "    print(f\"{num2} is greatest number!\")\n",
    "else:\n",
    "    print(f\"{num3} is greatest number!\")"
   ]
  },
  {
   "cell_type": "code",
   "execution_count": null,
   "id": "33471824",
   "metadata": {},
   "outputs": [],
   "source": []
  }
 ],
 "metadata": {
  "kernelspec": {
   "display_name": "Python 3 (ipykernel)",
   "language": "python",
   "name": "python3"
  },
  "language_info": {
   "codemirror_mode": {
    "name": "ipython",
    "version": 3
   },
   "file_extension": ".py",
   "mimetype": "text/x-python",
   "name": "python",
   "nbconvert_exporter": "python",
   "pygments_lexer": "ipython3",
   "version": "3.10.11"
  }
 },
 "nbformat": 4,
 "nbformat_minor": 5
}
