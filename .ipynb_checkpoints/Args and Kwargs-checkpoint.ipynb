{
 "cells": [
  {
   "cell_type": "markdown",
   "id": "32387a93",
   "metadata": {},
   "source": [
    "# *args and **kwargs\n",
    "* For variable length argument in function"
   ]
  },
  {
   "cell_type": "code",
   "execution_count": null,
   "id": "da4800a0",
   "metadata": {},
   "outputs": [],
   "source": [
    "def add(*args):\n",
    "    print(args, type(args))"
   ]
  },
  {
   "cell_type": "code",
   "execution_count": null,
   "id": "7b3794da",
   "metadata": {},
   "outputs": [],
   "source": [
    "add(1,2,3,4,5)"
   ]
  },
  {
   "cell_type": "code",
   "execution_count": null,
   "id": "4ed709aa",
   "metadata": {},
   "outputs": [],
   "source": [
    "add(7,44)"
   ]
  },
  {
   "cell_type": "code",
   "execution_count": null,
   "id": "9b0565f9",
   "metadata": {},
   "outputs": [],
   "source": [
    "def add(*args):\n",
    "    total = 0\n",
    "    for items in args:\n",
    "        total = total + items\n",
    "    return total"
   ]
  },
  {
   "cell_type": "code",
   "execution_count": null,
   "id": "5fd0e8ba",
   "metadata": {},
   "outputs": [],
   "source": [
    "add(2,4,6)"
   ]
  },
  {
   "cell_type": "code",
   "execution_count": null,
   "id": "27680299",
   "metadata": {},
   "outputs": [],
   "source": [
    "add(1,2,3,4,5,6,7,8,9,10)"
   ]
  },
  {
   "cell_type": "markdown",
   "id": "4533fca3",
   "metadata": {},
   "source": [
    "# **Kwargs"
   ]
  },
  {
   "cell_type": "code",
   "execution_count": null,
   "id": "52afb23e",
   "metadata": {},
   "outputs": [],
   "source": [
    "def about(**kwargs):\n",
    "    print(kwargs, type(kwargs))"
   ]
  },
  {
   "cell_type": "code",
   "execution_count": null,
   "id": "de220484",
   "metadata": {},
   "outputs": [],
   "source": [
    "about(name = \"Kshitiz\", teaches = \"Python\")"
   ]
  },
  {
   "cell_type": "markdown",
   "id": "a9c513ca",
   "metadata": {},
   "source": [
    "# Write a function to check if the given input number is prime or not, if prime, return true else return false."
   ]
  },
  {
   "cell_type": "code",
   "execution_count": 24,
   "id": "cfc820ab",
   "metadata": {},
   "outputs": [],
   "source": [
    "def prime(num):\n",
    "    x = 0\n",
    "    if num <= 1:\n",
    "        return None\n",
    "    for item in range(2,num):\n",
    "        if num % item == 0:\n",
    "            return False\n",
    "    return True"
   ]
  },
  {
   "cell_type": "code",
   "execution_count": 26,
   "id": "24d20767",
   "metadata": {},
   "outputs": [
    {
     "name": "stdout",
     "output_type": "stream",
     "text": [
      "Enter a number: 7\n"
     ]
    },
    {
     "data": {
      "text/plain": [
       "True"
      ]
     },
     "execution_count": 26,
     "metadata": {},
     "output_type": "execute_result"
    }
   ],
   "source": [
    "num = int(input(\"Enter a number: \"))\n",
    "prime(num = num)"
   ]
  },
  {
   "cell_type": "code",
   "execution_count": 30,
   "id": "552be773",
   "metadata": {},
   "outputs": [],
   "source": [
    "import random\n",
    "random.seed(6)\n",
    "data = [random.randint(2,10) for i in range(10)]"
   ]
  },
  {
   "cell_type": "code",
   "execution_count": 31,
   "id": "d420dd33",
   "metadata": {},
   "outputs": [
    {
     "data": {
      "text/plain": [
       "[3, 9, 6, 2, 2, 4, 9, 7, 7, 2]"
      ]
     },
     "execution_count": 31,
     "metadata": {},
     "output_type": "execute_result"
    }
   ],
   "source": [
    "data"
   ]
  },
  {
   "cell_type": "code",
   "execution_count": 32,
   "id": "ebf9b30f",
   "metadata": {},
   "outputs": [
    {
     "data": {
      "text/plain": [
       "[True, False, False, True, True, False, False, True, True, True]"
      ]
     },
     "execution_count": 32,
     "metadata": {},
     "output_type": "execute_result"
    }
   ],
   "source": [
    "[prime(num = item) for item in data]"
   ]
  },
  {
   "cell_type": "markdown",
   "id": "3cb25392",
   "metadata": {},
   "source": [
    "# Factorial\n",
    "    0! = 1\n",
    "    1! = 1\n",
    "    2! = 2 * 1! = 2\n",
    "    3! = 3 * 2! = 6\n",
    "    4! = 4 * 3! = 24\n",
    "    5! = 5 * 4! = 120\n",
    "    6! = 6 * 5! = 720"
   ]
  },
  {
   "cell_type": "code",
   "execution_count": 48,
   "id": "d1ce1e44",
   "metadata": {},
   "outputs": [],
   "source": [
    "def factorial(num):\n",
    "    fact = 1\n",
    "    if num < 0:\n",
    "        return None\n",
    "    elif num == 0:\n",
    "        return 1\n",
    "    else:\n",
    "        for index in range(1, num + 1):\n",
    "            fact = fact * index\n",
    "\n",
    "    return fact"
   ]
  },
  {
   "cell_type": "code",
   "execution_count": 51,
   "id": "3379e649",
   "metadata": {},
   "outputs": [
    {
     "name": "stdout",
     "output_type": "stream",
     "text": [
      "Enter a number: 6\n"
     ]
    },
    {
     "data": {
      "text/plain": [
       "720"
      ]
     },
     "execution_count": 51,
     "metadata": {},
     "output_type": "execute_result"
    }
   ],
   "source": [
    "input_no = int(input(\"Enter a number: \"))\n",
    "factorial(num = input_no)"
   ]
  },
  {
   "cell_type": "code",
   "execution_count": null,
   "id": "16dc2480",
   "metadata": {},
   "outputs": [],
   "source": []
  }
 ],
 "metadata": {
  "kernelspec": {
   "display_name": "Python 3 (ipykernel)",
   "language": "python",
   "name": "python3"
  },
  "language_info": {
   "codemirror_mode": {
    "name": "ipython",
    "version": 3
   },
   "file_extension": ".py",
   "mimetype": "text/x-python",
   "name": "python",
   "nbconvert_exporter": "python",
   "pygments_lexer": "ipython3",
   "version": "3.10.11"
  }
 },
 "nbformat": 4,
 "nbformat_minor": 5
}
