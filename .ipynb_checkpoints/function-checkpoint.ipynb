{
 "cells": [
  {
   "cell_type": "markdown",
   "id": "39763cd9",
   "metadata": {},
   "source": [
    "# Function Syntax\n",
    "```python\n",
    "\n",
    "def function_name(parameters):\n",
    "    # Function body\n",
    "    return expression\n",
    "```"
   ]
  },
  {
   "cell_type": "code",
   "execution_count": 1,
   "id": "28e56760",
   "metadata": {},
   "outputs": [
    {
     "name": "stdout",
     "output_type": "stream",
     "text": [
      "7\n"
     ]
    }
   ],
   "source": [
    "a = 5\n",
    "b = 2\n",
    "c = a + b\n",
    "print(c)"
   ]
  },
  {
   "cell_type": "code",
   "execution_count": 4,
   "id": "37e35305",
   "metadata": {},
   "outputs": [],
   "source": [
    "def add():\n",
    "    a = 5\n",
    "    b = 2\n",
    "    c = a + b\n",
    "    print(c)"
   ]
  },
  {
   "cell_type": "code",
   "execution_count": 5,
   "id": "cd860c5e",
   "metadata": {},
   "outputs": [
    {
     "name": "stdout",
     "output_type": "stream",
     "text": [
      "7\n"
     ]
    }
   ],
   "source": [
    "add()"
   ]
  },
  {
   "cell_type": "code",
   "execution_count": 6,
   "id": "04fbdc92",
   "metadata": {},
   "outputs": [
    {
     "name": "stdout",
     "output_type": "stream",
     "text": [
      "7\n"
     ]
    }
   ],
   "source": [
    "add()"
   ]
  },
  {
   "cell_type": "code",
   "execution_count": 11,
   "id": "e217e953",
   "metadata": {},
   "outputs": [],
   "source": [
    "def add(a, b):\n",
    "    c = a + b\n",
    "    print(c)"
   ]
  },
  {
   "cell_type": "code",
   "execution_count": 12,
   "id": "d97b0329",
   "metadata": {},
   "outputs": [
    {
     "name": "stdout",
     "output_type": "stream",
     "text": [
      "7\n"
     ]
    }
   ],
   "source": [
    "add (a = 5, b = 2)"
   ]
  },
  {
   "cell_type": "code",
   "execution_count": 17,
   "id": "819ba7d9",
   "metadata": {},
   "outputs": [
    {
     "name": "stdout",
     "output_type": "stream",
     "text": [
      "Enter first number: 6\n",
      "Enter second number: 5\n",
      "11\n"
     ]
    }
   ],
   "source": [
    "x = int(input(\"Enter first number: \"))\n",
    "y = int(input(\"Enter second number: \"))\n",
    "\n",
    "def add(x,y):\n",
    "    summation = x + y\n",
    "    print(summation)\n",
    "\n",
    "add(x = x,y = y)"
   ]
  },
  {
   "cell_type": "markdown",
   "id": "95afe0e3",
   "metadata": {},
   "source": [
    "# Multiply two numbers using function and take input from the user"
   ]
  },
  {
   "cell_type": "code",
   "execution_count": 18,
   "id": "f5a80061",
   "metadata": {},
   "outputs": [
    {
     "name": "stdout",
     "output_type": "stream",
     "text": [
      "Enter first number: 5\n",
      "Enter second number: 6\n",
      "30\n"
     ]
    }
   ],
   "source": [
    "x = int(input(\"Enter first number: \"))\n",
    "y = int(input(\"Enter second number: \"))\n",
    "\n",
    "def product(num1, num2):\n",
    "    multiplication = num1 * num2\n",
    "    print(multiplication)\n",
    "\n",
    "product(num1 = x, num2 = y)"
   ]
  },
  {
   "cell_type": "markdown",
   "id": "c686fe95",
   "metadata": {},
   "source": [
    "# Returning values in function"
   ]
  },
  {
   "cell_type": "code",
   "execution_count": 25,
   "id": "b2d8a6bd",
   "metadata": {},
   "outputs": [],
   "source": [
    "def mul(num1, num2):\n",
    "    product = num1 * num2\n",
    "    return product;\n",
    "\n",
    "output = mul(num1 = x, num2 = y)"
   ]
  },
  {
   "cell_type": "code",
   "execution_count": 29,
   "id": "2bfcdfc6",
   "metadata": {},
   "outputs": [],
   "source": [
    "def square(num):\n",
    "    sq = num ** 2\n",
    "    return sq"
   ]
  },
  {
   "cell_type": "code",
   "execution_count": 31,
   "id": "1eccaebb",
   "metadata": {},
   "outputs": [
    {
     "name": "stdout",
     "output_type": "stream",
     "text": [
      "Enter first number: 5\n",
      "Enter second number: 6\n",
      "900\n"
     ]
    }
   ],
   "source": [
    "x = int(input(\"Enter first number: \"))\n",
    "y = int(input(\"Enter second number: \"))\n",
    "\n",
    "output = mul(num1 = x, num2 = y)\n",
    "output = square(num = output)\n",
    "print(squared)"
   ]
  },
  {
   "cell_type": "markdown",
   "id": "e5168936",
   "metadata": {},
   "source": [
    "# Default arguments vs non default arguments"
   ]
  },
  {
   "cell_type": "code",
   "execution_count": 7,
   "id": "1aacf7f0",
   "metadata": {},
   "outputs": [],
   "source": [
    "def greet(name, msg):\n",
    "    print(f\"Hi {name}, {msg}!\")"
   ]
  },
  {
   "cell_type": "code",
   "execution_count": 8,
   "id": "d3f6777f",
   "metadata": {},
   "outputs": [
    {
     "name": "stdout",
     "output_type": "stream",
     "text": [
      "Hi Sandesh,Good Morning!\n"
     ]
    }
   ],
   "source": [
    "greet(name = \"Sandesh\", msg = \"Good Morning\")"
   ]
  },
  {
   "cell_type": "markdown",
   "id": "bad4496e",
   "metadata": {},
   "source": [
    "# Default argument"
   ]
  },
  {
   "cell_type": "code",
   "execution_count": 15,
   "id": "80c21836",
   "metadata": {},
   "outputs": [],
   "source": [
    "def greet(name, msg = \"Good Morning!\"):    # msg is a default argument\n",
    "    print(f\"Hi {name}, {msg}\")"
   ]
  },
  {
   "cell_type": "code",
   "execution_count": 16,
   "id": "878ce450",
   "metadata": {},
   "outputs": [
    {
     "name": "stdout",
     "output_type": "stream",
     "text": [
      "Hi Rame, Good Morning!\n"
     ]
    }
   ],
   "source": [
    "greet(name = \"Rame\")"
   ]
  },
  {
   "cell_type": "code",
   "execution_count": 17,
   "id": "ac2f2246",
   "metadata": {
    "scrolled": true
   },
   "outputs": [
    {
     "name": "stdout",
     "output_type": "stream",
     "text": [
      "Hi Ram, Good Afternoon!\n"
     ]
    }
   ],
   "source": [
    "greet(name = \"Ram\", msg = \"Good Afternoon!\")   # Overwrites the value o default argument."
   ]
  },
  {
   "cell_type": "markdown",
   "id": "97ca2b37",
   "metadata": {},
   "source": [
    "# Non default argument doesn't follow default argument."
   ]
  },
  {
   "cell_type": "code",
   "execution_count": 19,
   "id": "1a450aa3",
   "metadata": {},
   "outputs": [
    {
     "ename": "SyntaxError",
     "evalue": "non-default argument follows default argument (209982652.py, line 2)",
     "output_type": "error",
     "traceback": [
      "\u001b[1;36m  Cell \u001b[1;32mIn[19], line 2\u001b[1;36m\u001b[0m\n\u001b[1;33m    def greet(msg = \"Good Morning!\", name):    # msg is a default argument\u001b[0m\n\u001b[1;37m                                     ^\u001b[0m\n\u001b[1;31mSyntaxError\u001b[0m\u001b[1;31m:\u001b[0m non-default argument follows default argument\n"
     ]
    }
   ],
   "source": [
    "# Non Defaul argument\n",
    "def greet(msg = \"Good Morning!\", name):    # msg is a default argument\n",
    "    print(f\"Hi {name}, {msg}\")"
   ]
  },
  {
   "cell_type": "markdown",
   "id": "7481b7a0",
   "metadata": {},
   "source": [
    "* name = Non default argument\n",
    "* msg = default argument"
   ]
  },
  {
   "cell_type": "markdown",
   "id": "692ac623",
   "metadata": {},
   "source": [
    "# Returning multiple value in function"
   ]
  },
  {
   "cell_type": "code",
   "execution_count": 20,
   "id": "7bd5003f",
   "metadata": {},
   "outputs": [
    {
     "data": {
      "text/plain": [
       "3.141592653589793"
      ]
     },
     "execution_count": 20,
     "metadata": {},
     "output_type": "execute_result"
    }
   ],
   "source": [
    "import math\n",
    "math.pi"
   ]
  },
  {
   "cell_type": "code",
   "execution_count": 21,
   "id": "d5940917",
   "metadata": {},
   "outputs": [
    {
     "data": {
      "text/plain": [
       "10"
      ]
     },
     "execution_count": 21,
     "metadata": {},
     "output_type": "execute_result"
    }
   ],
   "source": [
    "math.gcd(30, 20, 40)"
   ]
  },
  {
   "cell_type": "code",
   "execution_count": 23,
   "id": "d3e44083",
   "metadata": {},
   "outputs": [
    {
     "data": {
      "text/plain": [
       "120"
      ]
     },
     "execution_count": 23,
     "metadata": {},
     "output_type": "execute_result"
    }
   ],
   "source": [
    "math.lcm(30, 20, 40)"
   ]
  },
  {
   "cell_type": "code",
   "execution_count": 29,
   "id": "f703d80f",
   "metadata": {},
   "outputs": [],
   "source": [
    "import math\n",
    "def get_hcf_lcm(num1, num2):\n",
    "    hcf = math.gcd(num1, num2)\n",
    "    lcm = math.lcm(num1, num2)\n",
    "    return hcf, lcm"
   ]
  },
  {
   "cell_type": "code",
   "execution_count": 31,
   "id": "122f4842",
   "metadata": {},
   "outputs": [
    {
     "data": {
      "text/plain": [
       "(2, 40)"
      ]
     },
     "execution_count": 31,
     "metadata": {},
     "output_type": "execute_result"
    }
   ],
   "source": [
    "get_hcf_lcm(num1 = 10, num2 = 8)"
   ]
  },
  {
   "cell_type": "code",
   "execution_count": 35,
   "id": "c3dd6cbe",
   "metadata": {},
   "outputs": [],
   "source": [
    "hcf, lcm = get_hcf_lcm(num1 = 10, num2 = 8)   # Tuple ma answer aauxa --- Unpack it"
   ]
  },
  {
   "cell_type": "code",
   "execution_count": 36,
   "id": "580a85b1",
   "metadata": {},
   "outputs": [
    {
     "data": {
      "text/plain": [
       "2"
      ]
     },
     "execution_count": 36,
     "metadata": {},
     "output_type": "execute_result"
    }
   ],
   "source": [
    "hcf"
   ]
  },
  {
   "cell_type": "code",
   "execution_count": 37,
   "id": "c42ac79a",
   "metadata": {},
   "outputs": [
    {
     "data": {
      "text/plain": [
       "40"
      ]
     },
     "execution_count": 37,
     "metadata": {},
     "output_type": "execute_result"
    }
   ],
   "source": [
    "lcm"
   ]
  },
  {
   "cell_type": "markdown",
   "id": "05105d09",
   "metadata": {},
   "source": [
    "# Volume of a sphere using function. Generate radius using random number with range(1, 25), use seed = 0"
   ]
  },
  {
   "cell_type": "code",
   "execution_count": 51,
   "id": "8ae45791",
   "metadata": {},
   "outputs": [],
   "source": [
    "import math\n",
    "import random\n",
    "def volume(radius, pi = math.pi):\n",
    "    vol = 4/3 * (pi * (radius ** 3))\n",
    "    return(vol)"
   ]
  },
  {
   "cell_type": "code",
   "execution_count": 59,
   "id": "c6c9a6e0",
   "metadata": {},
   "outputs": [
    {
     "name": "stdout",
     "output_type": "stream",
     "text": [
      "Volume of sphere with radius 13 is 9202.77\n"
     ]
    }
   ],
   "source": [
    "random.seed(0)\n",
    "rad = random.randint(1,25)\n",
    "vol = volume(radius = rad)\n",
    "print(f\"Volume of sphere with radius {rad} is {round(vol, 2)}\")"
   ]
  },
  {
   "cell_type": "code",
   "execution_count": null,
   "id": "4835572c",
   "metadata": {},
   "outputs": [],
   "source": []
  }
 ],
 "metadata": {
  "kernelspec": {
   "display_name": "Python 3 (ipykernel)",
   "language": "python",
   "name": "python3"
  },
  "language_info": {
   "codemirror_mode": {
    "name": "ipython",
    "version": 3
   },
   "file_extension": ".py",
   "mimetype": "text/x-python",
   "name": "python",
   "nbconvert_exporter": "python",
   "pygments_lexer": "ipython3",
   "version": "3.10.11"
  }
 },
 "nbformat": 4,
 "nbformat_minor": 5
}
