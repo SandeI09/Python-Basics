{
 "cells": [
  {
   "cell_type": "markdown",
   "id": "bf05a2d2",
   "metadata": {},
   "source": [
    "# Are access specifiers used in python? -- No, but has concept of limiting behavior of variables: private attribute are not inherited "
   ]
  },
  {
   "cell_type": "code",
   "execution_count": 7,
   "id": "e6162963",
   "metadata": {},
   "outputs": [],
   "source": [
    "class Tutor:\n",
    "    # public\n",
    "    name = \"Kshitiz\"\n",
    "    # Protected   : agadi _\n",
    "    _teaches = 'Python'\n",
    "    # Private   : agadi __\n",
    "    __at = 'Broadway'"
   ]
  },
  {
   "cell_type": "code",
   "execution_count": 8,
   "id": "7c293aec",
   "metadata": {},
   "outputs": [],
   "source": [
    "t1 = Tutor()"
   ]
  },
  {
   "cell_type": "code",
   "execution_count": 9,
   "id": "b08c4b88",
   "metadata": {},
   "outputs": [
    {
     "data": {
      "text/plain": [
       "'Kshitiz'"
      ]
     },
     "execution_count": 9,
     "metadata": {},
     "output_type": "execute_result"
    }
   ],
   "source": [
    "t1.name"
   ]
  },
  {
   "cell_type": "code",
   "execution_count": 10,
   "id": "ab22d7dc",
   "metadata": {},
   "outputs": [
    {
     "data": {
      "text/plain": [
       "'Python'"
      ]
     },
     "execution_count": 10,
     "metadata": {},
     "output_type": "execute_result"
    }
   ],
   "source": [
    "t1._teaches"
   ]
  },
  {
   "cell_type": "code",
   "execution_count": 11,
   "id": "36dbe33c",
   "metadata": {},
   "outputs": [
    {
     "ename": "AttributeError",
     "evalue": "'Tutor' object has no attribute '__at'",
     "output_type": "error",
     "traceback": [
      "\u001b[1;31m---------------------------------------------------------------------------\u001b[0m",
      "\u001b[1;31mAttributeError\u001b[0m                            Traceback (most recent call last)",
      "Cell \u001b[1;32mIn[11], line 1\u001b[0m\n\u001b[1;32m----> 1\u001b[0m \u001b[43mt1\u001b[49m\u001b[38;5;241;43m.\u001b[39;49m\u001b[43m__at\u001b[49m\n",
      "\u001b[1;31mAttributeError\u001b[0m: 'Tutor' object has no attribute '__at'"
     ]
    }
   ],
   "source": [
    "t1.__at"
   ]
  },
  {
   "cell_type": "code",
   "execution_count": null,
   "id": "bbc8fbdb",
   "metadata": {},
   "outputs": [],
   "source": []
  }
 ],
 "metadata": {
  "kernelspec": {
   "display_name": "Python 3 (ipykernel)",
   "language": "python",
   "name": "python3"
  },
  "language_info": {
   "codemirror_mode": {
    "name": "ipython",
    "version": 3
   },
   "file_extension": ".py",
   "mimetype": "text/x-python",
   "name": "python",
   "nbconvert_exporter": "python",
   "pygments_lexer": "ipython3",
   "version": "3.10.11"
  }
 },
 "nbformat": 4,
 "nbformat_minor": 5
}
