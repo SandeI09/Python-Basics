{
 "cells": [
  {
   "cell_type": "markdown",
   "id": "0f055546",
   "metadata": {},
   "source": [
    "# What if I want to check multiple Expressions? ---Nesting and chaining of conditionals"
   ]
  },
  {
   "cell_type": "markdown",
   "id": "dc0aac66",
   "metadata": {},
   "source": [
    "# WAP to check if the user given input is positive, Negative or Neutral"
   ]
  },
  {
   "cell_type": "code",
   "execution_count": 9,
   "id": "960de5aa",
   "metadata": {},
   "outputs": [
    {
     "name": "stdout",
     "output_type": "stream",
     "text": [
      "Enter the number: -2\n",
      "-2.0 is negative.\n"
     ]
    }
   ],
   "source": [
    "num = float(input(\"Enter the number: \"))\n",
    "if num > 0:\n",
    "    print(f\"{num} is positive.\")\n",
    "else:\n",
    "    if num < 0:\n",
    "        print(f\"{num} is negative.\")\n",
    "    else:\n",
    "        print(f\"{num} is neutral.\")"
   ]
  },
  {
   "cell_type": "code",
   "execution_count": 12,
   "id": "6b90b4ee",
   "metadata": {},
   "outputs": [
    {
     "name": "stdout",
     "output_type": "stream",
     "text": [
      "Enter the number: 0\n",
      "0.0 is neutral.\n"
     ]
    }
   ],
   "source": [
    "num = float(input(\"Enter the number: \"))\n",
    "\n",
    "if num > 0:\n",
    "    print(f\"{num} is positive.\")\n",
    "elif num < 0:\n",
    "    print(f\"{num} is negative.\")\n",
    "else:\n",
    "    print(f\"{num} is neutral.\")"
   ]
  },
  {
   "cell_type": "code",
   "execution_count": null,
   "id": "62500a75",
   "metadata": {},
   "outputs": [],
   "source": []
  }
 ],
 "metadata": {
  "kernelspec": {
   "display_name": "Python 3 (ipykernel)",
   "language": "python",
   "name": "python3"
  },
  "language_info": {
   "codemirror_mode": {
    "name": "ipython",
    "version": 3
   },
   "file_extension": ".py",
   "mimetype": "text/x-python",
   "name": "python",
   "nbconvert_exporter": "python",
   "pygments_lexer": "ipython3",
   "version": "3.10.11"
  }
 },
 "nbformat": 4,
 "nbformat_minor": 5
}
