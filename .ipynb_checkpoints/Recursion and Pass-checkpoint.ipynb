{
 "cells": [
  {
   "cell_type": "code",
   "execution_count": 1,
   "id": "82609d77",
   "metadata": {},
   "outputs": [
    {
     "ename": "SyntaxError",
     "evalue": "incomplete input (3861551224.py, line 1)",
     "output_type": "error",
     "traceback": [
      "\u001b[1;36m  Cell \u001b[1;32mIn[1], line 1\u001b[1;36m\u001b[0m\n\u001b[1;33m    def test():\u001b[0m\n\u001b[1;37m               ^\u001b[0m\n\u001b[1;31mSyntaxError\u001b[0m\u001b[1;31m:\u001b[0m incomplete input\n"
     ]
    }
   ],
   "source": [
    "def test():"
   ]
  },
  {
   "cell_type": "code",
   "execution_count": 2,
   "id": "3d3ca5fc",
   "metadata": {},
   "outputs": [],
   "source": [
    "def test():\n",
    "    pass"
   ]
  },
  {
   "cell_type": "code",
   "execution_count": 3,
   "id": "eecc556d",
   "metadata": {},
   "outputs": [],
   "source": [
    "if 10 == 10:\n",
    "    pass"
   ]
  },
  {
   "cell_type": "markdown",
   "id": "3844a077",
   "metadata": {},
   "source": [
    "# pass is a placeholder to write future code"
   ]
  },
  {
   "cell_type": "markdown",
   "id": "30a74c98",
   "metadata": {},
   "source": [
    "# Recursion\n",
    "Function Calls itself"
   ]
  },
  {
   "cell_type": "code",
   "execution_count": 1,
   "id": "488c4222",
   "metadata": {},
   "outputs": [],
   "source": [
    "def test():\n",
    "    test()"
   ]
  },
  {
   "cell_type": "markdown",
   "id": "9c07e614",
   "metadata": {},
   "source": [
    "# Factorial\n",
    "    1! = 1\n",
    "    2! = 2 * 1! = 2\n",
    "    3! = 3 * 2! = 6\n",
    "    4! = 4 * 3! = 24\n",
    "    5! = 5 * 4! = 120\n",
    "    6! = 6 * 5! = 720"
   ]
  },
  {
   "cell_type": "code",
   "execution_count": 8,
   "id": "c4bffb94",
   "metadata": {},
   "outputs": [],
   "source": [
    "def factorial(num):\n",
    "    if num == 1 or num == 0:\n",
    "        return 1\n",
    "    elif num < 0:\n",
    "        return None\n",
    "    else:\n",
    "        return (num * factorial(num - 1))"
   ]
  },
  {
   "cell_type": "code",
   "execution_count": 9,
   "id": "4e1bb481",
   "metadata": {},
   "outputs": [
    {
     "name": "stdout",
     "output_type": "stream",
     "text": [
      "Enter the number: 5\n"
     ]
    },
    {
     "data": {
      "text/plain": [
       "120"
      ]
     },
     "execution_count": 9,
     "metadata": {},
     "output_type": "execute_result"
    }
   ],
   "source": [
    "num1 = int(input(\"Enter the number: \"))\n",
    "factorial(num = num1)"
   ]
  },
  {
   "cell_type": "code",
   "execution_count": 10,
   "id": "173dc1a8",
   "metadata": {},
   "outputs": [
    {
     "name": "stdout",
     "output_type": "stream",
     "text": [
      "Enter the number: 6\n"
     ]
    },
    {
     "data": {
      "text/plain": [
       "720"
      ]
     },
     "execution_count": 10,
     "metadata": {},
     "output_type": "execute_result"
    }
   ],
   "source": [
    "num1 = int(input(\"Enter the number: \"))\n",
    "factorial(num = num1)"
   ]
  },
  {
   "cell_type": "markdown",
   "id": "e9263000",
   "metadata": {},
   "source": [
    "# Find the fifth fibonacci number using recursion"
   ]
  },
  {
   "cell_type": "code",
   "execution_count": 4,
   "id": "2a1daac2",
   "metadata": {},
   "outputs": [],
   "source": [
    "def fibb(num = 1,index = 5):\n",
    "    if num == index:\n",
    "        return num\n",
    "    else:\n",
    "        num = num + fibb(num + 1, index = 5)"
   ]
  },
  {
   "cell_type": "code",
   "execution_count": 5,
   "id": "3b76f5a9",
   "metadata": {},
   "outputs": [
    {
     "ename": "TypeError",
     "evalue": "unsupported operand type(s) for +: 'int' and 'NoneType'",
     "output_type": "error",
     "traceback": [
      "\u001b[1;31m---------------------------------------------------------------------------\u001b[0m",
      "\u001b[1;31mTypeError\u001b[0m                                 Traceback (most recent call last)",
      "Cell \u001b[1;32mIn[5], line 1\u001b[0m\n\u001b[1;32m----> 1\u001b[0m x \u001b[38;5;241m=\u001b[39m \u001b[43mfibb\u001b[49m\u001b[43m(\u001b[49m\u001b[43m)\u001b[49m\n",
      "Cell \u001b[1;32mIn[4], line 5\u001b[0m, in \u001b[0;36mfibb\u001b[1;34m(num, index)\u001b[0m\n\u001b[0;32m      3\u001b[0m     \u001b[38;5;28;01mreturn\u001b[39;00m num\n\u001b[0;32m      4\u001b[0m \u001b[38;5;28;01melse\u001b[39;00m:\n\u001b[1;32m----> 5\u001b[0m     num \u001b[38;5;241m=\u001b[39m num \u001b[38;5;241m+\u001b[39m \u001b[43mfibb\u001b[49m\u001b[43m(\u001b[49m\u001b[43mnum\u001b[49m\u001b[43m \u001b[49m\u001b[38;5;241;43m+\u001b[39;49m\u001b[43m \u001b[49m\u001b[38;5;241;43m1\u001b[39;49m\u001b[43m,\u001b[49m\u001b[43m \u001b[49m\u001b[43mindex\u001b[49m\u001b[43m \u001b[49m\u001b[38;5;241;43m=\u001b[39;49m\u001b[43m \u001b[49m\u001b[38;5;241;43m5\u001b[39;49m\u001b[43m)\u001b[49m\n",
      "Cell \u001b[1;32mIn[4], line 5\u001b[0m, in \u001b[0;36mfibb\u001b[1;34m(num, index)\u001b[0m\n\u001b[0;32m      3\u001b[0m     \u001b[38;5;28;01mreturn\u001b[39;00m num\n\u001b[0;32m      4\u001b[0m \u001b[38;5;28;01melse\u001b[39;00m:\n\u001b[1;32m----> 5\u001b[0m     num \u001b[38;5;241m=\u001b[39m num \u001b[38;5;241m+\u001b[39m \u001b[43mfibb\u001b[49m\u001b[43m(\u001b[49m\u001b[43mnum\u001b[49m\u001b[43m \u001b[49m\u001b[38;5;241;43m+\u001b[39;49m\u001b[43m \u001b[49m\u001b[38;5;241;43m1\u001b[39;49m\u001b[43m,\u001b[49m\u001b[43m \u001b[49m\u001b[43mindex\u001b[49m\u001b[43m \u001b[49m\u001b[38;5;241;43m=\u001b[39;49m\u001b[43m \u001b[49m\u001b[38;5;241;43m5\u001b[39;49m\u001b[43m)\u001b[49m\n",
      "Cell \u001b[1;32mIn[4], line 5\u001b[0m, in \u001b[0;36mfibb\u001b[1;34m(num, index)\u001b[0m\n\u001b[0;32m      3\u001b[0m     \u001b[38;5;28;01mreturn\u001b[39;00m num\n\u001b[0;32m      4\u001b[0m \u001b[38;5;28;01melse\u001b[39;00m:\n\u001b[1;32m----> 5\u001b[0m     num \u001b[38;5;241m=\u001b[39m \u001b[43mnum\u001b[49m\u001b[43m \u001b[49m\u001b[38;5;241;43m+\u001b[39;49m\u001b[43m \u001b[49m\u001b[43mfibb\u001b[49m\u001b[43m(\u001b[49m\u001b[43mnum\u001b[49m\u001b[43m \u001b[49m\u001b[38;5;241;43m+\u001b[39;49m\u001b[43m \u001b[49m\u001b[38;5;241;43m1\u001b[39;49m\u001b[43m,\u001b[49m\u001b[43m \u001b[49m\u001b[43mindex\u001b[49m\u001b[43m \u001b[49m\u001b[38;5;241;43m=\u001b[39;49m\u001b[43m \u001b[49m\u001b[38;5;241;43m5\u001b[39;49m\u001b[43m)\u001b[49m\n",
      "\u001b[1;31mTypeError\u001b[0m: unsupported operand type(s) for +: 'int' and 'NoneType'"
     ]
    }
   ],
   "source": [
    "x = fibb()"
   ]
  },
  {
   "cell_type": "code",
   "execution_count": null,
   "id": "80322c0a",
   "metadata": {},
   "outputs": [],
   "source": []
  }
 ],
 "metadata": {
  "kernelspec": {
   "display_name": "Python 3 (ipykernel)",
   "language": "python",
   "name": "python3"
  },
  "language_info": {
   "codemirror_mode": {
    "name": "ipython",
    "version": 3
   },
   "file_extension": ".py",
   "mimetype": "text/x-python",
   "name": "python",
   "nbconvert_exporter": "python",
   "pygments_lexer": "ipython3",
   "version": "3.10.11"
  }
 },
 "nbformat": 4,
 "nbformat_minor": 5
}
