{
 "cells": [
  {
   "cell_type": "code",
   "execution_count": null,
   "id": "c5049634",
   "metadata": {},
   "outputs": [],
   "source": [
    "number = int(input(\"Enter a number: \"))\n",
    "if number%2 == 0:\n",
    "    print(f\"{number} is even\")\n",
    "else:\n",
    "    print(f\"{number} is odd\")"
   ]
  },
  {
   "cell_type": "markdown",
   "id": "5a64f857",
   "metadata": {},
   "source": [
    "# Comparision Operator"
   ]
  },
  {
   "cell_type": "code",
   "execution_count": null,
   "id": "7fbbf9c1",
   "metadata": {},
   "outputs": [],
   "source": [
    "10 == 10 # Equals to "
   ]
  },
  {
   "cell_type": "code",
   "execution_count": null,
   "id": "223c51eb",
   "metadata": {},
   "outputs": [],
   "source": [
    "5 > 6 # Greater then"
   ]
  },
  {
   "cell_type": "code",
   "execution_count": null,
   "id": "3b8fc587",
   "metadata": {},
   "outputs": [],
   "source": [
    "6 > 5 # Greater than"
   ]
  },
  {
   "cell_type": "code",
   "execution_count": null,
   "id": "4d40926d",
   "metadata": {},
   "outputs": [],
   "source": [
    "2 < 9 # Less than"
   ]
  },
  {
   "cell_type": "code",
   "execution_count": null,
   "id": "a4612796",
   "metadata": {},
   "outputs": [],
   "source": [
    "3 < 2 # Less than"
   ]
  },
  {
   "cell_type": "code",
   "execution_count": null,
   "id": "713589e3",
   "metadata": {},
   "outputs": [],
   "source": [
    "10 >= 9  # Greater than or equal to"
   ]
  },
  {
   "cell_type": "code",
   "execution_count": null,
   "id": "047fe62c",
   "metadata": {},
   "outputs": [],
   "source": [
    "3 <= 9 # Less than or equal to"
   ]
  },
  {
   "cell_type": "code",
   "execution_count": null,
   "id": "f5c06a6e",
   "metadata": {},
   "outputs": [],
   "source": [
    "5 != 3 # Not equal to"
   ]
  },
  {
   "cell_type": "code",
   "execution_count": null,
   "id": "a5d84b3e",
   "metadata": {},
   "outputs": [],
   "source": [
    "5 => 9 # Not greater than equal to"
   ]
  },
  {
   "cell_type": "markdown",
   "id": "411f1817",
   "metadata": {},
   "source": [
    "# Classwork Identify positive or negative number"
   ]
  },
  {
   "cell_type": "code",
   "execution_count": null,
   "id": "97b25933",
   "metadata": {},
   "outputs": [],
   "source": [
    "num = float(input(\"Enter a number :\"))\n",
    "if num > 0:\n",
    "    print(f\"{num} is positive\")\n",
    "elif num < 0:\n",
    "    print(f\"{num} is negative\")\n",
    "else:\n",
    "    print(f\"{num} is zero\")"
   ]
  },
  {
   "cell_type": "code",
   "execution_count": null,
   "id": "0d19d631",
   "metadata": {},
   "outputs": [],
   "source": [
    "num = float(input(\"Enter a number : \"))\n",
    "if num % 5 == 0:\n",
    "    print(\"Hello!\")\n",
    "else:\n",
    "    print(\" Tata ByeBye! Gaya Khatam!\")"
   ]
  },
  {
   "cell_type": "markdown",
   "id": "2125e4bf",
   "metadata": {},
   "source": [
    "# Eligible for voting or not\n"
   ]
  },
  {
   "cell_type": "code",
   "execution_count": null,
   "id": "54f884b8",
   "metadata": {},
   "outputs": [],
   "source": [
    "age = int(input(\"Enter your age: \"))\n",
    "if age >= 18:\n",
    "    print(\"You are eligible for voting\")\n",
    "else:\n",
    "    print(\"You are not eligible or voting\")"
   ]
  },
  {
   "cell_type": "markdown",
   "id": "223f1fc2",
   "metadata": {},
   "source": [
    "# Last digit of a number is divisible by 3 or not"
   ]
  },
  {
   "cell_type": "code",
   "execution_count": 5,
   "id": "be361263",
   "metadata": {},
   "outputs": [
    {
     "name": "stdout",
     "output_type": "stream",
     "text": [
      "Enter a number : 144\n",
      "Last digit is not 3\n"
     ]
    }
   ],
   "source": [
    "num = int(input(\"Enter a number : \"));\n",
    "rem = num % 10;\n",
    "if rem == 3:\n",
    "    print(\"Last digit is 3\");\n",
    "else:\n",
    "    print(\"Last digit is not 3\");"
   ]
  },
  {
   "cell_type": "code",
   "execution_count": null,
   "id": "e73e2062",
   "metadata": {},
   "outputs": [],
   "source": []
  }
 ],
 "metadata": {
  "kernelspec": {
   "display_name": "Python 3 (ipykernel)",
   "language": "python",
   "name": "python3"
  },
  "language_info": {
   "codemirror_mode": {
    "name": "ipython",
    "version": 3
   },
   "file_extension": ".py",
   "mimetype": "text/x-python",
   "name": "python",
   "nbconvert_exporter": "python",
   "pygments_lexer": "ipython3",
   "version": "3.10.11"
  }
 },
 "nbformat": 4,
 "nbformat_minor": 5
}
