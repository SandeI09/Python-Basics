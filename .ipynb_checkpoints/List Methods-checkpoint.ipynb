{
 "cells": [
  {
   "cell_type": "code",
   "execution_count": null,
   "id": "e319d476",
   "metadata": {},
   "outputs": [],
   "source": [
    "book = ['Lord of the Rings','Harry Potter', 'Famous 5', 'A sun', 'Game of Thrones', 'Meditation', 'MahaBharat', 'The Alchemist']"
   ]
  },
  {
   "cell_type": "code",
   "execution_count": null,
   "id": "6b05aaf5",
   "metadata": {},
   "outputs": [],
   "source": [
    "book"
   ]
  },
  {
   "cell_type": "code",
   "execution_count": null,
   "id": "4eed5775",
   "metadata": {},
   "outputs": [],
   "source": [
    "book[4] = 'GOT'   # List is a mutable date type"
   ]
  },
  {
   "cell_type": "code",
   "execution_count": null,
   "id": "88d3d41a",
   "metadata": {},
   "outputs": [],
   "source": [
    "book"
   ]
  },
  {
   "cell_type": "code",
   "execution_count": null,
   "id": "d40cd379",
   "metadata": {},
   "outputs": [],
   "source": [
    "fruits = [\"apple\", \"Banana\", \"Mango\", \"Orange\", \"Kiwi\", \"Mango\"]\n",
    "fruits[1:3] = [\"Blackcurrant\", \"Watermelon\"]\n",
    "print(fruits)"
   ]
  },
  {
   "cell_type": "markdown",
   "id": "f8d11d7b",
   "metadata": {},
   "source": [
    "# .insert() You can insert  list item at a specigied index, Use the insert() method."
   ]
  },
  {
   "cell_type": "code",
   "execution_count": null,
   "id": "b5251ed2",
   "metadata": {},
   "outputs": [],
   "source": [
    "fruits.insert(1, \"Strawberry\")"
   ]
  },
  {
   "cell_type": "code",
   "execution_count": null,
   "id": "8c456d1f",
   "metadata": {},
   "outputs": [],
   "source": [
    "print(fruits)"
   ]
  },
  {
   "cell_type": "markdown",
   "id": "8c9c6117",
   "metadata": {},
   "source": [
    "# You can append items on list items --- add additional items on the end of the python list using append() method"
   ]
  },
  {
   "cell_type": "code",
   "execution_count": null,
   "id": "13093426",
   "metadata": {},
   "outputs": [],
   "source": [
    "line = []\n",
    "line.append(\"Kshitz\")"
   ]
  },
  {
   "cell_type": "code",
   "execution_count": null,
   "id": "95f8d5b4",
   "metadata": {},
   "outputs": [],
   "source": [
    "line"
   ]
  },
  {
   "cell_type": "code",
   "execution_count": null,
   "id": "c4524d90",
   "metadata": {},
   "outputs": [],
   "source": [
    "line.append(\"Sandesh\")"
   ]
  },
  {
   "cell_type": "code",
   "execution_count": null,
   "id": "dbe031cf",
   "metadata": {},
   "outputs": [],
   "source": [
    "line"
   ]
  },
  {
   "cell_type": "code",
   "execution_count": null,
   "id": "da21c6e9",
   "metadata": {},
   "outputs": [],
   "source": [
    "even = []\n",
    "for number in range(2, 25, 2):\n",
    "    even.append(number)"
   ]
  },
  {
   "cell_type": "code",
   "execution_count": null,
   "id": "6c9d917e",
   "metadata": {},
   "outputs": [],
   "source": [
    "print(even)"
   ]
  },
  {
   "cell_type": "code",
   "execution_count": null,
   "id": "799cf87c",
   "metadata": {},
   "outputs": [],
   "source": [
    "odd = []\n",
    "for number in range(1,25,2):\n",
    "    odd.append(number)\n",
    "    \n",
    "print(odd)"
   ]
  },
  {
   "cell_type": "markdown",
   "id": "1650402d",
   "metadata": {},
   "source": [
    "# Find square of number in the given list"
   ]
  },
  {
   "cell_type": "code",
   "execution_count": null,
   "id": "768158d1",
   "metadata": {},
   "outputs": [],
   "source": [
    "data = [1,3,4,6,8]\n",
    "square = []\n",
    "cube = []\n",
    "\n",
    "for number in data:\n",
    "    sq = number ** 2\n",
    "    cu = number ** 3\n",
    "    square.append(sq)\n",
    "    cube.append(cu)\n",
    "    \n",
    "print(f\"Square = {square}\")\n",
    "print(f\"Cube = {cube}\")"
   ]
  },
  {
   "cell_type": "markdown",
   "id": "4e398867",
   "metadata": {},
   "source": [
    "# .extend()"
   ]
  },
  {
   "cell_type": "code",
   "execution_count": null,
   "id": "ffe0832c",
   "metadata": {},
   "outputs": [],
   "source": [
    "l1 = ['Dal', 'Bhat']\n",
    "l2 = ['achar', 'tarkari', 'salad']"
   ]
  },
  {
   "cell_type": "code",
   "execution_count": null,
   "id": "d3d088d0",
   "metadata": {},
   "outputs": [],
   "source": [
    "l1 + l2"
   ]
  },
  {
   "cell_type": "code",
   "execution_count": null,
   "id": "2a31509f",
   "metadata": {},
   "outputs": [],
   "source": [
    "l1.extend(l2)"
   ]
  },
  {
   "cell_type": "code",
   "execution_count": null,
   "id": "922270be",
   "metadata": {},
   "outputs": [],
   "source": [
    "l1"
   ]
  },
  {
   "cell_type": "code",
   "execution_count": 1,
   "id": "b2e0ecf6",
   "metadata": {},
   "outputs": [],
   "source": [
    "l1 = ['Dal', 'Bhat']\n",
    "l2 = ['achar', 'tarkari', 'salad']\n",
    "l2.extend(l1)"
   ]
  },
  {
   "cell_type": "code",
   "execution_count": 2,
   "id": "e2e3424a",
   "metadata": {},
   "outputs": [
    {
     "data": {
      "text/plain": [
       "['achar', 'tarkari', 'salad', 'Dal', 'Bhat']"
      ]
     },
     "execution_count": 2,
     "metadata": {},
     "output_type": "execute_result"
    }
   ],
   "source": [
    "l2"
   ]
  },
  {
   "cell_type": "markdown",
   "id": "5d51c613",
   "metadata": {},
   "source": [
    "# .remove()"
   ]
  },
  {
   "cell_type": "code",
   "execution_count": 3,
   "id": "6ad9d4cf",
   "metadata": {},
   "outputs": [],
   "source": [
    "fruits = [\"apple\", \"Banana\", \"Mango\", \"Orange\", \"Kiwi\", \"Mango\"]\n",
    "fruits.remove(\"apple\")"
   ]
  },
  {
   "cell_type": "code",
   "execution_count": 5,
   "id": "f14e0f3b",
   "metadata": {},
   "outputs": [
    {
     "data": {
      "text/plain": [
       "['Banana', 'Mango', 'Orange', 'Kiwi', 'Mango']"
      ]
     },
     "execution_count": 5,
     "metadata": {},
     "output_type": "execute_result"
    }
   ],
   "source": [
    "fruits  # Dont remove all duplicate occurance"
   ]
  },
  {
   "cell_type": "markdown",
   "id": "c713fc8b",
   "metadata": {},
   "source": [
    "# .pop()"
   ]
  },
  {
   "cell_type": "code",
   "execution_count": null,
   "id": "29a4a51e",
   "metadata": {},
   "outputs": [],
   "source": []
  },
  {
   "cell_type": "code",
   "execution_count": 8,
   "id": "fea56ddc",
   "metadata": {},
   "outputs": [
    {
     "data": {
      "text/plain": [
       "'Mango'"
      ]
     },
     "execution_count": 8,
     "metadata": {},
     "output_type": "execute_result"
    }
   ],
   "source": [
    "fruits = [\"apple\", \"Banana\", \"Mango\", \"Orange\", \"Kiwi\", \"Mango\"]\n",
    "fruits.pop()"
   ]
  },
  {
   "cell_type": "code",
   "execution_count": 9,
   "id": "325cd7e7",
   "metadata": {},
   "outputs": [
    {
     "data": {
      "text/plain": [
       "['apple', 'Banana', 'Mango', 'Orange', 'Kiwi']"
      ]
     },
     "execution_count": 9,
     "metadata": {},
     "output_type": "execute_result"
    }
   ],
   "source": [
    "fruits"
   ]
  },
  {
   "cell_type": "code",
   "execution_count": 10,
   "id": "ffbf07e3",
   "metadata": {},
   "outputs": [
    {
     "data": {
      "text/plain": [
       "'Kiwi'"
      ]
     },
     "execution_count": 10,
     "metadata": {},
     "output_type": "execute_result"
    }
   ],
   "source": [
    "fruits.pop()"
   ]
  },
  {
   "cell_type": "code",
   "execution_count": 11,
   "id": "d0fab368",
   "metadata": {},
   "outputs": [
    {
     "data": {
      "text/plain": [
       "['apple', 'Banana', 'Mango', 'Orange']"
      ]
     },
     "execution_count": 11,
     "metadata": {},
     "output_type": "execute_result"
    }
   ],
   "source": [
    "fruits"
   ]
  },
  {
   "cell_type": "code",
   "execution_count": 12,
   "id": "e0f6e303",
   "metadata": {},
   "outputs": [],
   "source": [
    "# Pop allows index"
   ]
  },
  {
   "cell_type": "code",
   "execution_count": 13,
   "id": "2fcef387",
   "metadata": {},
   "outputs": [
    {
     "data": {
      "text/plain": [
       "'Banana'"
      ]
     },
     "execution_count": 13,
     "metadata": {},
     "output_type": "execute_result"
    }
   ],
   "source": [
    "fruits = [\"apple\", \"Banana\", \"Mango\", \"Orange\", \"Kiwi\", \"Mango\"]\n",
    "fruits.pop(1)"
   ]
  },
  {
   "cell_type": "markdown",
   "id": "ce0d899b",
   "metadata": {},
   "source": [
    "# Sorting of list --- .sort() method"
   ]
  },
  {
   "cell_type": "code",
   "execution_count": 20,
   "id": "b6cce91d",
   "metadata": {},
   "outputs": [],
   "source": [
    "numbers = [9,6,7,8,6,4,5,1]\n",
    "numbers.sort()   #Ascending order by default"
   ]
  },
  {
   "cell_type": "code",
   "execution_count": 21,
   "id": "2ca2bb35",
   "metadata": {},
   "outputs": [
    {
     "data": {
      "text/plain": [
       "[1, 4, 5, 6, 6, 7, 8, 9]"
      ]
     },
     "execution_count": 21,
     "metadata": {},
     "output_type": "execute_result"
    }
   ],
   "source": [
    "numbers"
   ]
  },
  {
   "cell_type": "code",
   "execution_count": 22,
   "id": "dc924c9c",
   "metadata": {},
   "outputs": [],
   "source": [
    "numbers = [9,6,7,8,6,4,5,1]\n",
    "numbers.sort(reverse = True)   #Descending order"
   ]
  },
  {
   "cell_type": "code",
   "execution_count": 23,
   "id": "4427794d",
   "metadata": {},
   "outputs": [
    {
     "data": {
      "text/plain": [
       "[9, 8, 7, 6, 6, 5, 4, 1]"
      ]
     },
     "execution_count": 23,
     "metadata": {},
     "output_type": "execute_result"
    }
   ],
   "source": [
    "numbers"
   ]
  },
  {
   "cell_type": "code",
   "execution_count": 24,
   "id": "93eeb335",
   "metadata": {},
   "outputs": [
    {
     "data": {
      "text/plain": [
       "[1, 4, 5, 6, 6, 7, 8, 9]"
      ]
     },
     "execution_count": 24,
     "metadata": {},
     "output_type": "execute_result"
    }
   ],
   "source": [
    "numbers = [9,6,7,8,6,4,5,1]\n",
    "sorted_numbers = sorted(numbers)\n",
    "sorted_numbers"
   ]
  },
  {
   "cell_type": "code",
   "execution_count": 25,
   "id": "f4a82e12",
   "metadata": {},
   "outputs": [
    {
     "data": {
      "text/plain": [
       "[9, 6, 7, 8, 6, 4, 5, 1]"
      ]
     },
     "execution_count": 25,
     "metadata": {},
     "output_type": "execute_result"
    }
   ],
   "source": [
    "numbers"
   ]
  },
  {
   "cell_type": "code",
   "execution_count": 28,
   "id": "e90c1f22",
   "metadata": {},
   "outputs": [
    {
     "data": {
      "text/plain": [
       "[9, 8, 7, 6, 6, 5, 4, 1]"
      ]
     },
     "execution_count": 28,
     "metadata": {},
     "output_type": "execute_result"
    }
   ],
   "source": [
    "numbers = [9,6,7,8,6,4,5,1]\n",
    "sorted_numbers = sorted(numbers, reverse = True)\n",
    "sorted_numbers"
   ]
  },
  {
   "cell_type": "markdown",
   "id": "747a9066",
   "metadata": {},
   "source": [
    "# Python List documentation: [Using python list as queue and stack](https://docs.python.org/3/tutorial/datastructures.html#using-lists-as-stacks)"
   ]
  }
 ],
 "metadata": {
  "kernelspec": {
   "display_name": "Python 3 (ipykernel)",
   "language": "python",
   "name": "python3"
  },
  "language_info": {
   "codemirror_mode": {
    "name": "ipython",
    "version": 3
   },
   "file_extension": ".py",
   "mimetype": "text/x-python",
   "name": "python",
   "nbconvert_exporter": "python",
   "pygments_lexer": "ipython3",
   "version": "3.10.11"
  }
 },
 "nbformat": 4,
 "nbformat_minor": 5
}
