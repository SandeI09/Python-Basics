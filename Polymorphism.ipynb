{
 "cells": [
  {
   "cell_type": "code",
   "execution_count": null,
   "id": "94676a42",
   "metadata": {},
   "outputs": [],
   "source": [
    "# Polymorphism -- having many forms"
   ]
  },
  {
   "cell_type": "code",
   "execution_count": null,
   "id": "fe52c8b4",
   "metadata": {},
   "outputs": [],
   "source": [
    "2 + 2     # Add"
   ]
  },
  {
   "cell_type": "code",
   "execution_count": null,
   "id": "e49e1e5b",
   "metadata": {},
   "outputs": [],
   "source": [
    "'Radhe' + 'Radhe'    # Concat"
   ]
  },
  {
   "cell_type": "code",
   "execution_count": null,
   "id": "4023b8ae",
   "metadata": {},
   "outputs": [],
   "source": [
    "[2, 3] + [-3, -1, -2]    # Concat"
   ]
  },
  {
   "cell_type": "code",
   "execution_count": null,
   "id": "5bca4b25",
   "metadata": {},
   "outputs": [],
   "source": [
    "len(\"Hello\")"
   ]
  },
  {
   "cell_type": "code",
   "execution_count": null,
   "id": "e3085da6",
   "metadata": {},
   "outputs": [],
   "source": [
    "len([6,5])"
   ]
  },
  {
   "cell_type": "code",
   "execution_count": null,
   "id": "0aef1b1d",
   "metadata": {},
   "outputs": [],
   "source": [
    "len((8,9,5,4))"
   ]
  },
  {
   "cell_type": "markdown",
   "id": "033530b7",
   "metadata": {},
   "source": [
    "# operator Overloading"
   ]
  },
  {
   "cell_type": "code",
   "execution_count": null,
   "id": "41c02d31",
   "metadata": {},
   "outputs": [],
   "source": [
    "class Point:\n",
    "    def __init__(self, point):\n",
    "        self.point = point\n",
    "        \n",
    "p1 = Point(5)\n",
    "p2 = Point(2)"
   ]
  },
  {
   "cell_type": "code",
   "execution_count": null,
   "id": "f0a7d27d",
   "metadata": {},
   "outputs": [],
   "source": [
    "p1 + p2"
   ]
  },
  {
   "cell_type": "code",
   "execution_count": null,
   "id": "0c1e617d",
   "metadata": {},
   "outputs": [],
   "source": [
    "# Operator overloading is done using dunders.\n",
    "# + Operator is overloaded by __add__\n",
    "# > Operator is overloaded by __gt__\n",
    "# < Operator is overloaded by __lt__"
   ]
  },
  {
   "cell_type": "code",
   "execution_count": 3,
   "id": "69bd86f3",
   "metadata": {},
   "outputs": [],
   "source": [
    "class Point:\n",
    "    def __init__(self, point):\n",
    "        self.point = point\n",
    "        \n",
    "    def __add__(self, other_obj):\n",
    "        return self.point + other_obj.point\n",
    "    \n",
    "p1 = Point(5)\n",
    "p2 = Point(2)"
   ]
  },
  {
   "cell_type": "code",
   "execution_count": 4,
   "id": "ae753a4c",
   "metadata": {},
   "outputs": [
    {
     "data": {
      "text/plain": [
       "7"
      ]
     },
     "execution_count": 4,
     "metadata": {},
     "output_type": "execute_result"
    }
   ],
   "source": [
    "p1 + p2"
   ]
  },
  {
   "cell_type": "code",
   "execution_count": 29,
   "id": "74c9e76c",
   "metadata": {},
   "outputs": [],
   "source": [
    "class Point:\n",
    "    def __init__(self, point):\n",
    "        self.point = point\n",
    "        \n",
    "    def __add__(self, other_obj):\n",
    "        return self.point + other_obj.point\n",
    "    \n",
    "    def __gt__(self, other_obj):\n",
    "        if self.point > other_obj.point:\n",
    "            print(f\"{self.point} > {other_obj.point}\")\n",
    "        else:\n",
    "            print(f\"{other_obj.point} > {self.point}\")\n",
    "    \n",
    "p1 = Point(5)\n",
    "p2 = Point(9)"
   ]
  },
  {
   "cell_type": "code",
   "execution_count": 30,
   "id": "0dbf5270",
   "metadata": {},
   "outputs": [
    {
     "data": {
      "text/plain": [
       "14"
      ]
     },
     "execution_count": 30,
     "metadata": {},
     "output_type": "execute_result"
    }
   ],
   "source": [
    "p1 + p2"
   ]
  },
  {
   "cell_type": "code",
   "execution_count": 31,
   "id": "adf6aef0",
   "metadata": {},
   "outputs": [
    {
     "name": "stdout",
     "output_type": "stream",
     "text": [
      "p2 = 9 > 5\n"
     ]
    }
   ],
   "source": [
    "p1 > p2"
   ]
  },
  {
   "cell_type": "code",
   "execution_count": 32,
   "id": "e36fb925",
   "metadata": {},
   "outputs": [
    {
     "name": "stdout",
     "output_type": "stream",
     "text": [
      "p1 = 9 > 5\n"
     ]
    }
   ],
   "source": [
    "p2 > p1"
   ]
  },
  {
   "cell_type": "code",
   "execution_count": 33,
   "id": "3790c1b7",
   "metadata": {},
   "outputs": [
    {
     "data": {
      "text/plain": [
       "False"
      ]
     },
     "execution_count": 33,
     "metadata": {},
     "output_type": "execute_result"
    }
   ],
   "source": [
    "2 > 9"
   ]
  },
  {
   "cell_type": "code",
   "execution_count": null,
   "id": "2cdc0340",
   "metadata": {},
   "outputs": [],
   "source": []
  }
 ],
 "metadata": {
  "kernelspec": {
   "display_name": "Python 3 (ipykernel)",
   "language": "python",
   "name": "python3"
  },
  "language_info": {
   "codemirror_mode": {
    "name": "ipython",
    "version": 3
   },
   "file_extension": ".py",
   "mimetype": "text/x-python",
   "name": "python",
   "nbconvert_exporter": "python",
   "pygments_lexer": "ipython3",
   "version": "3.10.11"
  }
 },
 "nbformat": 4,
 "nbformat_minor": 5
}
