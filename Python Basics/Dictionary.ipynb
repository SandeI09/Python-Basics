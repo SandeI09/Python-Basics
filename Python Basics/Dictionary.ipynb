{
 "cells": [
  {
   "cell_type": "markdown",
   "id": "698751d5",
   "metadata": {},
   "source": [
    "# Dictionary\n",
    "* Mapping data type\n",
    "* Dictionaries are used to store data values in key: Value pairs\n",
    "* A dictionaty is a collection which is ordered, changeable and do not allow duplicate keys.\n",
    "\n",
    "# Syntax\n",
    "```python\n",
    "    {\n",
    "        key:value\n",
    "    }\n",
    "```"
   ]
  },
  {
   "cell_type": "code",
   "execution_count": null,
   "id": "1a0a3ab0",
   "metadata": {},
   "outputs": [],
   "source": [
    "# Creating empty dictionaries"
   ]
  },
  {
   "cell_type": "code",
   "execution_count": null,
   "id": "24c2096e",
   "metadata": {},
   "outputs": [],
   "source": [
    "about = {}"
   ]
  },
  {
   "cell_type": "code",
   "execution_count": null,
   "id": "6e3db76c",
   "metadata": {},
   "outputs": [],
   "source": [
    "type(about)"
   ]
  },
  {
   "cell_type": "code",
   "execution_count": null,
   "id": "1e7a7f9b",
   "metadata": {},
   "outputs": [],
   "source": [
    "about = dict()\n",
    "type(about)"
   ]
  },
  {
   "cell_type": "markdown",
   "id": "ff272331",
   "metadata": {},
   "source": [
    "# Creating our own dictionary"
   ]
  },
  {
   "cell_type": "code",
   "execution_count": null,
   "id": "a0cac5a2",
   "metadata": {},
   "outputs": [],
   "source": [
    "# Value can be of any data type\n",
    "about = {\n",
    "    \"name\" : \"Sandesh\",\n",
    "    \"teaches\" : ['Python','Data Science', 'AI'],\n",
    "    \"age\" : 26\n",
    "}"
   ]
  },
  {
   "cell_type": "code",
   "execution_count": null,
   "id": "ec2971eb",
   "metadata": {},
   "outputs": [],
   "source": [
    "print(about)"
   ]
  },
  {
   "cell_type": "code",
   "execution_count": null,
   "id": "61cf0b86",
   "metadata": {},
   "outputs": [],
   "source": [
    "# Keys can be integer, float number and string"
   ]
  },
  {
   "cell_type": "code",
   "execution_count": null,
   "id": "c9dc9b05",
   "metadata": {},
   "outputs": [],
   "source": [
    "{\n",
    "    1: \"one\",\n",
    "    2.1: \"two\"\n",
    "}"
   ]
  },
  {
   "cell_type": "markdown",
   "id": "0d37e520",
   "metadata": {},
   "source": [
    "# Acessing keys value in dictionary"
   ]
  },
  {
   "cell_type": "code",
   "execution_count": null,
   "id": "a05455f8",
   "metadata": {},
   "outputs": [],
   "source": [
    "person = {\n",
    "    \"name\" : \"Sandesh\",\n",
    "    \"teaches\" : ['Python','Data Science', 'AI'],\n",
    "    \"age\" : 26\n",
    "}"
   ]
  },
  {
   "cell_type": "code",
   "execution_count": null,
   "id": "eff479e5",
   "metadata": {},
   "outputs": [],
   "source": [
    "# I want to know name of a person"
   ]
  },
  {
   "cell_type": "code",
   "execution_count": null,
   "id": "3a124633",
   "metadata": {},
   "outputs": [],
   "source": [
    "# First way:\n",
    "person['name']"
   ]
  },
  {
   "cell_type": "code",
   "execution_count": null,
   "id": "431717ac",
   "metadata": {},
   "outputs": [],
   "source": [
    "person['age']"
   ]
  },
  {
   "cell_type": "code",
   "execution_count": null,
   "id": "0a89bab1",
   "metadata": {},
   "outputs": [],
   "source": [
    "# Second way:"
   ]
  },
  {
   "cell_type": "code",
   "execution_count": null,
   "id": "1de7cea3",
   "metadata": {},
   "outputs": [],
   "source": [
    "person.get('age')"
   ]
  },
  {
   "cell_type": "code",
   "execution_count": null,
   "id": "c9bfe390",
   "metadata": {},
   "outputs": [],
   "source": [
    "person.get('teaches')"
   ]
  },
  {
   "cell_type": "markdown",
   "id": "77b9f005",
   "metadata": {},
   "source": [
    "# Adding key value pair in dictionary"
   ]
  },
  {
   "cell_type": "code",
   "execution_count": null,
   "id": "2f144881",
   "metadata": {},
   "outputs": [],
   "source": [
    "person = {\n",
    "    \"name\" : \"Sandesh\",\n",
    "    \"teaches\" : ['Python','Data Science', 'AI'],\n",
    "    \"age\" : 26\n",
    "}"
   ]
  },
  {
   "cell_type": "code",
   "execution_count": null,
   "id": "ac4a2803",
   "metadata": {},
   "outputs": [],
   "source": [
    "person['address'] = \"Gwarko\""
   ]
  },
  {
   "cell_type": "code",
   "execution_count": null,
   "id": "311e1c97",
   "metadata": {},
   "outputs": [],
   "source": [
    "person"
   ]
  },
  {
   "cell_type": "code",
   "execution_count": null,
   "id": "eefa137e",
   "metadata": {},
   "outputs": [],
   "source": [
    "person.update({'works_at' : 'Broadway'})"
   ]
  },
  {
   "cell_type": "code",
   "execution_count": null,
   "id": "9390d030",
   "metadata": {},
   "outputs": [],
   "source": [
    "person"
   ]
  },
  {
   "cell_type": "code",
   "execution_count": null,
   "id": "75fe309b",
   "metadata": {},
   "outputs": [],
   "source": [
    "person['name'] = \"Kshitiz Regmi\""
   ]
  },
  {
   "cell_type": "code",
   "execution_count": null,
   "id": "3fd272c6",
   "metadata": {
    "scrolled": true
   },
   "outputs": [],
   "source": [
    "person"
   ]
  },
  {
   "cell_type": "code",
   "execution_count": null,
   "id": "2d6755c8",
   "metadata": {},
   "outputs": [],
   "source": [
    "person.update({'name' : 'K$hitiz Regmi'})"
   ]
  },
  {
   "cell_type": "code",
   "execution_count": null,
   "id": "26c2d406",
   "metadata": {},
   "outputs": [],
   "source": [
    "person"
   ]
  },
  {
   "cell_type": "code",
   "execution_count": null,
   "id": "652dbb1e",
   "metadata": {},
   "outputs": [],
   "source": [
    "# Update le key exists gardaina vane naya key value pair dictionary ma thapxa\n",
    "# Yedi key exists garxa vane tyo key ko value update garxa"
   ]
  },
  {
   "cell_type": "code",
   "execution_count": null,
   "id": "d6d7b507",
   "metadata": {},
   "outputs": [],
   "source": [
    "mayor = {}\n",
    "name = input(\"Enter the name of mayor: \")\n",
    "age = int(input(\"Enter the age of mayor: \"))\n",
    "cit\n",
    "y = input(\"Enter the city of mayor: \")\n",
    "\n",
    "mayor.update({'name': name, 'age': age, 'city': city})\n",
    "print(mayor)"
   ]
  },
  {
   "cell_type": "code",
   "execution_count": null,
   "id": "da38d4a9",
   "metadata": {},
   "outputs": [],
   "source": [
    "about = list()\n",
    "for index in range(2):\n",
    "    name = input(\"Enter the name of mayor: \")\n",
    "    age = int(input(\"Enter the age of mayor: \"))\n",
    "    city = input(\"Enter the city of mayor: \")\n",
    "    data = {\n",
    "        'name' : name,\n",
    "        'age' : age,\n",
    "        'city' : city\n",
    "    }\n",
    "    about.append(data)\n",
    "\n",
    "print(about)"
   ]
  },
  {
   "cell_type": "code",
   "execution_count": 4,
   "id": "d10a6990",
   "metadata": {},
   "outputs": [],
   "source": [
    "name = ['Balen','Harka']\n",
    "city = ['ktm','Dharan']"
   ]
  },
  {
   "cell_type": "code",
   "execution_count": 5,
   "id": "caa0d2b4",
   "metadata": {},
   "outputs": [],
   "source": [
    "m = dict(zip(name,city))"
   ]
  },
  {
   "cell_type": "code",
   "execution_count": 6,
   "id": "4b12e1b7",
   "metadata": {},
   "outputs": [
    {
     "data": {
      "text/plain": [
       "'ktm'"
      ]
     },
     "execution_count": 6,
     "metadata": {},
     "output_type": "execute_result"
    }
   ],
   "source": [
    "m.get('Balen')"
   ]
  },
  {
   "cell_type": "code",
   "execution_count": 7,
   "id": "cdf4d0bf",
   "metadata": {},
   "outputs": [
    {
     "data": {
      "text/plain": [
       "dict_items([('Balen', 'ktm'), ('Harka', 'Dharan')])"
      ]
     },
     "execution_count": 7,
     "metadata": {},
     "output_type": "execute_result"
    }
   ],
   "source": [
    "m.items()"
   ]
  },
  {
   "cell_type": "code",
   "execution_count": 8,
   "id": "d1a0c7d3",
   "metadata": {},
   "outputs": [
    {
     "data": {
      "text/plain": [
       "dict_values(['ktm', 'Dharan'])"
      ]
     },
     "execution_count": 8,
     "metadata": {},
     "output_type": "execute_result"
    }
   ],
   "source": [
    "m.values()"
   ]
  },
  {
   "cell_type": "code",
   "execution_count": 9,
   "id": "65d6b3c3",
   "metadata": {},
   "outputs": [
    {
     "name": "stdout",
     "output_type": "stream",
     "text": [
      "('Balen', 'ktm')\n",
      "('Harka', 'Dharan')\n"
     ]
    }
   ],
   "source": [
    "for item in m.items():\n",
    "    print(item)"
   ]
  },
  {
   "cell_type": "code",
   "execution_count": 10,
   "id": "ffbcc4c2",
   "metadata": {},
   "outputs": [],
   "source": [
    "key , val = ('Balen', 'KTM')   #Tuple Unpacking"
   ]
  },
  {
   "cell_type": "code",
   "execution_count": 11,
   "id": "50aca0d8",
   "metadata": {},
   "outputs": [
    {
     "data": {
      "text/plain": [
       "'Balen'"
      ]
     },
     "execution_count": 11,
     "metadata": {},
     "output_type": "execute_result"
    }
   ],
   "source": [
    "key"
   ]
  },
  {
   "cell_type": "code",
   "execution_count": 12,
   "id": "860c262d",
   "metadata": {},
   "outputs": [
    {
     "data": {
      "text/plain": [
       "'KTM'"
      ]
     },
     "execution_count": 12,
     "metadata": {},
     "output_type": "execute_result"
    }
   ],
   "source": [
    "val"
   ]
  },
  {
   "cell_type": "code",
   "execution_count": 13,
   "id": "b275635d",
   "metadata": {},
   "outputs": [
    {
     "name": "stdout",
     "output_type": "stream",
     "text": [
      "Balen is a mayor of ktm\n",
      "Harka is a mayor of Dharan\n"
     ]
    }
   ],
   "source": [
    "for key, val in m.items():\n",
    "    print(f\"{key} is a mayor of {val}\")"
   ]
  },
  {
   "cell_type": "code",
   "execution_count": 15,
   "id": "a78389e9",
   "metadata": {},
   "outputs": [],
   "source": [
    "math = {'pi' : 3.14}"
   ]
  },
  {
   "cell_type": "code",
   "execution_count": 16,
   "id": "22e0d71e",
   "metadata": {},
   "outputs": [
    {
     "name": "stdout",
     "output_type": "stream",
     "text": [
      "pi 8.14\n"
     ]
    }
   ],
   "source": [
    "for key, val in math.items():\n",
    "    print(key, val + 5)"
   ]
  },
  {
   "cell_type": "markdown",
   "id": "7a81c01a",
   "metadata": {},
   "source": [
    "# Dictionary comprehension"
   ]
  },
  {
   "cell_type": "code",
   "execution_count": 18,
   "id": "7b5cf698",
   "metadata": {},
   "outputs": [],
   "source": [
    "# Swap key and key in value\n",
    "data = {1: \"one\", 2: \"Two\"}"
   ]
  },
  {
   "cell_type": "code",
   "execution_count": 19,
   "id": "c2f77c51",
   "metadata": {},
   "outputs": [
    {
     "data": {
      "text/plain": [
       "{'one': 1, 'Two': 2}"
      ]
     },
     "execution_count": 19,
     "metadata": {},
     "output_type": "execute_result"
    }
   ],
   "source": [
    "{val:key for key, val in data.items()}"
   ]
  },
  {
   "cell_type": "code",
   "execution_count": 20,
   "id": "a791f703",
   "metadata": {},
   "outputs": [
    {
     "data": {
      "text/plain": [
       "26"
      ]
     },
     "execution_count": 20,
     "metadata": {},
     "output_type": "execute_result"
    }
   ],
   "source": [
    "person = {\n",
    "    \"name\" : \"Sandesh\",\n",
    "    \"teaches\" : ['Python','Data Science', 'AI'],\n",
    "    \"age\" : 26\n",
    "}\n",
    "person.pop(\"age\")"
   ]
  },
  {
   "cell_type": "code",
   "execution_count": 22,
   "id": "82ac91c1",
   "metadata": {},
   "outputs": [
    {
     "ename": "TypeError",
     "evalue": "pop expected at least 1 argument, got 0",
     "output_type": "error",
     "traceback": [
      "\u001b[1;31m---------------------------------------------------------------------------\u001b[0m",
      "\u001b[1;31mTypeError\u001b[0m                                 Traceback (most recent call last)",
      "Cell \u001b[1;32mIn[22], line 1\u001b[0m\n\u001b[1;32m----> 1\u001b[0m \u001b[43mperson\u001b[49m\u001b[38;5;241;43m.\u001b[39;49m\u001b[43mpop\u001b[49m\u001b[43m(\u001b[49m\u001b[43m)\u001b[49m   \u001b[38;5;66;03m#Key must be given to use pop() in dictionary\u001b[39;00m\n",
      "\u001b[1;31mTypeError\u001b[0m: pop expected at least 1 argument, got 0"
     ]
    }
   ],
   "source": [
    "person.pop()   #Key must be given to use pop() in dictionary"
   ]
  },
  {
   "cell_type": "markdown",
   "id": "1dc224ce",
   "metadata": {},
   "source": [
    "# Nesated dictionary"
   ]
  },
  {
   "cell_type": "code",
   "execution_count": 23,
   "id": "508d51e2",
   "metadata": {},
   "outputs": [],
   "source": [
    "child = {\n",
    "    'child1' : {'name' : 'Sumit','age' : 10},\n",
    "    'child2' : {'name' : 'Champa', 'age' : 3, 'gender' : \"Female\"},\n",
    "}"
   ]
  },
  {
   "cell_type": "code",
   "execution_count": 30,
   "id": "1df125e4",
   "metadata": {},
   "outputs": [
    {
     "data": {
      "text/plain": [
       "'Champa'"
      ]
     },
     "execution_count": 30,
     "metadata": {},
     "output_type": "execute_result"
    }
   ],
   "source": [
    "child['child2']['name']"
   ]
  },
  {
   "cell_type": "code",
   "execution_count": 44,
   "id": "055a2574",
   "metadata": {},
   "outputs": [
    {
     "ename": "KeyError",
     "evalue": "'gender'",
     "output_type": "error",
     "traceback": [
      "\u001b[1;31m---------------------------------------------------------------------------\u001b[0m",
      "\u001b[1;31mKeyError\u001b[0m                                  Traceback (most recent call last)",
      "Cell \u001b[1;32mIn[44], line 1\u001b[0m\n\u001b[1;32m----> 1\u001b[0m \u001b[43mchild\u001b[49m\u001b[43m[\u001b[49m\u001b[38;5;124;43m'\u001b[39;49m\u001b[38;5;124;43mchild1\u001b[39;49m\u001b[38;5;124;43m'\u001b[39;49m\u001b[43m]\u001b[49m\u001b[43m[\u001b[49m\u001b[38;5;124;43m'\u001b[39;49m\u001b[38;5;124;43mgender\u001b[39;49m\u001b[38;5;124;43m'\u001b[39;49m\u001b[43m]\u001b[49m   \u001b[38;5;66;03m# Yaha child1 ko gender exists gardaia tei vayera error aauxa, esko solution .get() ho.\u001b[39;00m\n",
      "\u001b[1;31mKeyError\u001b[0m: 'gender'"
     ]
    }
   ],
   "source": [
    "child['child1']['gender']   # Yaha child1 ko gender exists gardaia tei vayera error aauxa, esko solution .get() ho."
   ]
  },
  {
   "cell_type": "code",
   "execution_count": 45,
   "id": "012fa977",
   "metadata": {},
   "outputs": [],
   "source": [
    "gender = child['child1'].get('gender', None)   # None default hunxa, You can change it"
   ]
  },
  {
   "cell_type": "code",
   "execution_count": 46,
   "id": "8c7e0ab8",
   "metadata": {},
   "outputs": [
    {
     "name": "stdout",
     "output_type": "stream",
     "text": [
      "None\n"
     ]
    }
   ],
   "source": [
    "print(gender)"
   ]
  },
  {
   "cell_type": "code",
   "execution_count": 47,
   "id": "3e427baf",
   "metadata": {},
   "outputs": [
    {
     "data": {
      "text/plain": [
       "'Others'"
      ]
     },
     "execution_count": 47,
     "metadata": {},
     "output_type": "execute_result"
    }
   ],
   "source": [
    "child['child1'].get('gender',\"Others\")"
   ]
  },
  {
   "cell_type": "code",
   "execution_count": 48,
   "id": "d4fcd030",
   "metadata": {},
   "outputs": [
    {
     "data": {
      "text/plain": [
       "'Not available'"
      ]
     },
     "execution_count": 48,
     "metadata": {},
     "output_type": "execute_result"
    }
   ],
   "source": [
    "child['child1'].get('gender',\"Not available\")"
   ]
  },
  {
   "cell_type": "code",
   "execution_count": 50,
   "id": "20cd966c",
   "metadata": {},
   "outputs": [
    {
     "data": {
      "text/plain": [
       "'Sandesh'"
      ]
     },
     "execution_count": 50,
     "metadata": {},
     "output_type": "execute_result"
    }
   ],
   "source": [
    "child = {\n",
    "    'child1' : {'name' : ['Sumit','Sandesh'],'age' : 10},\n",
    "    'child2' : {'name' : 'Champa', 'age' : 3, 'gender' : \"Female\"},\n",
    "}\n",
    "child['child1']['name'][1]"
   ]
  },
  {
   "cell_type": "code",
   "execution_count": null,
   "id": "9792a58d",
   "metadata": {},
   "outputs": [],
   "source": []
  }
 ],
 "metadata": {
  "kernelspec": {
   "display_name": "Python 3 (ipykernel)",
   "language": "python",
   "name": "python3"
  },
  "language_info": {
   "codemirror_mode": {
    "name": "ipython",
    "version": 3
   },
   "file_extension": ".py",
   "mimetype": "text/x-python",
   "name": "python",
   "nbconvert_exporter": "python",
   "pygments_lexer": "ipython3",
   "version": "3.10.11"
  }
 },
 "nbformat": 4,
 "nbformat_minor": 5
}
