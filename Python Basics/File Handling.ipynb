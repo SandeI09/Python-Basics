{
 "cells": [
  {
   "cell_type": "markdown",
   "id": "d42aef0e",
   "metadata": {},
   "source": [
    "# File Handling in Python includes:\n",
    "* Creating,\n",
    "* Opening, and \n",
    "* Closing files\n",
    "\n",
    "While files are open, Python additionally allow performing various file operations such as:\n",
    " * reading,\n",
    " * Writing, and \n",
    " * Appending information"
   ]
  },
  {
   "cell_type": "markdown",
   "id": "6b70163b",
   "metadata": {},
   "source": [
    "# Opening a file\n",
    "\n",
    "```python\n",
    "file = open(filename, mode)\n",
    "```\n",
    "\n",
    "mode : \n",
    "* read : `r`\n",
    "* write : `w`\n",
    "* append : `a`\n",
    "* create : `x`"
   ]
  },
  {
   "cell_type": "code",
   "execution_count": 1,
   "id": "09ed21b8",
   "metadata": {},
   "outputs": [
    {
     "ename": "FileNotFoundError",
     "evalue": "[Errno 2] No such file or directory: 'gokuldham.txt'",
     "output_type": "error",
     "traceback": [
      "\u001b[1;31m---------------------------------------------------------------------------\u001b[0m",
      "\u001b[1;31mFileNotFoundError\u001b[0m                         Traceback (most recent call last)",
      "Cell \u001b[1;32mIn[1], line 1\u001b[0m\n\u001b[1;32m----> 1\u001b[0m file \u001b[38;5;241m=\u001b[39m \u001b[38;5;28;43mopen\u001b[39;49m\u001b[43m(\u001b[49m\u001b[38;5;124;43m'\u001b[39;49m\u001b[38;5;124;43mgokuldham.txt\u001b[39;49m\u001b[38;5;124;43m'\u001b[39;49m\u001b[43m,\u001b[49m\u001b[43m \u001b[49m\u001b[38;5;124;43m'\u001b[39;49m\u001b[38;5;124;43mr\u001b[39;49m\u001b[38;5;124;43m'\u001b[39;49m\u001b[43m)\u001b[49m\n",
      "File \u001b[1;32m~\\AppData\\Local\\Programs\\Python\\Python310\\lib\\site-packages\\IPython\\core\\interactiveshell.py:284\u001b[0m, in \u001b[0;36m_modified_open\u001b[1;34m(file, *args, **kwargs)\u001b[0m\n\u001b[0;32m    277\u001b[0m \u001b[38;5;28;01mif\u001b[39;00m file \u001b[38;5;129;01min\u001b[39;00m {\u001b[38;5;241m0\u001b[39m, \u001b[38;5;241m1\u001b[39m, \u001b[38;5;241m2\u001b[39m}:\n\u001b[0;32m    278\u001b[0m     \u001b[38;5;28;01mraise\u001b[39;00m \u001b[38;5;167;01mValueError\u001b[39;00m(\n\u001b[0;32m    279\u001b[0m         \u001b[38;5;124mf\u001b[39m\u001b[38;5;124m\"\u001b[39m\u001b[38;5;124mIPython won\u001b[39m\u001b[38;5;124m'\u001b[39m\u001b[38;5;124mt let you open fd=\u001b[39m\u001b[38;5;132;01m{\u001b[39;00mfile\u001b[38;5;132;01m}\u001b[39;00m\u001b[38;5;124m by default \u001b[39m\u001b[38;5;124m\"\u001b[39m\n\u001b[0;32m    280\u001b[0m         \u001b[38;5;124m\"\u001b[39m\u001b[38;5;124mas it is likely to crash IPython. If you know what you are doing, \u001b[39m\u001b[38;5;124m\"\u001b[39m\n\u001b[0;32m    281\u001b[0m         \u001b[38;5;124m\"\u001b[39m\u001b[38;5;124myou can use builtins\u001b[39m\u001b[38;5;124m'\u001b[39m\u001b[38;5;124m open.\u001b[39m\u001b[38;5;124m\"\u001b[39m\n\u001b[0;32m    282\u001b[0m     )\n\u001b[1;32m--> 284\u001b[0m \u001b[38;5;28;01mreturn\u001b[39;00m io_open(file, \u001b[38;5;241m*\u001b[39margs, \u001b[38;5;241m*\u001b[39m\u001b[38;5;241m*\u001b[39mkwargs)\n",
      "\u001b[1;31mFileNotFoundError\u001b[0m: [Errno 2] No such file or directory: 'gokuldham.txt'"
     ]
    }
   ],
   "source": [
    "file = open('gokuldham.txt', 'r')"
   ]
  },
  {
   "cell_type": "code",
   "execution_count": 2,
   "id": "ea9d821f",
   "metadata": {},
   "outputs": [],
   "source": [
    "file = open('gokuldham.txt', 'x')   # Create mode"
   ]
  },
  {
   "cell_type": "code",
   "execution_count": 3,
   "id": "8885207e",
   "metadata": {},
   "outputs": [],
   "source": [
    "import os"
   ]
  },
  {
   "cell_type": "code",
   "execution_count": 5,
   "id": "c1b38b8e",
   "metadata": {},
   "outputs": [
    {
     "data": {
      "text/plain": [
       "True"
      ]
     },
     "execution_count": 5,
     "metadata": {},
     "output_type": "execute_result"
    }
   ],
   "source": [
    "os.path.exists('gokuldham.txt')"
   ]
  },
  {
   "cell_type": "code",
   "execution_count": 6,
   "id": "24963766",
   "metadata": {},
   "outputs": [],
   "source": [
    "file.close()"
   ]
  },
  {
   "cell_type": "markdown",
   "id": "6fe0081a",
   "metadata": {},
   "source": [
    "# Reading a file"
   ]
  },
  {
   "cell_type": "code",
   "execution_count": 15,
   "id": "a9e80b12",
   "metadata": {},
   "outputs": [],
   "source": [
    "with open('gokuldham.txt', 'r', encoding = 'utf=8') as file:\n",
    "    text = file.read()   # Read entire text at once"
   ]
  },
  {
   "cell_type": "code",
   "execution_count": 16,
   "id": "ddfa942e",
   "metadata": {},
   "outputs": [
    {
     "name": "stdout",
     "output_type": "stream",
     "text": [
      "रहेछ संसार निसा समान,\n",
      "आयेना जिउदै रहदा ति ज्ञान।\n",
      "\n",
      "आरती रा कृष्ण रहेचा एक,\n",
      "न भक्ति भो न भो ज्ञान विवेक।\n",
      "\n",
      "संसार आफनो सबै नाइ गुमाए,\n",
      "मा सुन्या मा सुन्या सारी बिलाए।\n"
     ]
    }
   ],
   "source": [
    "print(text)"
   ]
  },
  {
   "cell_type": "code",
   "execution_count": 17,
   "id": "163b74dd",
   "metadata": {},
   "outputs": [],
   "source": [
    "with open('gokuldham.txt', 'r', encoding = 'utf=8') as file:\n",
    "    text = file.readline()   # Read first line only"
   ]
  },
  {
   "cell_type": "code",
   "execution_count": 19,
   "id": "db356431",
   "metadata": {},
   "outputs": [
    {
     "name": "stdout",
     "output_type": "stream",
     "text": [
      "रहेछ संसार निसा समान,\n",
      "\n"
     ]
    }
   ],
   "source": [
    "print(text)"
   ]
  },
  {
   "cell_type": "code",
   "execution_count": 20,
   "id": "1a34cd43",
   "metadata": {},
   "outputs": [],
   "source": [
    "with open('gokuldham.txt', 'r', encoding = 'utf=8') as file:\n",
    "    text = file.readlines()   # Read first paragraph only"
   ]
  },
  {
   "cell_type": "code",
   "execution_count": 21,
   "id": "fc80836a",
   "metadata": {},
   "outputs": [
    {
     "name": "stdout",
     "output_type": "stream",
     "text": [
      "['रहेछ संसार निसा समान,\\n', 'आयेना जिउदै रहदा ति ज्ञान।\\n', '\\n', 'आरती रा कृष्ण रहेचा एक,\\n', 'न भक्ति भो न भो ज्ञान विवेक।\\n', '\\n', 'संसार आफनो सबै नाइ गुमाए,\\n', 'मा सुन्या मा सुन्या सारी बिलाए।']\n"
     ]
    }
   ],
   "source": [
    "print(text)"
   ]
  },
  {
   "cell_type": "markdown",
   "id": "dfc9714d",
   "metadata": {},
   "source": [
    "# Writing a file"
   ]
  },
  {
   "cell_type": "code",
   "execution_count": 22,
   "id": "30b940ea",
   "metadata": {},
   "outputs": [],
   "source": [
    "with open('nayafile.txt', 'w') as file:\n",
    "    file.write(\"Yo file exists gardaina maile naya banaye\")"
   ]
  },
  {
   "cell_type": "code",
   "execution_count": 25,
   "id": "b02e8786",
   "metadata": {},
   "outputs": [],
   "source": [
    "with open('nayafile.txt', 'r') as file:\n",
    "    text = file.read()"
   ]
  },
  {
   "cell_type": "code",
   "execution_count": 26,
   "id": "57d0ebdb",
   "metadata": {},
   "outputs": [
    {
     "data": {
      "text/plain": [
       "'Yo file exists gardaina maile naya banaye'"
      ]
     },
     "execution_count": 26,
     "metadata": {},
     "output_type": "execute_result"
    }
   ],
   "source": [
    "text"
   ]
  },
  {
   "cell_type": "code",
   "execution_count": 30,
   "id": "968bb5b2",
   "metadata": {},
   "outputs": [],
   "source": [
    "# Write mode ma if file already exists, and you want to write it vane naya file create hunxa and purano file replace junxa,\n",
    "# i.e. Data Loss Hunxa"
   ]
  },
  {
   "cell_type": "code",
   "execution_count": 31,
   "id": "ab6089e6",
   "metadata": {},
   "outputs": [
    {
     "data": {
      "text/plain": [
       "True"
      ]
     },
     "execution_count": 31,
     "metadata": {},
     "output_type": "execute_result"
    }
   ],
   "source": [
    "os.path.exists('nayafile.txt')"
   ]
  },
  {
   "cell_type": "code",
   "execution_count": 32,
   "id": "bdf648b9",
   "metadata": {},
   "outputs": [],
   "source": [
    "with open('nayafile.txt', 'w') as file:\n",
    "    file.write(\"Yo file exists garthyo ra w mode ma kholda replace vayo\")"
   ]
  },
  {
   "cell_type": "code",
   "execution_count": 33,
   "id": "4085f885",
   "metadata": {},
   "outputs": [
    {
     "data": {
      "text/plain": [
       "'Yo file exists garthyo ra w mode ma kholda replace vayo'"
      ]
     },
     "execution_count": 33,
     "metadata": {},
     "output_type": "execute_result"
    }
   ],
   "source": [
    "with open('nayafile.txt', 'r') as file:\n",
    "    text = file.read()\n",
    "text"
   ]
  },
  {
   "cell_type": "markdown",
   "id": "3740a721",
   "metadata": {},
   "source": [
    "# Append : \n",
    "* If you dont want to loose your data, You should open your file in append mode.\n",
    "* Append mode ma file exists gardaina vane naya banxa and you can write anything.\n",
    "* If file exist garxa vane purano file ma data append garxa."
   ]
  },
  {
   "cell_type": "code",
   "execution_count": 34,
   "id": "e00234ce",
   "metadata": {},
   "outputs": [],
   "source": [
    "with open('nayafile.txt', 'a') as file:\n",
    "    file.write(\"\\nYo file exists garthyo ra a mode ma kholda additional kura haru thapna milyo\")"
   ]
  },
  {
   "cell_type": "code",
   "execution_count": 35,
   "id": "cebc0f73",
   "metadata": {},
   "outputs": [
    {
     "name": "stdout",
     "output_type": "stream",
     "text": [
      "Yo file exists garthyo ra w mode ma kholda replace vayo\n",
      "Yo file exists garthyo ra a mode ma kholda additional kura haru thapna milyo\n"
     ]
    }
   ],
   "source": [
    "with open('nayafile.txt', 'r') as file:\n",
    "    text = file.read()\n",
    "\n",
    "print(text)"
   ]
  },
  {
   "cell_type": "code",
   "execution_count": 36,
   "id": "a4eb5220",
   "metadata": {},
   "outputs": [],
   "source": [
    "with open('sandesh', 'a') as file:\n",
    "    file.write(\"Yo append bata maile naya file banayako ho!\")"
   ]
  },
  {
   "cell_type": "code",
   "execution_count": 37,
   "id": "a622bc3b",
   "metadata": {},
   "outputs": [
    {
     "name": "stdout",
     "output_type": "stream",
     "text": [
      "Yo append bata maile naya file banayako ho!\n"
     ]
    }
   ],
   "source": [
    "with open('sandesh', 'r') as file:\n",
    "    text = file.read()\n",
    "    \n",
    "print(text)"
   ]
  },
  {
   "cell_type": "code",
   "execution_count": 40,
   "id": "d2107680",
   "metadata": {},
   "outputs": [],
   "source": [
    "with open('sandesh', 'a') as file:\n",
    "    file.write(\"\\nYo file already exists garthiyo ra maile aru kei text thape\")"
   ]
  },
  {
   "cell_type": "code",
   "execution_count": 41,
   "id": "cb1fd181",
   "metadata": {},
   "outputs": [
    {
     "name": "stdout",
     "output_type": "stream",
     "text": [
      "Yo append bata maile naya file banayako ho!\n",
      " Yo file already exists garthiyo ra maile aru kei text thape\n",
      "Yo file already exists garthiyo ra maile aru kei text thape\n"
     ]
    }
   ],
   "source": [
    "with open('sandesh', 'r') as file:\n",
    "    text = file.read()\n",
    "    \n",
    "print(text)"
   ]
  },
  {
   "cell_type": "markdown",
   "id": "4d291b3f",
   "metadata": {},
   "source": [
    "# Handling CSV files"
   ]
  },
  {
   "cell_type": "code",
   "execution_count": 42,
   "id": "842d4703",
   "metadata": {},
   "outputs": [],
   "source": [
    "import csv   # Comma seperated Value"
   ]
  },
  {
   "cell_type": "code",
   "execution_count": 52,
   "id": "9b6dfe5c",
   "metadata": {},
   "outputs": [],
   "source": [
    "with open('student.csv', 'w') as file:\n",
    "    column_name = [\"Roll No\", \"Name\"]\n",
    "    writer = csv.DictWriter(file, column_name)\n",
    "    writer.writeheader()\n",
    "    \n",
    "    writer.writerow({\"Roll No\":1, \"Name\": \"Kshitiz\"})\n",
    "    writer.writerow({\"Roll No\":2, \"Name\": \"Suman\"})"
   ]
  },
  {
   "cell_type": "code",
   "execution_count": 53,
   "id": "f99cc54f",
   "metadata": {},
   "outputs": [
    {
     "name": "stdout",
     "output_type": "stream",
     "text": [
      "{'Roll No': '1', 'Name': 'Kshitiz'}\n",
      "{'Roll No': '2', 'Name': 'Suman'}\n"
     ]
    }
   ],
   "source": [
    "with open('student.csv', 'r') as file:\n",
    "    text = csv.DictReader(file)\n",
    "    for item in text:\n",
    "        print(item)\n"
   ]
  },
  {
   "cell_type": "code",
   "execution_count": null,
   "id": "0d808873",
   "metadata": {},
   "outputs": [],
   "source": []
  }
 ],
 "metadata": {
  "kernelspec": {
   "display_name": "Python 3 (ipykernel)",
   "language": "python",
   "name": "python3"
  },
  "language_info": {
   "codemirror_mode": {
    "name": "ipython",
    "version": 3
   },
   "file_extension": ".py",
   "mimetype": "text/x-python",
   "name": "python",
   "nbconvert_exporter": "python",
   "pygments_lexer": "ipython3",
   "version": "3.10.11"
  }
 },
 "nbformat": 4,
 "nbformat_minor": 5
}
