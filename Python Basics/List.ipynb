{
 "cells": [
  {
   "cell_type": "markdown",
   "id": "186ce6a7",
   "metadata": {},
   "source": [
    "# List\n",
    "* Collection of items under one variable\n",
    "* Allows duplicate value\n",
    "* Ordered\n",
    "* Indexed\n",
    "* Mutable data type"
   ]
  },
  {
   "cell_type": "code",
   "execution_count": 3,
   "id": "71a4d8d7",
   "metadata": {},
   "outputs": [],
   "source": [
    "gift = ['Laptop', 'Mobile', 'Laptop', 'Bike', 'Headphones', 'Shoes', 'Dress', 'Mobile']"
   ]
  },
  {
   "cell_type": "code",
   "execution_count": 4,
   "id": "0142db34",
   "metadata": {},
   "outputs": [
    {
     "data": {
      "text/plain": [
       "['Laptop',\n",
       " 'Mobile',\n",
       " 'Laptop',\n",
       " 'Bike',\n",
       " 'Headphones',\n",
       " 'Shoes',\n",
       " 'Dress',\n",
       " 'Mobile']"
      ]
     },
     "execution_count": 4,
     "metadata": {},
     "output_type": "execute_result"
    }
   ],
   "source": [
    "gift"
   ]
  },
  {
   "cell_type": "markdown",
   "id": "035e3a9c",
   "metadata": {},
   "source": [
    "# Indexing and Slicing"
   ]
  },
  {
   "cell_type": "code",
   "execution_count": 5,
   "id": "99225908",
   "metadata": {},
   "outputs": [
    {
     "data": {
      "text/plain": [
       "'Laptop'"
      ]
     },
     "execution_count": 5,
     "metadata": {},
     "output_type": "execute_result"
    }
   ],
   "source": [
    "gift[0]"
   ]
  },
  {
   "cell_type": "code",
   "execution_count": 6,
   "id": "2803a9b2",
   "metadata": {},
   "outputs": [
    {
     "data": {
      "text/plain": [
       "'Mobile'"
      ]
     },
     "execution_count": 6,
     "metadata": {},
     "output_type": "execute_result"
    }
   ],
   "source": [
    "gift[1]"
   ]
  },
  {
   "cell_type": "code",
   "execution_count": 7,
   "id": "cb017de2",
   "metadata": {},
   "outputs": [
    {
     "data": {
      "text/plain": [
       "'Laptop'"
      ]
     },
     "execution_count": 7,
     "metadata": {},
     "output_type": "execute_result"
    }
   ],
   "source": [
    "gift[2]"
   ]
  },
  {
   "cell_type": "code",
   "execution_count": 12,
   "id": "4566617c",
   "metadata": {},
   "outputs": [
    {
     "data": {
      "text/plain": [
       "['Bike', 'Headphones']"
      ]
     },
     "execution_count": 12,
     "metadata": {},
     "output_type": "execute_result"
    }
   ],
   "source": [
    "gift[3:5]"
   ]
  },
  {
   "cell_type": "code",
   "execution_count": 14,
   "id": "94f4b185",
   "metadata": {},
   "outputs": [
    {
     "data": {
      "text/plain": [
       "['Dress', 'Mobile']"
      ]
     },
     "execution_count": 14,
     "metadata": {},
     "output_type": "execute_result"
    }
   ],
   "source": [
    "gift[6:]"
   ]
  },
  {
   "cell_type": "code",
   "execution_count": 16,
   "id": "c7091ac8",
   "metadata": {},
   "outputs": [
    {
     "data": {
      "text/plain": [
       "['Laptop', 'Laptop', 'Headphones', 'Dress']"
      ]
     },
     "execution_count": 16,
     "metadata": {},
     "output_type": "execute_result"
    }
   ],
   "source": [
    "gift[0::2]"
   ]
  },
  {
   "cell_type": "code",
   "execution_count": 17,
   "id": "6c19e73b",
   "metadata": {},
   "outputs": [
    {
     "data": {
      "text/plain": [
       "['Mobile', 'Laptop']"
      ]
     },
     "execution_count": 17,
     "metadata": {},
     "output_type": "execute_result"
    }
   ],
   "source": [
    "gift[1:3]"
   ]
  },
  {
   "cell_type": "code",
   "execution_count": 18,
   "id": "eb6ccc62",
   "metadata": {},
   "outputs": [
    {
     "data": {
      "text/plain": [
       "['Laptop',\n",
       " 'Mobile',\n",
       " 'Laptop',\n",
       " 'Bike',\n",
       " 'Headphones',\n",
       " 'Shoes',\n",
       " 'Dress',\n",
       " 'Mobile']"
      ]
     },
     "execution_count": 18,
     "metadata": {},
     "output_type": "execute_result"
    }
   ],
   "source": [
    "gift"
   ]
  },
  {
   "cell_type": "code",
   "execution_count": 19,
   "id": "84bb6f3c",
   "metadata": {},
   "outputs": [
    {
     "data": {
      "text/plain": [
       "'Mobile'"
      ]
     },
     "execution_count": 19,
     "metadata": {},
     "output_type": "execute_result"
    }
   ],
   "source": [
    "gift[-1]"
   ]
  },
  {
   "cell_type": "code",
   "execution_count": 20,
   "id": "01309ae5",
   "metadata": {},
   "outputs": [
    {
     "data": {
      "text/plain": [
       "'Dress'"
      ]
     },
     "execution_count": 20,
     "metadata": {},
     "output_type": "execute_result"
    }
   ],
   "source": [
    "gift[-2]"
   ]
  },
  {
   "cell_type": "code",
   "execution_count": 21,
   "id": "7092a579",
   "metadata": {},
   "outputs": [
    {
     "data": {
      "text/plain": [
       "'Shoes'"
      ]
     },
     "execution_count": 21,
     "metadata": {},
     "output_type": "execute_result"
    }
   ],
   "source": [
    "gift[-3]"
   ]
  },
  {
   "cell_type": "code",
   "execution_count": 23,
   "id": "6ac05bd0",
   "metadata": {},
   "outputs": [
    {
     "data": {
      "text/plain": [
       "['Dress', 'Mobile']"
      ]
     },
     "execution_count": 23,
     "metadata": {},
     "output_type": "execute_result"
    }
   ],
   "source": [
    "gift[-2:]"
   ]
  },
  {
   "cell_type": "code",
   "execution_count": 26,
   "id": "0849af4c",
   "metadata": {},
   "outputs": [
    {
     "data": {
      "text/plain": [
       "['Headphones', 'Shoes', 'Dress', 'Mobile']"
      ]
     },
     "execution_count": 26,
     "metadata": {},
     "output_type": "execute_result"
    }
   ],
   "source": [
    "gift[-4:]"
   ]
  },
  {
   "cell_type": "markdown",
   "id": "e96d89ed",
   "metadata": {},
   "source": [
    "# List suports multiple data types"
   ]
  },
  {
   "cell_type": "code",
   "execution_count": 27,
   "id": "004df099",
   "metadata": {},
   "outputs": [
    {
     "data": {
      "text/plain": [
       "[2, 66, 'test', 'false']"
      ]
     },
     "execution_count": 27,
     "metadata": {},
     "output_type": "execute_result"
    }
   ],
   "source": [
    "[2,66,'test','false']"
   ]
  },
  {
   "cell_type": "markdown",
   "id": "1cb6006c",
   "metadata": {},
   "source": [
    "# Finding the sum of all items in a list"
   ]
  },
  {
   "cell_type": "code",
   "execution_count": 38,
   "id": "af921c20",
   "metadata": {},
   "outputs": [],
   "source": [
    "nums = [2,4,6,'8']"
   ]
  },
  {
   "cell_type": "code",
   "execution_count": 39,
   "id": "bbf9ac79",
   "metadata": {},
   "outputs": [
    {
     "data": {
      "text/plain": [
       "4"
      ]
     },
     "execution_count": 39,
     "metadata": {},
     "output_type": "execute_result"
    }
   ],
   "source": [
    "len(nums)"
   ]
  },
  {
   "cell_type": "code",
   "execution_count": 40,
   "id": "e8b0083a",
   "metadata": {},
   "outputs": [
    {
     "name": "stdout",
     "output_type": "stream",
     "text": [
      "Sum is 20\n"
     ]
    }
   ],
   "source": [
    "sum = 0\n",
    "for num in nums:\n",
    "    sum = int(num) + sum\n",
    "    \n",
    "print(f\"Sum is {sum}\")"
   ]
  },
  {
   "cell_type": "code",
   "execution_count": 41,
   "id": "9287442c",
   "metadata": {},
   "outputs": [],
   "source": [
    "mean = sum/len(nums)"
   ]
  },
  {
   "cell_type": "code",
   "execution_count": 42,
   "id": "49708691",
   "metadata": {},
   "outputs": [
    {
     "data": {
      "text/plain": [
       "5.0"
      ]
     },
     "execution_count": 42,
     "metadata": {},
     "output_type": "execute_result"
    }
   ],
   "source": [
    "mean"
   ]
  },
  {
   "cell_type": "code",
   "execution_count": 44,
   "id": "5b46539d",
   "metadata": {},
   "outputs": [
    {
     "name": "stdout",
     "output_type": "stream",
     "text": [
      "13.4\n"
     ]
    }
   ],
   "source": [
    "sum = 0\n",
    "nums = [9,2,45,0,11]\n",
    "for num in nums:\n",
    "    sum = sum + num\n",
    "    \n",
    "mean = sum/len(nums)\n",
    "print(mean)"
   ]
  },
  {
   "cell_type": "code",
   "execution_count": 48,
   "id": "d914a2a5",
   "metadata": {},
   "outputs": [
    {
     "name": "stdout",
     "output_type": "stream",
     "text": [
      "13.4\n"
     ]
    }
   ],
   "source": [
    "sum = 0\n",
    "nums = [9,2,45,0,11]\n",
    "for index in range(len(nums)):\n",
    "    sum = sum + nums[index]\n",
    "    \n",
    "mean = sum/len(nums)\n",
    "print(mean)"
   ]
  }
 ],
 "metadata": {
  "kernelspec": {
   "display_name": "Python 3 (ipykernel)",
   "language": "python",
   "name": "python3"
  },
  "language_info": {
   "codemirror_mode": {
    "name": "ipython",
    "version": 3
   },
   "file_extension": ".py",
   "mimetype": "text/x-python",
   "name": "python",
   "nbconvert_exporter": "python",
   "pygments_lexer": "ipython3",
   "version": "3.10.11"
  }
 },
 "nbformat": 4,
 "nbformat_minor": 5
}
