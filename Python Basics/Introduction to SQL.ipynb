{
 "cells": [
  {
   "cell_type": "markdown",
   "id": "5c05679e",
   "metadata": {},
   "source": [
    "# SQL: Structured Query Language\n",
    "\n",
    "SQL is used in following:\n",
    "* Modifying database table and index structures\n",
    "* Adding, Updating and deleting rows of data, and \n",
    "* Retrieving subsets of information from within relational database management systems\n",
    "* Case insensative"
   ]
  },
  {
   "cell_type": "code",
   "execution_count": 1,
   "id": "bfcc310b",
   "metadata": {},
   "outputs": [],
   "source": [
    "import sqlite3"
   ]
  },
  {
   "cell_type": "code",
   "execution_count": 2,
   "id": "8730451c",
   "metadata": {},
   "outputs": [],
   "source": [
    "con = sqlite3.connect('student.db')"
   ]
  },
  {
   "cell_type": "code",
   "execution_count": 3,
   "id": "a89e1d80",
   "metadata": {},
   "outputs": [
    {
     "data": {
      "text/plain": [
       "<sqlite3.Connection at 0x1f1756d5840>"
      ]
     },
     "execution_count": 3,
     "metadata": {},
     "output_type": "execute_result"
    }
   ],
   "source": [
    "con # Connection object"
   ]
  },
  {
   "cell_type": "code",
   "execution_count": 4,
   "id": "ea7c7ae7",
   "metadata": {},
   "outputs": [],
   "source": [
    "# We need cursor to execute sql query"
   ]
  },
  {
   "cell_type": "code",
   "execution_count": 5,
   "id": "f7daaaa8",
   "metadata": {},
   "outputs": [],
   "source": [
    "cur = con.cursor()"
   ]
  },
  {
   "cell_type": "markdown",
   "id": "cefe6854",
   "metadata": {},
   "source": [
    "# Creating Table in sql\n",
    "```sql\n",
    "create table table_name (column_name_1 datatype, column_name_2 datatype,  ...  ,column_name_n datatype)\n",
    "```"
   ]
  },
  {
   "cell_type": "code",
   "execution_count": 8,
   "id": "9c00f437",
   "metadata": {},
   "outputs": [],
   "source": [
    "query = \"\"\"\n",
    "create table student\n",
    "(roll_no int not null, name varchar(50), address varchar(100))\n",
    "\"\"\""
   ]
  },
  {
   "cell_type": "code",
   "execution_count": 10,
   "id": "8afe27f6",
   "metadata": {},
   "outputs": [
    {
     "name": "stdout",
     "output_type": "stream",
     "text": [
      "table student already exists\n"
     ]
    }
   ],
   "source": [
    "try:\n",
    "    cur.execute(query)\n",
    "except Exception as e:\n",
    "    print(e)"
   ]
  },
  {
   "cell_type": "markdown",
   "id": "c45637e9",
   "metadata": {},
   "source": [
    "# Insert data into table\n",
    "```sql\n",
    "INSERT INTO table_name (column_name_1, column_name_2, ... ,column_name_n)\n",
    "VALUES\n",
    "(value_1, value_2, ... ,value_n)\n",
    "```"
   ]
  },
  {
   "cell_type": "code",
   "execution_count": 19,
   "id": "255998bb",
   "metadata": {},
   "outputs": [],
   "source": [
    "query = \"\"\"\n",
    "INSERT INTO STUDENT (ROLL_NO, NAME, ADDRESS)\n",
    "VALUES\n",
    "(1, 'Kshitiz', 'Lalitbur'),\n",
    "(2, 'Sandesh', 'Kathmandu'),\n",
    "(3, 'Sumit', 'Lalitpur'),\n",
    "(4, 'Zecen', 'Kathmandu');\n",
    "\"\"\""
   ]
  },
  {
   "cell_type": "code",
   "execution_count": 20,
   "id": "0529f4fe",
   "metadata": {},
   "outputs": [
    {
     "data": {
      "text/plain": [
       "<sqlite3.Cursor at 0x1f1757fb1c0>"
      ]
     },
     "execution_count": 20,
     "metadata": {},
     "output_type": "execute_result"
    }
   ],
   "source": [
    "cur.execute(query)"
   ]
  },
  {
   "cell_type": "markdown",
   "id": "4ccd6cd0",
   "metadata": {},
   "source": [
    "# Select statement in sql / Reading data\n",
    "\n",
    "```sql\n",
    "select * from table_name\n",
    "```\n",
    "\n",
    "* means all column"
   ]
  },
  {
   "cell_type": "code",
   "execution_count": 21,
   "id": "ac9cd514",
   "metadata": {},
   "outputs": [],
   "source": [
    "query = \"\"\"\n",
    "select * from student\n",
    "\"\"\""
   ]
  },
  {
   "cell_type": "code",
   "execution_count": 22,
   "id": "d1bc842b",
   "metadata": {},
   "outputs": [
    {
     "data": {
      "text/plain": [
       "[(1, 'Kshitiz', 'Lalitbur'),\n",
       " (2, 'Sandesh', 'Kathmandu'),\n",
       " (3, 'Sumit', 'Lalitpur'),\n",
       " (3, 'Zecen', 'Kathmandu'),\n",
       " (1, 'Kshitiz', 'Lalitbur'),\n",
       " (2, 'Sandesh', 'Kathmandu'),\n",
       " (3, 'Sumit', 'Lalitpur'),\n",
       " (4, 'Zecen', 'Kathmandu')]"
      ]
     },
     "execution_count": 22,
     "metadata": {},
     "output_type": "execute_result"
    }
   ],
   "source": [
    "cur.execute(query).fetchall()"
   ]
  },
  {
   "cell_type": "code",
   "execution_count": 23,
   "id": "a4a0c595",
   "metadata": {},
   "outputs": [
    {
     "data": {
      "text/plain": [
       "[('Kshitiz',),\n",
       " ('Sandesh',),\n",
       " ('Sumit',),\n",
       " ('Zecen',),\n",
       " ('Kshitiz',),\n",
       " ('Sandesh',),\n",
       " ('Sumit',),\n",
       " ('Zecen',)]"
      ]
     },
     "execution_count": 23,
     "metadata": {},
     "output_type": "execute_result"
    }
   ],
   "source": [
    "cur.execute(\"select name from student\").fetchall()"
   ]
  },
  {
   "cell_type": "code",
   "execution_count": 24,
   "id": "22ece6c7",
   "metadata": {},
   "outputs": [
    {
     "data": {
      "text/plain": [
       "[(1,), (2,), (3,), (3,), (1,), (2,), (3,), (4,)]"
      ]
     },
     "execution_count": 24,
     "metadata": {},
     "output_type": "execute_result"
    }
   ],
   "source": [
    "cur.execute(\"select roll_no from student\").fetchall()"
   ]
  },
  {
   "cell_type": "code",
   "execution_count": 27,
   "id": "7954134f",
   "metadata": {},
   "outputs": [
    {
     "data": {
      "text/plain": [
       "[('Kshitiz', 'Lalitbur'),\n",
       " ('Sandesh', 'Kathmandu'),\n",
       " ('Sumit', 'Lalitpur'),\n",
       " ('Zecen', 'Kathmandu'),\n",
       " ('Kshitiz', 'Lalitbur'),\n",
       " ('Sandesh', 'Kathmandu'),\n",
       " ('Sumit', 'Lalitpur'),\n",
       " ('Zecen', 'Kathmandu')]"
      ]
     },
     "execution_count": 27,
     "metadata": {},
     "output_type": "execute_result"
    }
   ],
   "source": [
    "cur.execute(\"select name, address from student\").fetchall()"
   ]
  },
  {
   "cell_type": "code",
   "execution_count": 34,
   "id": "16853a58",
   "metadata": {},
   "outputs": [
    {
     "data": {
      "text/plain": [
       "[('Sandesh',), ('Zecen',), ('Sandesh',), ('Zecen',)]"
      ]
     },
     "execution_count": 34,
     "metadata": {},
     "output_type": "execute_result"
    }
   ],
   "source": [
    "# Select student with address Kathmandu and display name\n",
    "cur.execute(\"select name from student where address = 'Kathmandu'\").fetchall()"
   ]
  },
  {
   "cell_type": "code",
   "execution_count": 36,
   "id": "1a367e72",
   "metadata": {},
   "outputs": [
    {
     "data": {
      "text/plain": [
       "[('Sumit',), ('Zecen',), ('Sumit',)]"
      ]
     },
     "execution_count": 36,
     "metadata": {},
     "output_type": "execute_result"
    }
   ],
   "source": [
    "# Select student with roll no 3 and display their name\n",
    "cur.execute(\"select name from student where roll_no = 3\").fetchall()"
   ]
  },
  {
   "cell_type": "code",
   "execution_count": 39,
   "id": "0b42075f",
   "metadata": {},
   "outputs": [
    {
     "data": {
      "text/plain": [
       "[(1,), (1,)]"
      ]
     },
     "execution_count": 39,
     "metadata": {},
     "output_type": "execute_result"
    }
   ],
   "source": [
    "# Find the roll no of kshiiz\n",
    "cur.execute(\"select roll_no from student where name = 'Kshitiz'\").fetchall()"
   ]
  },
  {
   "cell_type": "markdown",
   "id": "5eefc156",
   "metadata": {},
   "source": [
    "# Updating statement in sql\n",
    "\n",
    "```sql\n",
    "update table_name\n",
    "set column_name = value\n",
    "where\n",
    "condition\n",
    "```"
   ]
  },
  {
   "cell_type": "code",
   "execution_count": 42,
   "id": "06fdc956",
   "metadata": {},
   "outputs": [
    {
     "data": {
      "text/plain": [
       "<sqlite3.Cursor at 0x1f1757fb1c0>"
      ]
     },
     "execution_count": 42,
     "metadata": {},
     "output_type": "execute_result"
    }
   ],
   "source": [
    "cur.execute(\"\"\"\n",
    "update student\n",
    "set name = \"Kshitiz Regmi\"\n",
    "where\n",
    "roll_no = 1\n",
    "\"\"\")"
   ]
  },
  {
   "cell_type": "code",
   "execution_count": 43,
   "id": "e902e112",
   "metadata": {},
   "outputs": [
    {
     "data": {
      "text/plain": [
       "[(1, 'Kshitiz Regmi', 'Lalitbur'),\n",
       " (2, 'Sandesh', 'Kathmandu'),\n",
       " (3, 'Sumit', 'Lalitpur'),\n",
       " (3, 'Zecen', 'Kathmandu'),\n",
       " (1, 'Kshitiz Regmi', 'Lalitbur'),\n",
       " (2, 'Sandesh', 'Kathmandu'),\n",
       " (3, 'Sumit', 'Lalitpur'),\n",
       " (4, 'Zecen', 'Kathmandu')]"
      ]
     },
     "execution_count": 43,
     "metadata": {},
     "output_type": "execute_result"
    }
   ],
   "source": [
    "cur.execute(\"select * from student\").fetchall()"
   ]
  },
  {
   "cell_type": "markdown",
   "id": "da7ccdc8",
   "metadata": {},
   "source": [
    "# Delete statement ( Table Row )\n",
    "\n",
    "```sql\n",
    "delete table_name\n",
    "where\n",
    "condition\n",
    "```"
   ]
  },
  {
   "cell_type": "code",
   "execution_count": 45,
   "id": "ce82ef16",
   "metadata": {},
   "outputs": [
    {
     "data": {
      "text/plain": [
       "<sqlite3.Cursor at 0x1f1757fb1c0>"
      ]
     },
     "execution_count": 45,
     "metadata": {},
     "output_type": "execute_result"
    }
   ],
   "source": [
    "cur.execute(\"delete from student where roll_no = 3\")"
   ]
  },
  {
   "cell_type": "code",
   "execution_count": 48,
   "id": "2fbd9cfe",
   "metadata": {},
   "outputs": [
    {
     "data": {
      "text/plain": [
       "[(1, 'Kshitiz Regmi', 'Lalitbur'),\n",
       " (2, 'Sandesh', 'Kathmandu'),\n",
       " (1, 'Kshitiz Regmi', 'Lalitbur'),\n",
       " (2, 'Sandesh', 'Kathmandu'),\n",
       " (4, 'Zecen', 'Kathmandu')]"
      ]
     },
     "execution_count": 48,
     "metadata": {},
     "output_type": "execute_result"
    }
   ],
   "source": [
    "cur.execute(\"select * from student\").fetchall()"
   ]
  },
  {
   "cell_type": "code",
   "execution_count": null,
   "id": "000bb519",
   "metadata": {},
   "outputs": [],
   "source": []
  }
 ],
 "metadata": {
  "kernelspec": {
   "display_name": "Python 3 (ipykernel)",
   "language": "python",
   "name": "python3"
  },
  "language_info": {
   "codemirror_mode": {
    "name": "ipython",
    "version": 3
   },
   "file_extension": ".py",
   "mimetype": "text/x-python",
   "name": "python",
   "nbconvert_exporter": "python",
   "pygments_lexer": "ipython3",
   "version": "3.10.11"
  }
 },
 "nbformat": 4,
 "nbformat_minor": 5
}
