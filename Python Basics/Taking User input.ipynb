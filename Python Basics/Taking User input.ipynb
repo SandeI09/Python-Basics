{
 "cells": [
  {
   "cell_type": "markdown",
   "id": "2308c0f0",
   "metadata": {},
   "source": [
    "# `input()` method takes input from the user"
   ]
  },
  {
   "cell_type": "code",
   "execution_count": null,
   "id": "b9b22acd",
   "metadata": {},
   "outputs": [],
   "source": [
    "number = input(\"Enter a number : \")\n",
    "print(number)"
   ]
  },
  {
   "cell_type": "code",
   "execution_count": null,
   "id": "576f555b",
   "metadata": {},
   "outputs": [],
   "source": [
    "num1 = input(\"Enter first number : \")\n",
    "num2 = input(\"Enter second number : \")\n",
    "total = num1 + num2;\n",
    "print(f\"The total sum is {total}\")"
   ]
  },
  {
   "cell_type": "code",
   "execution_count": null,
   "id": "3dd381ad",
   "metadata": {},
   "outputs": [],
   "source": [
    "type(num1)"
   ]
  },
  {
   "cell_type": "markdown",
   "id": "9b9ab53d",
   "metadata": {},
   "source": [
    "# By default input takes any value in string, We want to convert it into int"
   ]
  },
  {
   "cell_type": "markdown",
   "id": "abf7eac0",
   "metadata": {},
   "source": [
    "# Type casting\n",
    "* User casts data type explicitly from one to another"
   ]
  },
  {
   "cell_type": "code",
   "execution_count": 4,
   "id": "dec78cce",
   "metadata": {},
   "outputs": [
    {
     "name": "stdout",
     "output_type": "stream",
     "text": [
      "Enter a number : 22\n"
     ]
    },
    {
     "data": {
      "text/plain": [
       "int"
      ]
     },
     "execution_count": 4,
     "metadata": {},
     "output_type": "execute_result"
    }
   ],
   "source": [
    "num1 = int(input(\"Enter a number : \"))\n",
    "type(num1)"
   ]
  },
  {
   "cell_type": "code",
   "execution_count": 5,
   "id": "0caceedf",
   "metadata": {},
   "outputs": [
    {
     "name": "stdout",
     "output_type": "stream",
     "text": [
      "Enter first number : 22\n",
      "Enter second number : 33\n",
      "The total sum is 55\n"
     ]
    }
   ],
   "source": [
    "num1 = input(\"Enter first number : \")\n",
    "num2 = input(\"Enter second number : \")\n",
    "total = int(num1) + int(num2);\n",
    "print(f\"The total sum is {total}\")"
   ]
  },
  {
   "cell_type": "code",
   "execution_count": 8,
   "id": "5833e327",
   "metadata": {},
   "outputs": [
    {
     "name": "stdout",
     "output_type": "stream",
     "text": [
      "Enter a numberhello\n"
     ]
    },
    {
     "ename": "ValueError",
     "evalue": "invalid literal for int() with base 10: 'hello'",
     "output_type": "error",
     "traceback": [
      "\u001b[1;31m---------------------------------------------------------------------------\u001b[0m",
      "\u001b[1;31mValueError\u001b[0m                                Traceback (most recent call last)",
      "Cell \u001b[1;32mIn[8], line 1\u001b[0m\n\u001b[1;32m----> 1\u001b[0m \u001b[38;5;28;43mint\u001b[39;49m\u001b[43m(\u001b[49m\u001b[38;5;28;43minput\u001b[39;49m\u001b[43m(\u001b[49m\u001b[38;5;124;43m\"\u001b[39;49m\u001b[38;5;124;43mEnter a number\u001b[39;49m\u001b[38;5;124;43m\"\u001b[39;49m\u001b[43m)\u001b[49m\u001b[43m)\u001b[49m\n",
      "\u001b[1;31mValueError\u001b[0m: invalid literal for int() with base 10: 'hello'"
     ]
    }
   ],
   "source": [
    "int(input(\"Enter a number\"))"
   ]
  },
  {
   "cell_type": "code",
   "execution_count": 1,
   "id": "a8c13492",
   "metadata": {},
   "outputs": [
    {
     "name": "stdout",
     "output_type": "stream",
     "text": [
      "Enter first number:1\n",
      "Enter second number:2\n",
      "Total = 3\n"
     ]
    }
   ],
   "source": [
    "num1 = int(input(\"Enter first number:\"))\n",
    "num2 = int(input(\"Enter second number:\"))\n",
    "total = num1 + num2\n",
    "print(f\"Total = {total}\")"
   ]
  },
  {
   "cell_type": "code",
   "execution_count": null,
   "id": "7e0865d7",
   "metadata": {},
   "outputs": [],
   "source": []
  }
 ],
 "metadata": {
  "kernelspec": {
   "display_name": "Python 3 (ipykernel)",
   "language": "python",
   "name": "python3"
  },
  "language_info": {
   "codemirror_mode": {
    "name": "ipython",
    "version": 3
   },
   "file_extension": ".py",
   "mimetype": "text/x-python",
   "name": "python",
   "nbconvert_exporter": "python",
   "pygments_lexer": "ipython3",
   "version": "3.10.11"
  }
 },
 "nbformat": 4,
 "nbformat_minor": 5
}
