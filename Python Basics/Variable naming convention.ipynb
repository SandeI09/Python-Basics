{
 "cells": [
  {
   "cell_type": "markdown",
   "id": "4d8cc914",
   "metadata": {},
   "source": [
    "# Variable Naming Convention"
   ]
  },
  {
   "cell_type": "markdown",
   "id": "9f801f0a",
   "metadata": {},
   "source": [
    "# Python keywords cannot be variable name\n",
    "* Keywords are the reserved words in python.\n",
    "* We cannot use a keyword as a variable name, function name or any other identifier.\n",
    "* They are used to define the syntax and structure of the python language.\n",
    "* In Python, Keywords are case sensitive."
   ]
  },
  {
   "cell_type": "code",
   "execution_count": 4,
   "id": "f17381c7",
   "metadata": {},
   "outputs": [
    {
     "name": "stdout",
     "output_type": "stream",
     "text": [
      "\n",
      "Here is a list of the Python keywords.  Enter any keyword to get more help.\n",
      "\n",
      "False               class               from                or\n",
      "None                continue            global              pass\n",
      "True                def                 if                  raise\n",
      "and                 del                 import              return\n",
      "as                  elif                in                  try\n",
      "assert              else                is                  while\n",
      "async               except              lambda              with\n",
      "await               finally             nonlocal            yield\n",
      "break               for                 not                 \n",
      "\n"
     ]
    }
   ],
   "source": [
    "help('keywords')"
   ]
  },
  {
   "cell_type": "markdown",
   "id": "4ab8255d",
   "metadata": {},
   "source": [
    "# Python Keywords are case sensitive\n",
    "* Uppercase ra lowercase farak manxa programming language le vane tyo case sensitive language ho"
   ]
  },
  {
   "cell_type": "code",
   "execution_count": 7,
   "id": "4760b86b",
   "metadata": {},
   "outputs": [
    {
     "ename": "SyntaxError",
     "evalue": "cannot assign to False (1672357174.py, line 1)",
     "output_type": "error",
     "traceback": [
      "\u001b[1;36m  Cell \u001b[1;32mIn[7], line 1\u001b[1;36m\u001b[0m\n\u001b[1;33m    False = 0 #False is a keyword\u001b[0m\n\u001b[1;37m    ^\u001b[0m\n\u001b[1;31mSyntaxError\u001b[0m\u001b[1;31m:\u001b[0m cannot assign to False\n"
     ]
    }
   ],
   "source": [
    "False = 0 #False is a keyword"
   ]
  },
  {
   "cell_type": "code",
   "execution_count": 8,
   "id": "0776a823",
   "metadata": {},
   "outputs": [],
   "source": [
    "false =0 #false is not a keyword"
   ]
  },
  {
   "cell_type": "markdown",
   "id": "a9df07bf",
   "metadata": {},
   "source": [
    "## Python is a case sensitive language while SQL is a case insensative language\n",
    "* Upper case ra lower case ma lekheko object farak object ho!"
   ]
  },
  {
   "cell_type": "code",
   "execution_count": 11,
   "id": "ce9689a1",
   "metadata": {},
   "outputs": [
    {
     "name": "stdout",
     "output_type": "stream",
     "text": [
      "The value of A is apple and the value of a is not apple \n"
     ]
    }
   ],
   "source": [
    "A = 'apple'\n",
    "a = 'not apple'\n",
    "print(f\"The value of A is {A} and the value of a is {a} \")"
   ]
  },
  {
   "cell_type": "code",
   "execution_count": 1,
   "id": "42412d52",
   "metadata": {},
   "outputs": [
    {
     "name": "stdout",
     "output_type": "stream",
     "text": [
      "The value of A is Apple\n",
      "The value of a is not apple \n"
     ]
    }
   ],
   "source": [
    "A = 'Apple'\n",
    "a = 'not apple'\n",
    "print(\"The value of A is {}\".format(A))\n",
    "print(\"The value of a is {} \".format(a))"
   ]
  },
  {
   "cell_type": "markdown",
   "id": "207f1016",
   "metadata": {},
   "source": [
    "# We cannot use special symbols like `! , @ , # , $ , % ,` etc in our identifier or variable name"
   ]
  },
  {
   "cell_type": "code",
   "execution_count": 22,
   "id": "955233e9",
   "metadata": {},
   "outputs": [
    {
     "ename": "SyntaxError",
     "evalue": "invalid syntax. Maybe you meant '==' or ':=' instead of '='? (655004638.py, line 1)",
     "output_type": "error",
     "traceback": [
      "\u001b[1;36m  Cell \u001b[1;32mIn[22], line 1\u001b[1;36m\u001b[0m\n\u001b[1;33m    @abc = \"yourName\"\u001b[0m\n\u001b[1;37m     ^\u001b[0m\n\u001b[1;31mSyntaxError\u001b[0m\u001b[1;31m:\u001b[0m invalid syntax. Maybe you meant '==' or ':=' instead of '='?\n"
     ]
    }
   ],
   "source": [
    "@abc = \"yourName\"\n",
    "abc = \"YourName\"\n",
    "$Name = \"Sandesh\""
   ]
  },
  {
   "cell_type": "markdown",
   "id": "9abc0ebc",
   "metadata": {},
   "source": [
    "# You cannot use space in variable name."
   ]
  },
  {
   "cell_type": "code",
   "execution_count": 23,
   "id": "9bb30bca",
   "metadata": {},
   "outputs": [
    {
     "ename": "SyntaxError",
     "evalue": "invalid syntax (1460003524.py, line 1)",
     "output_type": "error",
     "traceback": [
      "\u001b[1;36m  Cell \u001b[1;32mIn[23], line 1\u001b[1;36m\u001b[0m\n\u001b[1;33m    first Name = \"Ram\"\u001b[0m\n\u001b[1;37m          ^\u001b[0m\n\u001b[1;31mSyntaxError\u001b[0m\u001b[1;31m:\u001b[0m invalid syntax\n"
     ]
    }
   ],
   "source": [
    "first Name = \"Ram\""
   ]
  },
  {
   "cell_type": "code",
   "execution_count": 24,
   "id": "bbfaef71",
   "metadata": {},
   "outputs": [],
   "source": [
    "firstName = \"Ram\""
   ]
  },
  {
   "cell_type": "markdown",
   "id": "55357816",
   "metadata": {},
   "source": [
    "# You cannot use - in variable name."
   ]
  },
  {
   "cell_type": "code",
   "execution_count": 25,
   "id": "a70870de",
   "metadata": {},
   "outputs": [
    {
     "ename": "SyntaxError",
     "evalue": "cannot assign to expression here. Maybe you meant '==' instead of '='? (1055544391.py, line 1)",
     "output_type": "error",
     "traceback": [
      "\u001b[1;36m  Cell \u001b[1;32mIn[25], line 1\u001b[1;36m\u001b[0m\n\u001b[1;33m    first-name = \"Name\"\u001b[0m\n\u001b[1;37m    ^\u001b[0m\n\u001b[1;31mSyntaxError\u001b[0m\u001b[1;31m:\u001b[0m cannot assign to expression here. Maybe you meant '==' instead of '='?\n"
     ]
    }
   ],
   "source": [
    "first-name = \"Name\""
   ]
  },
  {
   "cell_type": "markdown",
   "id": "7894fe6b",
   "metadata": {},
   "source": [
    "# Numbers cannot be first letters in variable name but numbers can be written after letters or in between."
   ]
  },
  {
   "cell_type": "code",
   "execution_count": 1,
   "id": "604a5b38",
   "metadata": {},
   "outputs": [
    {
     "ename": "SyntaxError",
     "evalue": "invalid decimal literal (2291063723.py, line 1)",
     "output_type": "error",
     "traceback": [
      "\u001b[1;36m  Cell \u001b[1;32mIn[1], line 1\u001b[1;36m\u001b[0m\n\u001b[1;33m    1name = \"Yourname\" #Number/Digit cannot occur at first!\u001b[0m\n\u001b[1;37m    ^\u001b[0m\n\u001b[1;31mSyntaxError\u001b[0m\u001b[1;31m:\u001b[0m invalid decimal literal\n"
     ]
    }
   ],
   "source": [
    "1name = \"Yourname\" #Number/Digit cannot occur at first!"
   ]
  },
  {
   "cell_type": "code",
   "execution_count": 28,
   "id": "bdc98919",
   "metadata": {},
   "outputs": [],
   "source": [
    "name1 = \"YourName\""
   ]
  },
  {
   "cell_type": "markdown",
   "id": "3fd12a71",
   "metadata": {},
   "source": [
    "# Use underscore`( _ )` to join two words in variable name"
   ]
  },
  {
   "cell_type": "code",
   "execution_count": 3,
   "id": "c081f8f2",
   "metadata": {},
   "outputs": [],
   "source": [
    "first_name = \"Sam\" #Snake_Case\n",
    "MyObject = 88      #PascalCase\n",
    "myObject = 99      #camelCase"
   ]
  },
  {
   "cell_type": "markdown",
   "id": "830a122b",
   "metadata": {},
   "source": [
    "# Variable naming styles/Conventions\n",
    "\n",
    "[Python Style Guide: How to write Beautiful code in Python](https://realpython.com/python-pep8/)"
   ]
  },
  {
   "cell_type": "code",
   "execution_count": 32,
   "id": "42b429f3",
   "metadata": {},
   "outputs": [],
   "source": [
    "o = 88 # It is not a good style to write variable in python --PEP-8(style-guide)"
   ]
  },
  {
   "cell_type": "markdown",
   "id": "3e6436fd",
   "metadata": {},
   "source": [
    "# Python is dynamic typed language\n",
    "* as it checks the type of data during runtime/execution.\n",
    "# Js is static typed language\n",
    "* as it checks the types of data before runtime/execution."
   ]
  },
  {
   "cell_type": "code",
   "execution_count": 35,
   "id": "5e974389",
   "metadata": {},
   "outputs": [
    {
     "ename": "TypeError",
     "evalue": "can only concatenate str (not \"int\") to str",
     "output_type": "error",
     "traceback": [
      "\u001b[1;31m---------------------------------------------------------------------------\u001b[0m",
      "\u001b[1;31mTypeError\u001b[0m                                 Traceback (most recent call last)",
      "Cell \u001b[1;32mIn[35], line 1\u001b[0m\n\u001b[1;32m----> 1\u001b[0m \u001b[38;5;124;43m\"\u001b[39;49m\u001b[38;5;124;43m1\u001b[39;49m\u001b[38;5;124;43m\"\u001b[39;49m\u001b[43m \u001b[49m\u001b[38;5;241;43m+\u001b[39;49m\u001b[43m \u001b[49m\u001b[38;5;241;43m2\u001b[39;49m \u001b[38;5;66;03m# dynamic typed -- data type checked on fly in runtime\u001b[39;00m\n",
      "\u001b[1;31mTypeError\u001b[0m: can only concatenate str (not \"int\") to str"
     ]
    }
   ],
   "source": [
    "\"1\" + 2 # dynamic typed -- data type checked on fly in runtime"
   ]
  },
  {
   "cell_type": "code",
   "execution_count": 36,
   "id": "01979ba7",
   "metadata": {},
   "outputs": [
    {
     "data": {
      "text/plain": [
       "'12'"
      ]
     },
     "execution_count": 36,
     "metadata": {},
     "output_type": "execute_result"
    }
   ],
   "source": [
    "\"1\" + \"2\""
   ]
  },
  {
   "cell_type": "markdown",
   "id": "45945715",
   "metadata": {},
   "source": [
    "# Python is a case sensitive, interpreted, high level, dynamic typed programming language"
   ]
  },
  {
   "cell_type": "markdown",
   "id": "20aa0da1",
   "metadata": {},
   "source": [
    "# Updating variable values"
   ]
  },
  {
   "cell_type": "code",
   "execution_count": 37,
   "id": "9968c464",
   "metadata": {},
   "outputs": [
    {
     "name": "stdout",
     "output_type": "stream",
     "text": [
      "Before a = 5\n",
      "After a = 66\n"
     ]
    }
   ],
   "source": [
    "a = 5\n",
    "print(f\"Before a = {a}\")\n",
    "a = 66\n",
    "print(f\"After a = {a}\")"
   ]
  },
  {
   "cell_type": "code",
   "execution_count": 38,
   "id": "8cb7c99a",
   "metadata": {},
   "outputs": [
    {
     "name": "stdout",
     "output_type": "stream",
     "text": [
      "Before a = 60.5\n",
      "After a = 61.0\n"
     ]
    }
   ],
   "source": [
    "a = 60.5\n",
    "print(f\"Before a = {a}\")\n",
    "a = a + 0.5\n",
    "print(f\"After a = {a}\")"
   ]
  },
  {
   "cell_type": "code",
   "execution_count": 63,
   "id": "6e2f8718",
   "metadata": {},
   "outputs": [
    {
     "name": "stdout",
     "output_type": "stream",
     "text": [
      "Before swapping, num1 = 2.5 and num2 = 0.36\n",
      "After swapping, num1 = 0.36 and num2 = 2.5\n"
     ]
    }
   ],
   "source": [
    "num1 = 2.5\n",
    "num2 = 0.36\n",
    "\n",
    "print(f\"Before swapping, num1 = {num1} and num2 = {num2}\")\n",
    "\n",
    "# Swapping\n",
    "\n",
    "temp = num1\n",
    "num1 = num2\n",
    "num2 = temp\n",
    "\n",
    "# After swapping\n",
    "\n",
    "print(f\"After swapping, num1 = {num1} and num2 = {num2}\")"
   ]
  },
  {
   "cell_type": "markdown",
   "id": "577909ff",
   "metadata": {},
   "source": [
    "# Assigning multiple values to multiple variables"
   ]
  },
  {
   "cell_type": "code",
   "execution_count": 49,
   "id": "7558e9ac",
   "metadata": {},
   "outputs": [],
   "source": [
    "a = 2\n",
    "b = 0.2\n",
    "c = 0.6 + 0.3j"
   ]
  },
  {
   "cell_type": "code",
   "execution_count": 50,
   "id": "96268edd",
   "metadata": {},
   "outputs": [
    {
     "data": {
      "text/plain": [
       "2"
      ]
     },
     "execution_count": 50,
     "metadata": {},
     "output_type": "execute_result"
    }
   ],
   "source": [
    "a"
   ]
  },
  {
   "cell_type": "code",
   "execution_count": 51,
   "id": "5c596795",
   "metadata": {},
   "outputs": [
    {
     "data": {
      "text/plain": [
       "0.2"
      ]
     },
     "execution_count": 51,
     "metadata": {},
     "output_type": "execute_result"
    }
   ],
   "source": [
    "b"
   ]
  },
  {
   "cell_type": "code",
   "execution_count": 52,
   "id": "25899854",
   "metadata": {},
   "outputs": [
    {
     "data": {
      "text/plain": [
       "(0.6+0.3j)"
      ]
     },
     "execution_count": 52,
     "metadata": {},
     "output_type": "execute_result"
    }
   ],
   "source": [
    "c"
   ]
  },
  {
   "cell_type": "code",
   "execution_count": 56,
   "id": "9d6f3e81",
   "metadata": {},
   "outputs": [],
   "source": [
    "a,b,c = 2,0.2,0.6+0.3j"
   ]
  },
  {
   "cell_type": "code",
   "execution_count": 58,
   "id": "0a76410b",
   "metadata": {},
   "outputs": [
    {
     "data": {
      "text/plain": [
       "(2, 0.2, (0.6+0.3j))"
      ]
     },
     "execution_count": 58,
     "metadata": {},
     "output_type": "execute_result"
    }
   ],
   "source": [
    "a,b,c"
   ]
  },
  {
   "cell_type": "code",
   "execution_count": 59,
   "id": "059ee913",
   "metadata": {},
   "outputs": [
    {
     "ename": "ValueError",
     "evalue": "not enough values to unpack (expected 3, got 2)",
     "output_type": "error",
     "traceback": [
      "\u001b[1;31m---------------------------------------------------------------------------\u001b[0m",
      "\u001b[1;31mValueError\u001b[0m                                Traceback (most recent call last)",
      "Cell \u001b[1;32mIn[59], line 1\u001b[0m\n\u001b[1;32m----> 1\u001b[0m a,b,c \u001b[38;5;241m=\u001b[39m \u001b[38;5;241m2\u001b[39m,\u001b[38;5;241m0.3\u001b[39m\n",
      "\u001b[1;31mValueError\u001b[0m: not enough values to unpack (expected 3, got 2)"
     ]
    }
   ],
   "source": [
    "a,b,c = 2,0.3"
   ]
  },
  {
   "cell_type": "code",
   "execution_count": 60,
   "id": "d9607995",
   "metadata": {},
   "outputs": [
    {
     "ename": "ValueError",
     "evalue": "too many values to unpack (expected 2)",
     "output_type": "error",
     "traceback": [
      "\u001b[1;31m---------------------------------------------------------------------------\u001b[0m",
      "\u001b[1;31mValueError\u001b[0m                                Traceback (most recent call last)",
      "Cell \u001b[1;32mIn[60], line 1\u001b[0m\n\u001b[1;32m----> 1\u001b[0m a,b \u001b[38;5;241m=\u001b[39m \u001b[38;5;241m2\u001b[39m , \u001b[38;5;241m0.2\u001b[39m , \u001b[38;5;241m0.4\u001b[39m\n",
      "\u001b[1;31mValueError\u001b[0m: too many values to unpack (expected 2)"
     ]
    }
   ],
   "source": [
    "a,b = 2 , 0.2 , 0.4"
   ]
  },
  {
   "cell_type": "markdown",
   "id": "3a2a2ee4",
   "metadata": {},
   "source": [
    "## Data type checking in Python"
   ]
  },
  {
   "cell_type": "code",
   "execution_count": 6,
   "id": "9a117176",
   "metadata": {},
   "outputs": [],
   "source": [
    "a , b , c = 2 , 0.3 , 0.5 + 0.1j"
   ]
  },
  {
   "cell_type": "code",
   "execution_count": 7,
   "id": "3e05629a",
   "metadata": {},
   "outputs": [
    {
     "data": {
      "text/plain": [
       "int"
      ]
     },
     "execution_count": 7,
     "metadata": {},
     "output_type": "execute_result"
    }
   ],
   "source": [
    "type(a)"
   ]
  },
  {
   "cell_type": "code",
   "execution_count": 8,
   "id": "578db4bd",
   "metadata": {},
   "outputs": [
    {
     "data": {
      "text/plain": [
       "float"
      ]
     },
     "execution_count": 8,
     "metadata": {},
     "output_type": "execute_result"
    }
   ],
   "source": [
    "type(b)"
   ]
  },
  {
   "cell_type": "code",
   "execution_count": 9,
   "id": "a566dafe",
   "metadata": {},
   "outputs": [
    {
     "data": {
      "text/plain": [
       "complex"
      ]
     },
     "execution_count": 9,
     "metadata": {},
     "output_type": "execute_result"
    }
   ],
   "source": [
    "type(c)"
   ]
  },
  {
   "cell_type": "markdown",
   "id": "c0cad2b0",
   "metadata": {},
   "source": [
    "## True and false are booleans in Python"
   ]
  },
  {
   "cell_type": "markdown",
   "id": "8fd83b34",
   "metadata": {},
   "source": [
    "# Assignments"
   ]
  },
  {
   "cell_type": "code",
   "execution_count": 2,
   "id": "f2ae48ca",
   "metadata": {},
   "outputs": [
    {
     "data": {
      "text/plain": [
       "2562"
      ]
     },
     "execution_count": 2,
     "metadata": {},
     "output_type": "execute_result"
    }
   ],
   "source": [
    "input_minutes,input_seconds = 42,42\n",
    "output_seconds = input_minutes * 60 + input_seconds\n",
    "output_seconds"
   ]
  },
  {
   "cell_type": "code",
   "execution_count": 3,
   "id": "0a6421e6",
   "metadata": {},
   "outputs": [
    {
     "data": {
      "text/plain": [
       "6.215040397762586"
      ]
     },
     "execution_count": 3,
     "metadata": {},
     "output_type": "execute_result"
    }
   ],
   "source": [
    "input_kilometers = 10\n",
    "output_in_miles = input_kilometers / 1.609\n",
    "output_in_miles"
   ]
  },
  {
   "cell_type": "code",
   "execution_count": 3,
   "id": "83e4e185",
   "metadata": {},
   "outputs": [
    {
     "name": "stdout",
     "output_type": "stream",
     "text": [
      "Average Speed\n",
      "Miles per minute=0.1455512973714891\n",
      "Miles per second=0.0024258549561914852\n"
     ]
    }
   ],
   "source": [
    "distance_travelled,in_minutes,in_seconds = 10/1.609, 42, 42\n",
    "miles_in_minutes = distance_travelled / (in_minutes + (in_seconds/60))\n",
    "miles_in_seconds = distance_travelled / ((in_minutes * 60) + in_seconds)\n",
    "print(\"Average Speed\")\n",
    "print(f\"Miles per minute={miles_in_minutes}\")\n",
    "print(f\"Miles per second={miles_in_seconds}\")"
   ]
  },
  {
   "cell_type": "markdown",
   "id": "72d2dcc9",
   "metadata": {},
   "source": [
    "# Swapping values of the variable"
   ]
  },
  {
   "cell_type": "code",
   "execution_count": 10,
   "id": "26041857",
   "metadata": {},
   "outputs": [
    {
     "name": "stdout",
     "output_type": "stream",
     "text": [
      "Before swapping, num1 = 2.5 and num2 = 0.36\n",
      "After swapping, num1 = 0.36 and num2 = 2.5\n"
     ]
    }
   ],
   "source": [
    "num1 = 2.5\n",
    "num2 = 0.36\n",
    "\n",
    "print(f\"Before swapping, num1 = {num1} and num2 = {num2}\")\n",
    "\n",
    "# Swapping\n",
    "\n",
    "temp = num1\n",
    "num1 = num2\n",
    "num2 = temp\n",
    "\n",
    "# After swapping\n",
    "\n",
    "print(f\"After swapping, num1 = {num1} and num2 = {num2}\")\n"
   ]
  },
  {
   "cell_type": "markdown",
   "id": "bac158f1",
   "metadata": {},
   "source": [
    "# Volume of sphere\n",
    "$\\text{Volume (V)} = \\frac{4}{3} \\pi r^3$"
   ]
  },
  {
   "cell_type": "code",
   "execution_count": 16,
   "id": "f92a8afa",
   "metadata": {},
   "outputs": [
    {
     "data": {
      "text/plain": [
       "523.8095238095237"
      ]
     },
     "execution_count": 16,
     "metadata": {},
     "output_type": "execute_result"
    }
   ],
   "source": [
    "radius = 5\n",
    "volume = 4 / 3 * (22/7 * radius ** 3)\n",
    "volume"
   ]
  },
  {
   "cell_type": "code",
   "execution_count": 7,
   "id": "d91e32a5",
   "metadata": {},
   "outputs": [
    {
     "name": "stdout",
     "output_type": "stream",
     "text": [
      "Enter the radius : 5\n",
      "Volume of sphere is 523.81\n"
     ]
    }
   ],
   "source": [
    "radius = float(input(\"Enter the radius : \"))\n",
    "volume = 4 / 3 * (22/7 * radius ** 3)\n",
    "print(f\"Volume of sphere is {round(volume,2)}\")"
   ]
  },
  {
   "cell_type": "code",
   "execution_count": 12,
   "id": "c1bbb72a",
   "metadata": {},
   "outputs": [
    {
     "name": "stdout",
     "output_type": "stream",
     "text": [
      "Enter the radius : 5\n",
      "Volume of sphere is 523.6cm³\n"
     ]
    }
   ],
   "source": [
    "import math\n",
    "PI = math.pi\n",
    "radius = float(input(\"Enter the radius : \"))\n",
    "volume = 4 / 3 * (PI * radius ** 3)\n",
    "print(f\"Volume of sphere is {round(volume,2)}cm\\u00b3\")"
   ]
  },
  {
   "cell_type": "code",
   "execution_count": null,
   "id": "cce6075a",
   "metadata": {},
   "outputs": [],
   "source": []
  }
 ],
 "metadata": {
  "kernelspec": {
   "display_name": "Python 3 (ipykernel)",
   "language": "python",
   "name": "python3"
  },
  "language_info": {
   "codemirror_mode": {
    "name": "ipython",
    "version": 3
   },
   "file_extension": ".py",
   "mimetype": "text/x-python",
   "name": "python",
   "nbconvert_exporter": "python",
   "pygments_lexer": "ipython3",
   "version": "3.10.11"
  }
 },
 "nbformat": 4,
 "nbformat_minor": 5
}
