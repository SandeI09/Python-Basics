{
 "cells": [
  {
   "cell_type": "markdown",
   "id": "50af3086",
   "metadata": {},
   "source": [
    "# Characterstics of OOP\n",
    "\n",
    "<img src=\"https://miro.medium.com/v2/resize:fit:557/1*ixEc6uzuyCZqSLr4eifL0w.png\">"
   ]
  },
  {
   "cell_type": "markdown",
   "id": "46d4c92b",
   "metadata": {},
   "source": [
    "# Class and Objects"
   ]
  },
  {
   "cell_type": "markdown",
   "id": "6c1e2ef3",
   "metadata": {},
   "source": [
    "# Creating empty class in python"
   ]
  },
  {
   "cell_type": "code",
   "execution_count": null,
   "id": "d0350644",
   "metadata": {},
   "outputs": [],
   "source": [
    "class Mammal:\n",
    "    pass"
   ]
  },
  {
   "cell_type": "code",
   "execution_count": null,
   "id": "a19b36a6",
   "metadata": {},
   "outputs": [],
   "source": [
    "# Creating empty person class\n",
    "\n",
    "class EmptyPerson:\n",
    "    pass"
   ]
  },
  {
   "cell_type": "markdown",
   "id": "ac05b66e",
   "metadata": {},
   "source": [
    "# Creating object from a class"
   ]
  },
  {
   "cell_type": "code",
   "execution_count": 1,
   "id": "fdf3ccaf",
   "metadata": {},
   "outputs": [],
   "source": [
    "class Mammal:\n",
    "    pass"
   ]
  },
  {
   "cell_type": "code",
   "execution_count": 2,
   "id": "56d7f350",
   "metadata": {},
   "outputs": [],
   "source": [
    "human = Mammal() # Creating object human from mammal class"
   ]
  },
  {
   "cell_type": "code",
   "execution_count": 3,
   "id": "e9db8062",
   "metadata": {},
   "outputs": [],
   "source": [
    "# Class is a blueprint to create an object"
   ]
  },
  {
   "cell_type": "code",
   "execution_count": 4,
   "id": "e16a9297",
   "metadata": {},
   "outputs": [],
   "source": [
    "# Onject is an instance of a class. Object is a real world entity"
   ]
  },
  {
   "cell_type": "code",
   "execution_count": 5,
   "id": "2f44e90d",
   "metadata": {},
   "outputs": [],
   "source": [
    "cow = Mammal()"
   ]
  },
  {
   "cell_type": "code",
   "execution_count": 6,
   "id": "22c03561",
   "metadata": {},
   "outputs": [],
   "source": [
    "# You can create any number of objects from class"
   ]
  },
  {
   "cell_type": "code",
   "execution_count": 7,
   "id": "4fa25555",
   "metadata": {},
   "outputs": [
    {
     "name": "stdout",
     "output_type": "stream",
     "text": [
      "<class '__main__.Mammal'>\n"
     ]
    }
   ],
   "source": [
    "print(type(cow))"
   ]
  },
  {
   "cell_type": "markdown",
   "id": "b26c6af9",
   "metadata": {},
   "source": [
    "# Main is a entry point of python program"
   ]
  },
  {
   "cell_type": "code",
   "execution_count": 10,
   "id": "4e240152",
   "metadata": {},
   "outputs": [
    {
     "name": "stdout",
     "output_type": "stream",
     "text": [
      "<class '__main__.Mammal'>\n"
     ]
    }
   ],
   "source": [
    "if __name__ == \"__main__\":\n",
    "    cow = Mammal()\n",
    "    print(type(cow))"
   ]
  },
  {
   "cell_type": "code",
   "execution_count": 11,
   "id": "27bd8ad0",
   "metadata": {},
   "outputs": [
    {
     "data": {
      "text/plain": [
       "'__main__'"
      ]
     },
     "execution_count": 11,
     "metadata": {},
     "output_type": "execute_result"
    }
   ],
   "source": [
    "__name__"
   ]
  },
  {
   "cell_type": "markdown",
   "id": "63902651",
   "metadata": {},
   "source": [
    "# Class attribute"
   ]
  },
  {
   "cell_type": "code",
   "execution_count": 15,
   "id": "0adfbe85",
   "metadata": {},
   "outputs": [],
   "source": [
    "class Mammal:\n",
    "    has_hair = True   # Class Attribute"
   ]
  },
  {
   "cell_type": "code",
   "execution_count": 16,
   "id": "3e741f01",
   "metadata": {},
   "outputs": [
    {
     "name": "stdout",
     "output_type": "stream",
     "text": [
      "True\n"
     ]
    }
   ],
   "source": [
    "human = Mammal()\n",
    "print(human.has_hair)"
   ]
  },
  {
   "cell_type": "code",
   "execution_count": 19,
   "id": "9fe5c1c6",
   "metadata": {},
   "outputs": [
    {
     "name": "stdout",
     "output_type": "stream",
     "text": [
      "True\n"
     ]
    }
   ],
   "source": [
    "cow = Mammal()         # Class attribute sabai object ko lagi same hunxa\n",
    "print(cow.has_hair)"
   ]
  },
  {
   "cell_type": "markdown",
   "id": "d2f64314",
   "metadata": {},
   "source": [
    "# Object Attribute"
   ]
  },
  {
   "cell_type": "code",
   "execution_count": 32,
   "id": "a0579ef3",
   "metadata": {},
   "outputs": [],
   "source": [
    "class Mammal:\n",
    "    has_hair = True\n",
    "    \n",
    "    def __init__(self, no_of_legs):   # No of legs is object attribute\n",
    "        self.no_of_legs = no_of_legs"
   ]
  },
  {
   "cell_type": "code",
   "execution_count": 33,
   "id": "1b248228",
   "metadata": {},
   "outputs": [],
   "source": [
    "cow = Mammal(no_of_legs = 4)"
   ]
  },
  {
   "cell_type": "code",
   "execution_count": 34,
   "id": "f29983d9",
   "metadata": {},
   "outputs": [
    {
     "data": {
      "text/plain": [
       "4"
      ]
     },
     "execution_count": 34,
     "metadata": {},
     "output_type": "execute_result"
    }
   ],
   "source": [
    "cow.no_of_legs"
   ]
  },
  {
   "cell_type": "code",
   "execution_count": 35,
   "id": "fad95429",
   "metadata": {},
   "outputs": [],
   "source": [
    "human = Mammal(no_of_legs = 2)"
   ]
  },
  {
   "cell_type": "code",
   "execution_count": 36,
   "id": "be7e9166",
   "metadata": {},
   "outputs": [
    {
     "data": {
      "text/plain": [
       "2"
      ]
     },
     "execution_count": 36,
     "metadata": {},
     "output_type": "execute_result"
    }
   ],
   "source": [
    "human.no_of_legs"
   ]
  },
  {
   "cell_type": "markdown",
   "id": "a77d56fa",
   "metadata": {},
   "source": [
    "# Note:\n",
    "* All classes have a function called `__init__()`, whch is always executed when the class is beign initialized.\n",
    "* Use the `__init__` function to assign values to object attribute or properties, or other operations that are necessary to do when the object is being created:"
   ]
  },
  {
   "cell_type": "code",
   "execution_count": 38,
   "id": "a9cdbfd1",
   "metadata": {},
   "outputs": [],
   "source": [
    "class person:\n",
    "    def __init__(self, name, age):\n",
    "        print(type(self))\n",
    "        self.name = name\n",
    "        self.age = age"
   ]
  },
  {
   "cell_type": "code",
   "execution_count": 39,
   "id": "9c17a6bc",
   "metadata": {},
   "outputs": [
    {
     "name": "stdout",
     "output_type": "stream",
     "text": [
      "<class '__main__.person'>\n"
     ]
    }
   ],
   "source": [
    "p1 = person(\"Ram\", 45)"
   ]
  },
  {
   "cell_type": "code",
   "execution_count": 40,
   "id": "57390a3f",
   "metadata": {},
   "outputs": [
    {
     "name": "stdout",
     "output_type": "stream",
     "text": [
      "<class '__main__.person'>\n"
     ]
    }
   ],
   "source": [
    "print(type(p1))"
   ]
  },
  {
   "cell_type": "code",
   "execution_count": 41,
   "id": "a45aec57",
   "metadata": {},
   "outputs": [
    {
     "name": "stdout",
     "output_type": "stream",
     "text": [
      "<class '__main__.person'>\n"
     ]
    }
   ],
   "source": [
    "p2 = person(\"Gopal\", 32)"
   ]
  },
  {
   "cell_type": "code",
   "execution_count": 43,
   "id": "55548ad1",
   "metadata": {},
   "outputs": [
    {
     "name": "stdout",
     "output_type": "stream",
     "text": [
      "<class '__main__.person'>\n"
     ]
    }
   ],
   "source": [
    "print(type(p2))"
   ]
  },
  {
   "cell_type": "code",
   "execution_count": 44,
   "id": "47e11bc1",
   "metadata": {},
   "outputs": [
    {
     "name": "stdout",
     "output_type": "stream",
     "text": [
      "Gopal\n"
     ]
    }
   ],
   "source": [
    "print(p2.name)"
   ]
  },
  {
   "cell_type": "markdown",
   "id": "617177c5",
   "metadata": {},
   "source": [
    "# Note:\n",
    "* The self parameter is a reference to the cuttent instance of the class and is used to access variables that belongs to the class.\n",
    "* It does not have to be named self, you can call it watever you like, but it has to be the first parameter of any function in the class:\n",
    "* `__init__` is not a constructor in python `__new__(cls, *args, **kwargs)` is \n",
    "* Becausse `__new__` and `__init__` work together in constructing objects(`__new__()` to create it, and `__init()__` to customiz it), no non-None value may be returned by `__init__()`: doing so will cause a TypeError to be raised at runtime."
   ]
  },
  {
   "cell_type": "code",
   "execution_count": 46,
   "id": "b2788dec",
   "metadata": {},
   "outputs": [],
   "source": [
    "class tota:\n",
    "    def __init__(self, num1, num2):\n",
    "        self.total = num1 + num2"
   ]
  },
  {
   "cell_type": "code",
   "execution_count": 47,
   "id": "9ead7403",
   "metadata": {},
   "outputs": [],
   "source": [
    "t1 = total(num1 = 2, num2 = 6) "
   ]
  },
  {
   "cell_type": "code",
   "execution_count": 49,
   "id": "093645d4",
   "metadata": {},
   "outputs": [
    {
     "name": "stdout",
     "output_type": "stream",
     "text": [
      "8\n"
     ]
    }
   ],
   "source": [
    "print(t1.total)"
   ]
  },
  {
   "cell_type": "code",
   "execution_count": 54,
   "id": "e2ccc60c",
   "metadata": {},
   "outputs": [],
   "source": [
    "class total:\n",
    "    def __init__(self, num1, num2):\n",
    "        self.total = num1 + num2\n",
    "        return self.total         # init le None return garne ho aru kei return gardaina. no return statement"
   ]
  },
  {
   "cell_type": "code",
   "execution_count": 55,
   "id": "df7e98af",
   "metadata": {},
   "outputs": [
    {
     "ename": "TypeError",
     "evalue": "__init__() should return None, not 'int'",
     "output_type": "error",
     "traceback": [
      "\u001b[1;31m---------------------------------------------------------------------------\u001b[0m",
      "\u001b[1;31mTypeError\u001b[0m                                 Traceback (most recent call last)",
      "Cell \u001b[1;32mIn[55], line 1\u001b[0m\n\u001b[1;32m----> 1\u001b[0m t1 \u001b[38;5;241m=\u001b[39m \u001b[43mtotal\u001b[49m\u001b[43m(\u001b[49m\u001b[43mnum1\u001b[49m\u001b[43m \u001b[49m\u001b[38;5;241;43m=\u001b[39;49m\u001b[43m \u001b[49m\u001b[38;5;241;43m5\u001b[39;49m\u001b[43m,\u001b[49m\u001b[43m \u001b[49m\u001b[43mnum2\u001b[49m\u001b[43m \u001b[49m\u001b[38;5;241;43m=\u001b[39;49m\u001b[43m \u001b[49m\u001b[38;5;241;43m7\u001b[39;49m\u001b[43m)\u001b[49m\n",
      "\u001b[1;31mTypeError\u001b[0m: __init__() should return None, not 'int'"
     ]
    }
   ],
   "source": [
    "t1 = total(num1 = 5, num2 = 7)"
   ]
  },
  {
   "cell_type": "markdown",
   "id": "9744087b",
   "metadata": {},
   "source": [
    "# User defined method in class"
   ]
  },
  {
   "cell_type": "code",
   "execution_count": 57,
   "id": "06111ff2",
   "metadata": {},
   "outputs": [],
   "source": [
    "import math\n",
    "class sphere:\n",
    "    def __init__(self, radius):\n",
    "        self.radius = radius\n",
    "        \n",
    "    def volume(self):\n",
    "        return 4/3 * math.pi * self.radius ** 3"
   ]
  },
  {
   "cell_type": "code",
   "execution_count": 58,
   "id": "e17a8a20",
   "metadata": {},
   "outputs": [],
   "source": [
    "radius = 5"
   ]
  },
  {
   "cell_type": "code",
   "execution_count": 59,
   "id": "8adfd99e",
   "metadata": {},
   "outputs": [],
   "source": [
    "s1 = sphere(radius = radius)"
   ]
  },
  {
   "cell_type": "code",
   "execution_count": 60,
   "id": "b4ea6a85",
   "metadata": {},
   "outputs": [
    {
     "data": {
      "text/plain": [
       "523.5987755982989"
      ]
     },
     "execution_count": 60,
     "metadata": {},
     "output_type": "execute_result"
    }
   ],
   "source": [
    "s1.volume()"
   ]
  },
  {
   "cell_type": "code",
   "execution_count": 61,
   "id": "532dfbb8",
   "metadata": {},
   "outputs": [
    {
     "data": {
      "text/plain": [
       "1436.7550402417319"
      ]
     },
     "execution_count": 61,
     "metadata": {},
     "output_type": "execute_result"
    }
   ],
   "source": [
    "radius = 7\n",
    "s7 = sphere(radius = radius)\n",
    "s7.volume()"
   ]
  },
  {
   "cell_type": "markdown",
   "id": "91c18fe3",
   "metadata": {},
   "source": [
    "# Find area and perimeter of rectangle"
   ]
  },
  {
   "cell_type": "code",
   "execution_count": 68,
   "id": "eca57408",
   "metadata": {},
   "outputs": [],
   "source": [
    "class rectangle:\n",
    "    def __init__(self, side1, side2):\n",
    "        self.side1 = side1\n",
    "        self.side2 = side2\n",
    "    \n",
    "    def area(self):\n",
    "        return self.side1 * side2\n",
    "    \n",
    "    def perimeter(self):\n",
    "        return 2 * (self.side1 + self.side2)"
   ]
  },
  {
   "cell_type": "code",
   "execution_count": 76,
   "id": "322de43e",
   "metadata": {},
   "outputs": [
    {
     "name": "stdout",
     "output_type": "stream",
     "text": [
      "Area of rectangle = 70\n",
      "Perimeter of rectangle = 32\n"
     ]
    }
   ],
   "source": [
    "rect1 = rectangle(side1 = 7, side2 = 9)\n",
    "print(f\"Area of rectangle = {rect1.area()}\")\n",
    "print(f\"Perimeter of rectangle = {rect1.perimeter()}\")"
   ]
  },
  {
   "cell_type": "code",
   "execution_count": 77,
   "id": "61f34e16",
   "metadata": {},
   "outputs": [],
   "source": [
    "import math\n",
    "class circle:\n",
    "    def __init__(self, radius):\n",
    "        self.radius = radius\n",
    "    \n",
    "    def area(self):\n",
    "        return math.pi * self.radius ** 2\n",
    "    \n",
    "    def circum(self):\n",
    "        return 2 * math.pi * self.radius"
   ]
  },
  {
   "cell_type": "code",
   "execution_count": 84,
   "id": "b3640065",
   "metadata": {},
   "outputs": [
    {
     "name": "stdout",
     "output_type": "stream",
     "text": [
      "Area of circle = 78.54\n",
      "Circumference of circle = 31.42\n"
     ]
    }
   ],
   "source": [
    "circle1 = circle(radius = 5)\n",
    "print(f\"Area of circle = {round(circle1.area(), 2)}\")\n",
    "print(f\"Circumference of circle = {round(circle1.circum(), 2)}\")"
   ]
  },
  {
   "cell_type": "markdown",
   "id": "b04c87c2",
   "metadata": {},
   "source": [
    "$$p1 = (5,2)$$\n",
    "$$p2 = (9,8)$$\n",
    "# Calculate distance between two points p1 and p2 using class and object concept\n",
    "\n",
    "$$d = \\sqrt{(y_2-y_1) ^ 2 + (x_2 = x_1) ^ 2}$$"
   ]
  },
  {
   "cell_type": "code",
   "execution_count": 30,
   "id": "e0ddbe5a",
   "metadata": {},
   "outputs": [],
   "source": [
    "class Distance:\n",
    "    def __init__(self, p1, p2):\n",
    "        self.x1, self.y1 = p1\n",
    "        self.x2, self.y2 = p2\n",
    "        \n",
    "    def distance(self):\n",
    "        return ((self.y2 - self.y1)**2 + (self.x2 - self.x1)**2) ** 0.5"
   ]
  },
  {
   "cell_type": "code",
   "execution_count": 31,
   "id": "ee68fe23",
   "metadata": {},
   "outputs": [],
   "source": [
    "p1 = (5, 2)\n",
    "p2 = (9, 8)\n",
    "dist1 = Distance(p1 = p1, p2 = p2).distance()"
   ]
  },
  {
   "cell_type": "code",
   "execution_count": 32,
   "id": "6e29c7a0",
   "metadata": {},
   "outputs": [
    {
     "data": {
      "text/plain": [
       "7.211102550927978"
      ]
     },
     "execution_count": 32,
     "metadata": {},
     "output_type": "execute_result"
    }
   ],
   "source": [
    "dist1"
   ]
  },
  {
   "cell_type": "code",
   "execution_count": null,
   "id": "b5225b14",
   "metadata": {},
   "outputs": [],
   "source": []
  }
 ],
 "metadata": {
  "kernelspec": {
   "display_name": "Python 3 (ipykernel)",
   "language": "python",
   "name": "python3"
  },
  "language_info": {
   "codemirror_mode": {
    "name": "ipython",
    "version": 3
   },
   "file_extension": ".py",
   "mimetype": "text/x-python",
   "name": "python",
   "nbconvert_exporter": "python",
   "pygments_lexer": "ipython3",
   "version": "3.10.11"
  }
 },
 "nbformat": 4,
 "nbformat_minor": 5
}
