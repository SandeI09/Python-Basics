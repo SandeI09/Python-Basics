{
 "cells": [
  {
   "cell_type": "markdown",
   "id": "39763cd9",
   "metadata": {},
   "source": [
    "# Function Syntax\n",
    "```python\n",
    "\n",
    "def function_name(parameters):\n",
    "    # Function body\n",
    "    return expression\n",
    "```"
   ]
  },
  {
   "cell_type": "code",
   "execution_count": 1,
   "id": "28e56760",
   "metadata": {},
   "outputs": [
    {
     "name": "stdout",
     "output_type": "stream",
     "text": [
      "7\n"
     ]
    }
   ],
   "source": [
    "a = 5\n",
    "b = 2\n",
    "c = a + b\n",
    "print(c)"
   ]
  },
  {
   "cell_type": "code",
   "execution_count": 4,
   "id": "37e35305",
   "metadata": {},
   "outputs": [],
   "source": [
    "def add():\n",
    "    a = 5\n",
    "    b = 2\n",
    "    c = a + b\n",
    "    print(c)"
   ]
  },
  {
   "cell_type": "code",
   "execution_count": 5,
   "id": "cd860c5e",
   "metadata": {},
   "outputs": [
    {
     "name": "stdout",
     "output_type": "stream",
     "text": [
      "7\n"
     ]
    }
   ],
   "source": [
    "add()"
   ]
  },
  {
   "cell_type": "code",
   "execution_count": 6,
   "id": "04fbdc92",
   "metadata": {},
   "outputs": [
    {
     "name": "stdout",
     "output_type": "stream",
     "text": [
      "7\n"
     ]
    }
   ],
   "source": [
    "add()"
   ]
  },
  {
   "cell_type": "code",
   "execution_count": 11,
   "id": "e217e953",
   "metadata": {},
   "outputs": [],
   "source": [
    "def add(a, b):\n",
    "    c = a + b\n",
    "    print(c)"
   ]
  },
  {
   "cell_type": "code",
   "execution_count": 12,
   "id": "d97b0329",
   "metadata": {},
   "outputs": [
    {
     "name": "stdout",
     "output_type": "stream",
     "text": [
      "7\n"
     ]
    }
   ],
   "source": [
    "add (a = 5, b = 2)"
   ]
  },
  {
   "cell_type": "code",
   "execution_count": 17,
   "id": "819ba7d9",
   "metadata": {},
   "outputs": [
    {
     "name": "stdout",
     "output_type": "stream",
     "text": [
      "Enter first number: 6\n",
      "Enter second number: 5\n",
      "11\n"
     ]
    }
   ],
   "source": [
    "x = int(input(\"Enter first number: \"))\n",
    "y = int(input(\"Enter second number: \"))\n",
    "\n",
    "def add(x,y):\n",
    "    summation = x + y\n",
    "    print(summation)\n",
    "\n",
    "add(x = x,y = y)"
   ]
  },
  {
   "cell_type": "markdown",
   "id": "95afe0e3",
   "metadata": {},
   "source": [
    "# Multiply two numbers using function and take input from the user"
   ]
  },
  {
   "cell_type": "code",
   "execution_count": 18,
   "id": "f5a80061",
   "metadata": {},
   "outputs": [
    {
     "name": "stdout",
     "output_type": "stream",
     "text": [
      "Enter first number: 5\n",
      "Enter second number: 6\n",
      "30\n"
     ]
    }
   ],
   "source": [
    "x = int(input(\"Enter first number: \"))\n",
    "y = int(input(\"Enter second number: \"))\n",
    "\n",
    "def product(num1, num2):\n",
    "    multiplication = num1 * num2\n",
    "    print(multiplication)\n",
    "\n",
    "product(num1 = x, num2 = y)"
   ]
  },
  {
   "cell_type": "markdown",
   "id": "c686fe95",
   "metadata": {},
   "source": [
    "# Returning values in function"
   ]
  },
  {
   "cell_type": "code",
   "execution_count": 25,
   "id": "b2d8a6bd",
   "metadata": {},
   "outputs": [],
   "source": [
    "def mul(num1, num2):\n",
    "    product = num1 * num2\n",
    "    return product;\n",
    "\n",
    "output = mul(num1 = x, num2 = y)"
   ]
  },
  {
   "cell_type": "code",
   "execution_count": 29,
   "id": "2bfcdfc6",
   "metadata": {},
   "outputs": [],
   "source": [
    "def square(num):\n",
    "    sq = num ** 2\n",
    "    return sq"
   ]
  },
  {
   "cell_type": "code",
   "execution_count": 31,
   "id": "1eccaebb",
   "metadata": {},
   "outputs": [
    {
     "name": "stdout",
     "output_type": "stream",
     "text": [
      "Enter first number: 5\n",
      "Enter second number: 6\n",
      "900\n"
     ]
    }
   ],
   "source": [
    "x = int(input(\"Enter first number: \"))\n",
    "y = int(input(\"Enter second number: \"))\n",
    "\n",
    "output = mul(num1 = x, num2 = y)\n",
    "output = square(num = output)\n",
    "print(squared)"
   ]
  },
  {
   "cell_type": "markdown",
   "id": "db4803cd",
   "metadata": {},
   "source": [
    "# Default arguments vs non default arguments"
   ]
  },
  {
   "cell_type": "code",
   "execution_count": 7,
   "id": "33178823",
   "metadata": {},
   "outputs": [],
   "source": [
    "def greet(name, msg):\n",
    "    print(f\"Hi {name}, {msg}!\")"
   ]
  },
  {
   "cell_type": "code",
   "execution_count": 8,
   "id": "3c536f81",
   "metadata": {},
   "outputs": [
    {
     "name": "stdout",
     "output_type": "stream",
     "text": [
      "Hi Sandesh,Good Morning!\n"
     ]
    }
   ],
   "source": [
    "greet(name = \"Sandesh\", msg = \"Good Morning\")"
   ]
  },
  {
   "cell_type": "markdown",
   "id": "0fe9c13f",
   "metadata": {},
   "source": [
    "# Default argument"
   ]
  },
  {
   "cell_type": "code",
   "execution_count": 15,
   "id": "c6ea88ae",
   "metadata": {},
   "outputs": [],
   "source": [
    "def greet(name, msg = \"Good Morning!\"):    # msg is a default argument\n",
    "    print(f\"Hi {name}, {msg}\")"
   ]
  },
  {
   "cell_type": "code",
   "execution_count": 16,
   "id": "3d73673d",
   "metadata": {},
   "outputs": [
    {
     "name": "stdout",
     "output_type": "stream",
     "text": [
      "Hi Rame, Good Morning!\n"
     ]
    }
   ],
   "source": [
    "greet(name = \"Rame\")"
   ]
  },
  {
   "cell_type": "code",
   "execution_count": 17,
   "id": "901a2213",
   "metadata": {
    "scrolled": true
   },
   "outputs": [
    {
     "name": "stdout",
     "output_type": "stream",
     "text": [
      "Hi Ram, Good Afternoon!\n"
     ]
    }
   ],
   "source": [
    "greet(name = \"Ram\", msg = \"Good Afternoon!\")   # Overwrites the value o default argument."
   ]
  },
  {
   "cell_type": "markdown",
   "id": "00d24042",
   "metadata": {},
   "source": [
    "# Non default argument doesn't follow default argument."
   ]
  },
  {
   "cell_type": "code",
   "execution_count": 19,
   "id": "b3e65e4b",
   "metadata": {},
   "outputs": [
    {
     "ename": "SyntaxError",
     "evalue": "non-default argument follows default argument (209982652.py, line 2)",
     "output_type": "error",
     "traceback": [
      "\u001b[1;36m  Cell \u001b[1;32mIn[19], line 2\u001b[1;36m\u001b[0m\n\u001b[1;33m    def greet(msg = \"Good Morning!\", name):    # msg is a default argument\u001b[0m\n\u001b[1;37m                                     ^\u001b[0m\n\u001b[1;31mSyntaxError\u001b[0m\u001b[1;31m:\u001b[0m non-default argument follows default argument\n"
     ]
    }
   ],
   "source": [
    "# Non Defaul argument\n",
    "def greet(msg = \"Good Morning!\", name):    # msg is a default argument\n",
    "    print(f\"Hi {name}, {msg}\")"
   ]
  },
  {
   "cell_type": "markdown",
   "id": "d29d0a41",
   "metadata": {},
   "source": [
    "* name = Non default argument\n",
    "* msg = default argument"
   ]
  },
  {
   "cell_type": "code",
   "execution_count": null,
   "id": "66fff76b",
   "metadata": {},
   "outputs": [],
   "source": []
  },
  {
   "cell_type": "markdown",
   "id": "dee8b34b",
   "metadata": {},
   "source": [
    "# Returning multiple value in function"
   ]
  },
  {
   "cell_type": "code",
   "execution_count": 20,
   "id": "e3b10246",
   "metadata": {},
   "outputs": [
    {
     "data": {
      "text/plain": [
       "3.141592653589793"
      ]
     },
     "execution_count": 20,
     "metadata": {},
     "output_type": "execute_result"
    }
   ],
   "source": [
    "import math\n",
    "math.pi"
   ]
  },
  {
   "cell_type": "code",
   "execution_count": 21,
   "id": "c1570e25",
   "metadata": {},
   "outputs": [
    {
     "data": {
      "text/plain": [
       "10"
      ]
     },
     "execution_count": 21,
     "metadata": {},
     "output_type": "execute_result"
    }
   ],
   "source": [
    "math.gcd(30, 20, 40)"
   ]
  },
  {
   "cell_type": "code",
   "execution_count": 23,
   "id": "aba52eaa",
   "metadata": {},
   "outputs": [
    {
     "data": {
      "text/plain": [
       "120"
      ]
     },
     "execution_count": 23,
     "metadata": {},
     "output_type": "execute_result"
    }
   ],
   "source": [
    "math.lcm(30, 20, 40)"
   ]
  },
  {
   "cell_type": "code",
   "execution_count": 29,
   "id": "a5af902e",
   "metadata": {},
   "outputs": [],
   "source": [
    "import math\n",
    "def get_hcf_lcm(num1, num2):\n",
    "    hcf = math.gcd(num1, num2)\n",
    "    lcm = math.lcm(num1, num2)\n",
    "    return hcf, lcm"
   ]
  },
  {
   "cell_type": "code",
   "execution_count": 31,
   "id": "82e3b6c7",
   "metadata": {},
   "outputs": [
    {
     "data": {
      "text/plain": [
       "(2, 40)"
      ]
     },
     "execution_count": 31,
     "metadata": {},
     "output_type": "execute_result"
    }
   ],
   "source": [
    "get_hcf_lcm(num1 = 10, num2 = 8)"
   ]
  },
  {
   "cell_type": "code",
   "execution_count": 35,
   "id": "5fcf23d9",
   "metadata": {},
   "outputs": [],
   "source": [
    "hcf, lcm = get_hcf_lcm(num1 = 10, num2 = 8)   # Tuple ma answer aauxa --- Unpack it"
   ]
  },
  {
   "cell_type": "code",
   "execution_count": 36,
   "id": "2ae28515",
   "metadata": {},
   "outputs": [
    {
     "data": {
      "text/plain": [
       "2"
      ]
     },
     "execution_count": 36,
     "metadata": {},
     "output_type": "execute_result"
    }
   ],
   "source": [
    "hcf"
   ]
  },
  {
   "cell_type": "code",
   "execution_count": 37,
   "id": "bc38a15c",
   "metadata": {},
   "outputs": [
    {
     "data": {
      "text/plain": [
       "40"
      ]
     },
     "execution_count": 37,
     "metadata": {},
     "output_type": "execute_result"
    }
   ],
   "source": [
    "lcm"
   ]
  },
  {
   "cell_type": "markdown",
   "id": "2f16d7d2",
   "metadata": {},
   "source": [
    "# Volume of a sphere using function. Generate radius using random number with range(1, 25), use seed = 0"
   ]
  },
  {
   "cell_type": "code",
   "execution_count": 51,
   "id": "2a577aa2",
   "metadata": {},
   "outputs": [],
   "source": [
    "import math\n",
    "import random\n",
    "def volume(radius, pi = math.pi):\n",
    "    vol = 4/3 * (pi * (radius ** 3))\n",
    "    return(vol)"
   ]
  },
  {
   "cell_type": "code",
   "execution_count": 59,
   "id": "8c153c96",
   "metadata": {},
   "outputs": [
    {
     "name": "stdout",
     "output_type": "stream",
     "text": [
      "Volume of sphere with radius 13 is 9202.77\n"
     ]
    }
   ],
   "source": [
    "random.seed(0)\n",
    "rad = random.randint(1,25)\n",
    "vol = volume(radius = rad)\n",
    "print(f\"Volume of sphere with radius {rad} is {round(vol, 2)}\")"
   ]
  },
  {
   "cell_type": "markdown",
   "id": "9b35f27d",
   "metadata": {},
   "source": [
    "# Loca vs Global"
   ]
  },
  {
   "cell_type": "code",
   "execution_count": 66,
   "id": "dfe51738",
   "metadata": {},
   "outputs": [],
   "source": [
    "x = 'Yogesh'\n",
    "\n",
    "def make_viral():\n",
    "    z = 'neta'\n",
    "    x = \"Baiguni kto\"\n",
    "    print(x)"
   ]
  },
  {
   "cell_type": "code",
   "execution_count": 67,
   "id": "42cf2f4a",
   "metadata": {},
   "outputs": [
    {
     "data": {
      "text/plain": [
       "'Yogesh'"
      ]
     },
     "execution_count": 67,
     "metadata": {},
     "output_type": "execute_result"
    }
   ],
   "source": [
    "x"
   ]
  },
  {
   "cell_type": "code",
   "execution_count": 68,
   "id": "77136f4c",
   "metadata": {},
   "outputs": [
    {
     "name": "stdout",
     "output_type": "stream",
     "text": [
      "Baiguni kto\n"
     ]
    }
   ],
   "source": [
    "make_viral()"
   ]
  },
  {
   "cell_type": "code",
   "execution_count": 69,
   "id": "fd2d558a",
   "metadata": {},
   "outputs": [
    {
     "data": {
      "text/plain": [
       "'Yogesh'"
      ]
     },
     "execution_count": 69,
     "metadata": {},
     "output_type": "execute_result"
    }
   ],
   "source": [
    "x"
   ]
  },
  {
   "cell_type": "code",
   "execution_count": 70,
   "id": "79727f4b",
   "metadata": {},
   "outputs": [
    {
     "ename": "NameError",
     "evalue": "name 'z' is not defined",
     "output_type": "error",
     "traceback": [
      "\u001b[1;31m---------------------------------------------------------------------------\u001b[0m",
      "\u001b[1;31mNameError\u001b[0m                                 Traceback (most recent call last)",
      "Cell \u001b[1;32mIn[70], line 1\u001b[0m\n\u001b[1;32m----> 1\u001b[0m \u001b[43mz\u001b[49m\n",
      "\u001b[1;31mNameError\u001b[0m: name 'z' is not defined"
     ]
    }
   ],
   "source": [
    "z"
   ]
  },
  {
   "cell_type": "code",
   "execution_count": null,
   "id": "d953d5e5",
   "metadata": {},
   "outputs": [],
   "source": []
  },
  {
   "cell_type": "code",
   "execution_count": 74,
   "id": "6e5e1163",
   "metadata": {},
   "outputs": [],
   "source": [
    "x = 'Yogesh'\n",
    "\n",
    "def make_viral():\n",
    "    global x\n",
    "    global z\n",
    "    z = 'neta'\n",
    "    x = \"Baiguni kto\"\n",
    "    print(x)"
   ]
  },
  {
   "cell_type": "code",
   "execution_count": 77,
   "id": "97d83bbb",
   "metadata": {},
   "outputs": [
    {
     "name": "stdout",
     "output_type": "stream",
     "text": [
      "Baiguni kto\n"
     ]
    }
   ],
   "source": [
    "make_viral()"
   ]
  },
  {
   "cell_type": "code",
   "execution_count": 78,
   "id": "fcd23953",
   "metadata": {},
   "outputs": [
    {
     "data": {
      "text/plain": [
       "'Baiguni kto'"
      ]
     },
     "execution_count": 78,
     "metadata": {},
     "output_type": "execute_result"
    }
   ],
   "source": [
    "x"
   ]
  },
  {
   "cell_type": "code",
   "execution_count": 79,
   "id": "9d74c6b2",
   "metadata": {},
   "outputs": [
    {
     "data": {
      "text/plain": [
       "'neta'"
      ]
     },
     "execution_count": 79,
     "metadata": {},
     "output_type": "execute_result"
    }
   ],
   "source": [
    "z"
   ]
  },
  {
   "cell_type": "code",
   "execution_count": null,
   "id": "d5b0cd38",
   "metadata": {},
   "outputs": [],
   "source": []
  }
 ],
 "metadata": {
  "kernelspec": {
   "display_name": "Python 3 (ipykernel)",
   "language": "python",
   "name": "python3"
  },
  "language_info": {
   "codemirror_mode": {
    "name": "ipython",
    "version": 3
   },
   "file_extension": ".py",
   "mimetype": "text/x-python",
   "name": "python",
   "nbconvert_exporter": "python",
   "pygments_lexer": "ipython3",
   "version": "3.10.11"
  }
 },
 "nbformat": 4,
 "nbformat_minor": 5
}
