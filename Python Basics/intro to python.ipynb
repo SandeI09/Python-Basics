{
 "cells": [
  {
   "cell_type": "markdown",
   "id": "1a98b05e",
   "metadata": {},
   "source": [
    "# Pypi repository\n",
    "* To install any framework through pip => go to pypi.org and search for the command.\n",
    "* pypi is a repository where we can find different types of extensions to add to our Python.\n"
   ]
  },
  {
   "cell_type": "code",
   "execution_count": 11,
   "id": "2ec2d547",
   "metadata": {},
   "outputs": [
    {
     "name": "stdout",
     "output_type": "stream",
     "text": [
      "17\n",
      "72\n",
      "Hello 'world'\n"
     ]
    }
   ],
   "source": [
    "x = 8\n",
    "y = 9\n",
    "mul = x*y\n",
    "print(x+y)\n",
    "print(mul)\n",
    "print(\"Hello 'world'\") # String or text quote vitra lekhni\n",
    "#This is a comment"
   ]
  },
  {
   "cell_type": "code",
   "execution_count": 5,
   "id": "3f8510e0",
   "metadata": {},
   "outputs": [
    {
     "name": "stdout",
     "output_type": "stream",
     "text": [
      "Hello World\n"
     ]
    }
   ],
   "source": [
    "print(\"Hello World\")"
   ]
  },
  {
   "cell_type": "markdown",
   "id": "5190b841",
   "metadata": {},
   "source": [
    "# Arithmetic operator\n",
    "Arithmetic operators are used with numeric values to perform common mathematical operations:\n",
    "* Addition (+)\n",
    "* Subtraction (-)\n",
    "* Multiplicaton (*)\n",
    "* Division (/)\n",
    "* Modulus (%)\n",
    "* Exponentiation (**)\n",
    "* Floor division (//)"
   ]
  },
  {
   "cell_type": "code",
   "execution_count": 6,
   "id": "4485d534",
   "metadata": {},
   "outputs": [
    {
     "data": {
      "text/plain": [
       "1"
      ]
     },
     "execution_count": 6,
     "metadata": {},
     "output_type": "execute_result"
    }
   ],
   "source": [
    "15%2 #It gives remainder"
   ]
  },
  {
   "cell_type": "code",
   "execution_count": 7,
   "id": "57e6927b",
   "metadata": {},
   "outputs": [
    {
     "data": {
      "text/plain": [
       "6"
      ]
     },
     "execution_count": 7,
     "metadata": {},
     "output_type": "execute_result"
    }
   ],
   "source": [
    "2**2 #It gives power\n",
    "2*3 #It is 2 to the power 3"
   ]
  },
  {
   "cell_type": "code",
   "execution_count": 8,
   "id": "74ec6a1f",
   "metadata": {},
   "outputs": [
    {
     "data": {
      "text/plain": [
       "7"
      ]
     },
     "execution_count": 8,
     "metadata": {},
     "output_type": "execute_result"
    }
   ],
   "source": [
    "15//2 #It gives integer(Floor value)"
   ]
  },
  {
   "cell_type": "markdown",
   "id": "da459b50",
   "metadata": {},
   "source": [
    "# Write all the above examples in algebra"
   ]
  },
  {
   "cell_type": "code",
   "execution_count": 8,
   "id": "dd5bae9a",
   "metadata": {},
   "outputs": [
    {
     "name": "stdout",
     "output_type": "stream",
     "text": [
      "Addition = 23\n",
      "Subtraction = 17\n",
      "Multiplication = 60\n",
      "Division = 6.67\n",
      "modulus = 2\n",
      "Exponentiation = 8000\n",
      "Floor Division = 6\n"
     ]
    }
   ],
   "source": [
    "x = 20\n",
    "y = 3\n",
    "Addition = x + y\n",
    "Subtraction = x - y\n",
    "Multiplication = x * y\n",
    "Division = x / y\n",
    "modulus = x % y\n",
    "exponentiation = x ** y\n",
    "floorDivision = x // y\n",
    "\n",
    "print(\"Addition =\",Addition)\n",
    "print(\"Subtraction =\",Subtraction)\n",
    "print(\"Multiplication =\",Multiplication)\n",
    "print(\"Division = {:.2f}\".format(Division))\n",
    "print(\"modulus =\",modulus)\n",
    "print(\"Exponentiation =\",exponentiation)\n",
    "print(\"Floor Division =\",floorDivision)"
   ]
  },
  {
   "cell_type": "code",
   "execution_count": null,
   "id": "f56e2a33",
   "metadata": {},
   "outputs": [],
   "source": []
  }
 ],
 "metadata": {
  "kernelspec": {
   "display_name": "Python 3 (ipykernel)",
   "language": "python",
   "name": "python3"
  },
  "language_info": {
   "codemirror_mode": {
    "name": "ipython",
    "version": 3
   },
   "file_extension": ".py",
   "mimetype": "text/x-python",
   "name": "python",
   "nbconvert_exporter": "python",
   "pygments_lexer": "ipython3",
   "version": "3.10.11"
  }
 },
 "nbformat": 4,
 "nbformat_minor": 5
}
