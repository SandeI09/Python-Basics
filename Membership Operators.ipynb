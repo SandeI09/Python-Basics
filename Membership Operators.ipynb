{
 "cells": [
  {
   "cell_type": "markdown",
   "id": "e2542ec4",
   "metadata": {},
   "source": [
    "# How to check if something is in the list or not?  ---Membership Operators"
   ]
  },
  {
   "cell_type": "code",
   "execution_count": 1,
   "id": "1d0ae535",
   "metadata": {},
   "outputs": [],
   "source": [
    "neta = ['Balen Shah', 'Harka Sampang', 'Gyanendra Sahi', 'Gopi Hamal']"
   ]
  },
  {
   "cell_type": "code",
   "execution_count": 2,
   "id": "8ae958fe",
   "metadata": {},
   "outputs": [
    {
     "data": {
      "text/plain": [
       "False"
      ]
     },
     "execution_count": 2,
     "metadata": {},
     "output_type": "execute_result"
    }
   ],
   "source": [
    "'Puspa Kamal' in neta"
   ]
  },
  {
   "cell_type": "code",
   "execution_count": 3,
   "id": "030a71a2",
   "metadata": {},
   "outputs": [
    {
     "data": {
      "text/plain": [
       "True"
      ]
     },
     "execution_count": 3,
     "metadata": {},
     "output_type": "execute_result"
    }
   ],
   "source": [
    "'Balen Shah' in neta"
   ]
  },
  {
   "cell_type": "code",
   "execution_count": 4,
   "id": "8583c780",
   "metadata": {},
   "outputs": [
    {
     "data": {
      "text/plain": [
       "True"
      ]
     },
     "execution_count": 4,
     "metadata": {},
     "output_type": "execute_result"
    }
   ],
   "source": [
    "'Kp Ba' not in neta"
   ]
  },
  {
   "cell_type": "markdown",
   "id": "96bc104a",
   "metadata": {},
   "source": [
    "# `in and not in` are membership operators in Python"
   ]
  },
  {
   "cell_type": "code",
   "execution_count": 5,
   "id": "39704fe1",
   "metadata": {},
   "outputs": [],
   "source": [
    "mayor = 'Balen'"
   ]
  },
  {
   "cell_type": "code",
   "execution_count": 8,
   "id": "d64aaadb",
   "metadata": {},
   "outputs": [
    {
     "data": {
      "text/plain": [
       "True"
      ]
     },
     "execution_count": 8,
     "metadata": {},
     "output_type": "execute_result"
    }
   ],
   "source": [
    "'Balen' in mayor   # Balen is substring of Balen Shah"
   ]
  },
  {
   "cell_type": "code",
   "execution_count": null,
   "id": "55c019e8",
   "metadata": {},
   "outputs": [],
   "source": []
  }
 ],
 "metadata": {
  "kernelspec": {
   "display_name": "Python 3 (ipykernel)",
   "language": "python",
   "name": "python3"
  },
  "language_info": {
   "codemirror_mode": {
    "name": "ipython",
    "version": 3
   },
   "file_extension": ".py",
   "mimetype": "text/x-python",
   "name": "python",
   "nbconvert_exporter": "python",
   "pygments_lexer": "ipython3",
   "version": "3.10.11"
  }
 },
 "nbformat": 4,
 "nbformat_minor": 5
}
